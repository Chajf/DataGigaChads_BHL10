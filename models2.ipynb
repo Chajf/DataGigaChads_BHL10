{
 "cells": [
  {
   "cell_type": "code",
   "execution_count": 1,
   "metadata": {},
   "outputs": [],
   "source": [
    "import pandas as pd\n",
    "from sklearn.model_selection import train_test_split\n",
    "from sklearn.metrics import accuracy_score\n",
    "from sklearn.metrics import confusion_matrix\n",
    "from collections import Counter\n",
    "from imblearn.over_sampling import SMOTE\n",
    "from sklearn.preprocessing import StandardScaler\n",
    "from sklearn.model_selection import RandomizedSearchCV\n",
    "from xgboost import XGBClassifier\n",
    "from sklearn.metrics import classification_report\n",
    "\n",
    "import numpy as np\n",
    "import seaborn as sns\n",
    "import matplotlib.pyplot as plt"
   ]
  },
  {
   "cell_type": "code",
   "execution_count": 54,
   "metadata": {},
   "outputs": [
    {
     "name": "stdout",
     "output_type": "stream",
     "text": [
      "Tables in the database:\n",
      "          name\n",
      "0        FLEET\n",
      "1      ROCKETS\n",
      "2  SPACECRAFTS\n",
      "3    ASTEROIDS\n",
      "       Spkid    Surname     Name  OCC  Diameter    TOF          Launch_date  \\\n",
      "0    2000433    1898 DQ     Eros    0    16.840  270.0  2025-08-13 00:00:00   \n",
      "1    2000719    1911 MT   Albert    0     4.390  180.0  2048-04-22 00:00:00   \n",
      "2    2000887    1918 DB   Alinda    0     4.200  420.0  2025-01-01 00:00:00   \n",
      "3    2001036    1924 TD  Ganymed    0    37.675  160.0  2037-05-18 00:00:00   \n",
      "4    2001580    1950 KA  Betulia    0     5.800  440.0  2027-12-09 00:00:00   \n",
      "..       ...        ...      ...  ...       ...    ...                  ...   \n",
      "321  3114075   2002 DO3     None    6     0.230  310.0  2039-07-17 00:00:00   \n",
      "322  3114077   2002 DQ3     None    6     0.100  380.0  2032-06-13 00:00:00   \n",
      "323  3114105    2002 EA     None    8     0.180  120.0  2030-09-02 00:00:00   \n",
      "324  3114106    2002 EC     None    7     0.120  430.0  2042-09-29 00:00:00   \n",
      "325  3448992  2009 DD45     None    4     0.040  230.0  2037-08-06 00:00:00   \n",
      "\n",
      "     Min_dv  Duration  Stay  \n",
      "0     14.41       348     8  \n",
      "1     23.15       448     8  \n",
      "2     20.59       388     8  \n",
      "3     31.36       348     8  \n",
      "4     40.73       350    10  \n",
      "..      ...       ...   ...  \n",
      "321   11.46       338     8  \n",
      "322   10.93       443     8  \n",
      "323   15.00       353     8  \n",
      "324   13.27       173     8  \n",
      "325   11.67       393    18  \n",
      "\n",
      "[326 rows x 10 columns]\n"
     ]
    }
   ],
   "source": [
    "import sqlite3\n",
    "import pandas as pd\n",
    "\n",
    "# Specify the path to your .db file\n",
    "db_path = 'data/database.db'\n",
    "\n",
    "# Connect to the database\n",
    "conn = sqlite3.connect(db_path)\n",
    "\n",
    "# Get a list of all tables in the database (optional)\n",
    "query = \"SELECT name FROM sqlite_master WHERE type='table';\"\n",
    "tables = pd.read_sql(query, conn)\n",
    "print(\"Tables in the database:\")\n",
    "print(tables)\n",
    "\n",
    "# Load data from a specific table into a pandas DataFrame\n",
    "table_name = 'ASTEROIDS'  # Replace with the actual table name\n",
    "df3 = pd.read_sql(f\"SELECT * FROM {table_name};\", conn)\n",
    "\n",
    "# Close the connection\n",
    "conn.close()\n",
    "\n",
    "# Display the DataFrame\n",
    "print(df3)"
   ]
  },
  {
   "cell_type": "code",
   "execution_count": 2,
   "metadata": {},
   "outputs": [],
   "source": [
    "dtype_dict = {\n",
    "    'spec_B': str,\n",
    "    'spec_T': str,\n",
    "    'spkid': str,\n",
    "    'full_name': str,\n",
    "    'name': str\n",
    "    # Add other column mappings as necessary\n",
    "}\n",
    "df1 = pd.read_csv(\"data/spec.csv\", dtype=dtype_dict)\n",
    "len(df1)\n",
    "df1 = df1[df1['spec_T'].notna()]\n",
    "df1 = df1.drop(['spec_B', 'name', 'full_name'], axis=1)\n",
    "df1 = df1[df1[\"spkid\"].notna()]"
   ]
  },
  {
   "cell_type": "code",
   "execution_count": 3,
   "metadata": {},
   "outputs": [],
   "source": [
    "df1[\"spkid\"] = df1[\"spkid\"].apply(lambda x: x.replace(\"0\", \"\", 1))"
   ]
  },
  {
   "cell_type": "code",
   "execution_count": 4,
   "metadata": {},
   "outputs": [],
   "source": [
    "dtype_dict = {\n",
    "    'pdes': str,\n",
    "    'name': str,\n",
    "    'prefix': str,\n",
    "    'neo': str,\n",
    "    'spkid': str\n",
    "}\n",
    "df2 = pd.read_csv(\"data/ast_info.csv\", dtype = dtype_dict)\n",
    "ids = df2['spkid']\n",
    "len(df2)\n",
    "df2 = df2.drop([\"id\", \"full_name\", \"pdes\", \"prefix\", 'name'], axis=1)\n",
    "df2 = df2[df2[\"spkid\"].notna()]\n",
    "df2['neo'] = df2['neo'].replace({'Y': 1, 'N': 0})"
   ]
  },
  {
   "cell_type": "code",
   "execution_count": 5,
   "metadata": {},
   "outputs": [],
   "source": [
    "merged_df = pd.merge(df1, df2, on='spkid', how='right')"
   ]
  },
  {
   "cell_type": "code",
   "execution_count": 6,
   "metadata": {},
   "outputs": [
    {
     "data": {
      "text/plain": [
       "958524"
      ]
     },
     "execution_count": 6,
     "metadata": {},
     "output_type": "execute_result"
    }
   ],
   "source": [
    "len(merged_df)"
   ]
  },
  {
   "cell_type": "code",
   "execution_count": 7,
   "metadata": {},
   "outputs": [],
   "source": [
    "useful_columns = [\n",
    "    'H',           # Absolute Magnitude\n",
    "    'albedo',      # Reflectivity\n",
    "    'diameter',    # Object Diameter\n",
    "    'i',           # Inclination\n",
    "    'a',           # Semi-major Axis\n",
    "    'q',           # Perihelion Distance\n",
    "    'e',           # Eccentricity\n",
    "    'neo',         # Near-Earth Object Flag\n",
    "    'spec_T'         \n",
    "]\n",
    "\n",
    "# Filter the DataFrame to keep only the useful columns\n",
    "merged_df = merged_df[useful_columns]"
   ]
  },
  {
   "cell_type": "code",
   "execution_count": 8,
   "metadata": {},
   "outputs": [],
   "source": [
    "# asteroid_data = {\n",
    "#     \"composition\": ['G', 'B', 'S', 'V', 'C', 'M', 'E', 'FC', 'P', 'CG', 'X', 'CU', \n",
    "#        'CF', 'XC', 'CP', 'BU', 'TDG', 'MU', 'T', 'GC', 'DCX', 'ST', 'CX',\n",
    "#        'SU', 'SR', 'CPF', 'F', 'GU', 'I', 'XFC', 'STU', 'CD', 'GC:', 'C:',\n",
    "#        'XC:', 'DCX:', 'BCU', 'A', 'SCTU', 'CX:', 'DU', 'PC', 'D', 'BFU::',\n",
    "#        'CXF', 'FP', 'CSGU', 'R', 'DP', 'QSV', 'BFC', 'PD', 'DT', 'DX',\n",
    "#        'F:', 'X:', 'TD', 'CSU', 'CB', 'FCX', 'FXU:', 'CGU', 'DU:', 'XD:',\n",
    "#        'XCU', 'CDX:', 'CFB:', 'XDC', 'PCD', 'TSD', 'FCX:', 'XB:', 'SD',\n",
    "#        'CD:', 'CP:', 'DX:', 'STGD', 'CGSU', 'FX:', 'XF', 'SC', 'CPU:',\n",
    "#        'XD', 'DXCU', 'XFU', 'GS:', 'CBU:', 'CTGU:', 'FCB', 'XB', 'DTU',\n",
    "#        'CB:', 'FC:', 'FU', 'PF', 'CFU:', 'XSC', 'DTU:', 'CGTP:', 'FCU',\n",
    "#        'MU:', 'PDC', 'BC:', 'FX', 'XU', 'BCF', 'P:', 'PU', 'XSCU', 'AS',\n",
    "#        'G:', 'CBU', 'FBCU::', 'AU:', 'XFCU', 'Q', 'SQ', 'SMU', 'BU:',\n",
    "#        'TCG:', 'DSU:', 'CFXU', 'SG', 'BCU:', 'EU', 'SDU::', 'BFX', 'QRS',\n",
    "#        'TS', 'Z']\n",
    "# }\n",
    "\n",
    "# Define mapping for each type\n",
    "other_types = {'C', 'G', 'B', 'F', 'P', 'D', 'G:', 'C:', 'CG', 'CGU', 'CB', 'CB:', 'FC', 'FC:', 'BC', 'BC:', 'CP', 'CPF', 'PC', 'DCX', 'CD', 'CDX:', 'FCU', 'FCB', 'S', 'SU', 'SR', 'SQ', 'ST', 'SC', 'SCU', 'CSU', 'SD', 'SDU::', 'TS', 'STU', 'SCTU', 'AS'}\n",
    "m_types = {'M', 'MU', 'MU:', 'E', 'X', 'XF', 'XFC', 'XCU', 'XU', 'XSC', 'XSCU'}\n",
    "\n",
    "# Function to map composition to spec_T\n",
    "def map_spec_type(comp):\n",
    "    if comp in other_types:\n",
    "        return 'Other'\n",
    "    elif comp in m_types:\n",
    "        return 'M'\n",
    "    else:\n",
    "        return None\n",
    "\n",
    "# Apply the mapping\n",
    "merged_df[\"spec_T\"] = merged_df[\"spec_T\"].apply(map_spec_type)\n",
    "\n",
    "# Filter out rows where spec_T is None (i.e., mixed or unmapped types)\n",
    "merged_df = merged_df.dropna()"
   ]
  },
  {
   "cell_type": "code",
   "execution_count": 9,
   "metadata": {},
   "outputs": [
    {
     "data": {
      "text/plain": [
       "778"
      ]
     },
     "execution_count": 9,
     "metadata": {},
     "output_type": "execute_result"
    }
   ],
   "source": [
    "len(merged_df)"
   ]
  },
  {
   "cell_type": "code",
   "execution_count": 10,
   "metadata": {},
   "outputs": [],
   "source": [
    "X = merged_df.drop([\"spec_T\"], axis=1)\n",
    "y = merged_df[\"spec_T\"]\n",
    "X_train, X_test, y_train, y_test = train_test_split(\n",
    "    X, y, test_size=0.33, random_state=42)"
   ]
  },
  {
   "cell_type": "code",
   "execution_count": 11,
   "metadata": {},
   "outputs": [
    {
     "data": {
      "text/plain": [
       "521"
      ]
     },
     "execution_count": 11,
     "metadata": {},
     "output_type": "execute_result"
    }
   ],
   "source": [
    "len(X_train)"
   ]
  },
  {
   "cell_type": "code",
   "execution_count": 12,
   "metadata": {},
   "outputs": [],
   "source": [
    "smote = SMOTE(sampling_strategy={'Other': max(Counter(y_train).values()),\n",
    "                                 'M': max(Counter(y_train).values())},\n",
    "              random_state=42)"
   ]
  },
  {
   "cell_type": "code",
   "execution_count": 13,
   "metadata": {},
   "outputs": [],
   "source": [
    "from sklearn.preprocessing import StandardScaler\n",
    "\n",
    "train_neo = X_train[\"neo\"]\n",
    "test_neo = X_test[\"neo\"]\n",
    "\n",
    "# Drop the \"neo\" column for scaling\n",
    "train_features = X_train.drop(columns=[\"neo\"])\n",
    "test_features = X_test.drop(columns=[\"neo\"])\n",
    "\n",
    "# Apply Standard Scaling\n",
    "scaler = StandardScaler()\n",
    "train_scaled = scaler.fit_transform(train_features)\n",
    "test_scaled = scaler.transform(test_features)\n",
    "\n",
    "# Convert back to DataFrame\n",
    "train_scaled_df = pd.DataFrame(train_scaled, columns=train_features.columns)\n",
    "test_scaled_df = pd.DataFrame(test_scaled, columns=test_features.columns)\n",
    "\n",
    "# Add the \"neo\" column back\n",
    "X_train[\"neo\"] = train_neo.values\n",
    "X_test[\"neo\"] = test_neo.values"
   ]
  },
  {
   "cell_type": "code",
   "execution_count": 14,
   "metadata": {},
   "outputs": [],
   "source": [
    "X_train, y_train = smote.fit_resample(X_train, y_train)"
   ]
  },
  {
   "cell_type": "code",
   "execution_count": 15,
   "metadata": {},
   "outputs": [],
   "source": [
    "mapping = {'M': 0, 'Other': 1}\n",
    "y_train_mapped = y_train.map(mapping)\n",
    "y_test_mapped = y_test.map(mapping)"
   ]
  },
  {
   "cell_type": "code",
   "execution_count": 91,
   "metadata": {},
   "outputs": [],
   "source": []
  },
  {
   "cell_type": "code",
   "execution_count": 96,
   "metadata": {},
   "outputs": [
    {
     "name": "stdout",
     "output_type": "stream",
     "text": [
      "Fitting 10 folds for each of 100 candidates, totalling 1000 fits\n"
     ]
    }
   ],
   "source": [
    "xgb_model = XGBClassifier()\n",
    "\n",
    "#Define the parameter grid\n",
    "param_dist = {\n",
    "    'n_estimators': [50, 100, 200],\n",
    "    'learning_rate': np.linspace(0.01, 0.3, 10),\n",
    "    'max_depth': [3, 4, 5, 6, 7],\n",
    "    'min_child_weight': [1, 2, 3, 4],\n",
    "    'subsample': np.linspace(0.5, 1.0, 5),\n",
    "    'colsample_bytree': np.linspace(0.5, 1.0, 5),\n",
    "    'gamma': [0, 0.1, 0.2, 0.3],\n",
    "}\n",
    "\n",
    "# Set up RandomizedSearchCV\n",
    "random_search = RandomizedSearchCV(\n",
    "    estimator=xgb_model,\n",
    "    param_distributions=param_dist,\n",
    "    n_iter=100,  # Number of parameter settings sampled\n",
    "    scoring='accuracy',  # Scoring metric\n",
    "    cv=10,  # Cross-validation folds\n",
    "    verbose=1,\n",
    "    random_state=42,\n",
    "    n_jobs=-1  # Use all available cores\n",
    ")\n",
    "\n",
    "# Fit the random search\n",
    "random_search.fit(X_train, y_train_mapped)\n",
    "best_model = random_search.best_estimator_\n",
    "y_pred = best_model.predict(X_test)"
   ]
  },
  {
   "cell_type": "code",
   "execution_count": 97,
   "metadata": {},
   "outputs": [
    {
     "data": {
      "text/plain": [
       "<Axes: >"
      ]
     },
     "execution_count": 97,
     "metadata": {},
     "output_type": "execute_result"
    },
    {
     "data": {
      "image/png": "[encoded data removed]",
      "text/plain": [
       "<Figure size 1000x700 with 2 Axes>"
      ]
     },
     "metadata": {},
     "output_type": "display_data"
    }
   ],
   "source": [
    "import pickle\n",
    "with open('model.pkl', 'wb') as file:\n",
    "    pickle.dump(best_model, file)\n",
    "cm = confusion_matrix(y_test_mapped, y_pred)\n",
    "plt.figure(figsize = (10,7))\n",
    "sns.heatmap(cm, annot=True)"
   ]
  },
  {
   "cell_type": "code",
   "execution_count": 17,
   "metadata": {},
   "outputs": [
    {
     "name": "stdout",
     "output_type": "stream",
     "text": [
      "Fitting 10 folds for each of 50 candidates, totalling 500 fits\n"
     ]
    }
   ],
   "source": [
    "xgb_model = XGBClassifier(objective=\"binary:logistic\")\n",
    "\n",
    "X = merged_df.drop([\"spec_T\"], axis=1)\n",
    "y = merged_df[\"spec_T\"]\n",
    "\n",
    "# Apply SMOTE to balance the dataset\n",
    "smote = SMOTE(sampling_strategy={'Other': max(Counter(y).values()),\n",
    "                                 'M': max(Counter(y).values())},\n",
    "              random_state=42)\n",
    "\n",
    "X_resampled, y_resampled = smote.fit_resample(X, y)\n",
    "\n",
    "# Separate \"neo\" column for scaling the rest\n",
    "neo_column = X_resampled[\"neo\"].values  # Ensure neo is stored correctly\n",
    "\n",
    "# Drop the \"neo\" column for scaling\n",
    "features_to_scale = X_resampled.drop(columns=[\"neo\"])\n",
    "\n",
    "# Apply Standard Scaling\n",
    "scaler = StandardScaler()\n",
    "features_scaled = scaler.fit_transform(features_to_scale)\n",
    "\n",
    "# Convert back to DataFrame\n",
    "features_scaled_df = pd.DataFrame(features_scaled, columns=features_to_scale.columns)\n",
    "\n",
    "# Add the \"neo\" column back\n",
    "features_scaled_df[\"neo\"] = neo_column\n",
    "\n",
    "# Update X with the scaled features\n",
    "X = features_scaled_df\n",
    "\n",
    "y = y_resampled\n",
    "\n",
    "mapping = {'M': 0, 'Other': 1}\n",
    "y = y.map(mapping)\n",
    "\n",
    "# Define parameter grid for RandomizedSearchCV\n",
    "param_dist = {\n",
    "    'n_estimators': [50, 100, 200],\n",
    "    'learning_rate': np.linspace(0.01, 0.3, 10),\n",
    "    'max_depth': [3, 4, 5, 6, 7],\n",
    "    'min_child_weight': [1, 2, 3, 4],\n",
    "    'subsample': np.linspace(0.5, 1.0, 5),\n",
    "    'colsample_bytree': np.linspace(0.5, 1.0, 5),\n",
    "    'gamma': [0, 0.1, 0.2, 0.3],\n",
    "}\n",
    "\n",
    "# Set up RandomizedSearchCV\n",
    "random_search = RandomizedSearchCV(\n",
    "    estimator=xgb_model,\n",
    "    param_distributions=param_dist,\n",
    "    n_iter=50,  # Number of parameter settings sampled\n",
    "    scoring='accuracy',  # Scoring metric\n",
    "    cv=10,  # Cross-validation folds\n",
    "    verbose=1,\n",
    "    random_state=42,\n",
    "    n_jobs=-1  # Use all available cores\n",
    ")\n",
    "\n",
    "# Fit the random search\n",
    "random_search.fit(X, y)\n",
    "best_model = random_search.best_estimator_\n",
    "import pickle\n",
    "with open('model2.pkl', 'wb') as file:\n",
    "    pickle.dump(best_model, file)"
   ]
  },
  {
   "cell_type": "code",
   "execution_count": 45,
   "metadata": {},
   "outputs": [],
   "source": [
    "dtype_dict = {\n",
    "    'spec_B': str,\n",
    "    'spec_T': str,\n",
    "    'spkid': str,\n",
    "    'full_name': str,\n",
    "    'name': str\n",
    "    # Add other column mappings as necessary\n",
    "}\n",
    "df1 = pd.read_csv(\"data/spec.csv\", dtype=dtype_dict)\n",
    "len(df1)\n",
    "df1 = df1[df1['spec_T'].notna()]\n",
    "df1 = df1.drop(['spec_B', 'name', 'full_name'], axis=1)\n",
    "df1 = df1[df1[\"spkid\"].notna()]\n",
    "\n",
    "df1[\"spkid\"] = df1[\"spkid\"].apply(lambda x: x.replace(\"0\", \"\", 1))\n",
    "\n",
    "dtype_dict = {\n",
    "    'pdes': str,\n",
    "    'name': str,\n",
    "    'prefix': str,\n",
    "    'neo': str,\n",
    "    'spkid': str\n",
    "}\n",
    "df2 = pd.read_csv(\"data/ast_info.csv\", dtype = dtype_dict)\n",
    "ids = df2['spkid']\n",
    "len(df2)\n",
    "df2 = df2.drop([\"id\", \"full_name\", \"pdes\", \"prefix\", 'name'], axis=1)\n",
    "df2 = df2[df2[\"spkid\"].notna()]\n",
    "df2['neo'] = df2['neo'].replace({'Y': 1, 'N': 0})\n",
    "\n",
    "merged_df = pd.merge(df1, df2, on='spkid', how='right')\n",
    "\n",
    "useful_columns = [\n",
    "    'H',           # Absolute Magnitude\n",
    "    'albedo',      # Reflectivity\n",
    "    'diameter',    # Object Diameter\n",
    "    'i',           # Inclination\n",
    "    'a',           # Semi-major Axis\n",
    "    'q',           # Perihelion Distance\n",
    "    'e',           # Eccentricity\n",
    "    'neo',         # Near-Earth Object Flag\n",
    "    'spec_T'         \n",
    "]\n",
    "\n",
    "# Filter the DataFrame to keep only the useful columns\n",
    "merged_df = merged_df[useful_columns]\n",
    "\n",
    "other_types = {'C', 'G', 'B', 'F', 'P', 'D', 'G:', 'C:', 'CG', 'CGU', 'CB', 'CB:', 'FC', 'FC:', 'BC', 'BC:', 'CP', 'CPF', 'PC', 'DCX', 'CD', 'CDX:', 'FCU', 'FCB', 'S', 'SU', 'SR', 'SQ', 'ST', 'SC', 'SCU', 'CSU', 'SD', 'SDU::', 'TS', 'STU', 'SCTU', 'AS'}\n",
    "m_types = {'M', 'MU', 'MU:', 'E', 'X', 'XF', 'XFC', 'XCU', 'XU', 'XSC', 'XSCU'}\n",
    "\n",
    "# Function to map composition to spec_T\n",
    "def map_spec_type(comp):\n",
    "    if comp in other_types:\n",
    "        return 'Other'\n",
    "    elif comp in m_types:\n",
    "        return 'M'\n",
    "    else:\n",
    "        return None\n",
    "\n",
    "# Apply the mapping\n",
    "merged_df[\"spec_T\"] = merged_df[\"spec_T\"].apply(map_spec_type)"
   ]
  },
  {
   "cell_type": "code",
   "execution_count": null,
   "metadata": {},
   "outputs": [],
   "source": []
  },
  {
   "cell_type": "code",
   "execution_count": 46,
   "metadata": {},
   "outputs": [],
   "source": [
    "import pickle\n",
    "with open('model2.pkl', 'rb') as file:\n",
    "    loaded_model = pickle.load(file)\n",
    "filled_mask = merged_df['spec_T'].notna()\n",
    "not_filled_mask = ~filled_mask\n",
    "df_filled = merged_df[filled_mask]\n",
    "df_not_filled = merged_df[not_filled_mask]\n",
    "X_missing = df_not_filled.drop(['spec_T'], axis=1)\n",
    "predictions = loaded_model.predict_proba(X_missing)\n",
    "merged_df.loc[not_filled_mask, 'spec_T'] = predictions[:,0]\n",
    "merged_df[\"spkid\"] = ids\n",
    "merged_df2 = merged_df"
   ]
  },
  {
   "cell_type": "code",
   "execution_count": 48,
   "metadata": {},
   "outputs": [
    {
     "data": {
      "text/html": [
       "<div>\n",
       "<style scoped>\n",
       "    .dataframe tbody tr th:only-of-type {\n",
       "        vertical-align: middle;\n",
       "    }\n",
       "\n",
       "    .dataframe tbody tr th {\n",
       "        vertical-align: top;\n",
       "    }\n",
       "\n",
       "    .dataframe thead th {\n",
       "        text-align: right;\n",
       "    }\n",
       "</style>\n",
       "<table border=\"1\" class=\"dataframe\">\n",
       "  <thead>\n",
       "    <tr style=\"text-align: right;\">\n",
       "      <th></th>\n",
       "      <th>H</th>\n",
       "      <th>albedo</th>\n",
       "      <th>diameter</th>\n",
       "      <th>i</th>\n",
       "      <th>a</th>\n",
       "      <th>q</th>\n",
       "      <th>e</th>\n",
       "      <th>neo</th>\n",
       "      <th>spec_T</th>\n",
       "      <th>spkid</th>\n",
       "    </tr>\n",
       "  </thead>\n",
       "  <tbody>\n",
       "    <tr>\n",
       "      <th>0</th>\n",
       "      <td>3.400</td>\n",
       "      <td>0.0900</td>\n",
       "      <td>939.400</td>\n",
       "      <td>10.594067</td>\n",
       "      <td>2.769165</td>\n",
       "      <td>2.558684</td>\n",
       "      <td>0.076009</td>\n",
       "      <td>0.0</td>\n",
       "      <td>Other</td>\n",
       "      <td>2000001</td>\n",
       "    </tr>\n",
       "    <tr>\n",
       "      <th>1</th>\n",
       "      <td>4.200</td>\n",
       "      <td>0.1010</td>\n",
       "      <td>545.000</td>\n",
       "      <td>34.832932</td>\n",
       "      <td>2.773841</td>\n",
       "      <td>2.135935</td>\n",
       "      <td>0.229972</td>\n",
       "      <td>0.0</td>\n",
       "      <td>Other</td>\n",
       "      <td>2000002</td>\n",
       "    </tr>\n",
       "    <tr>\n",
       "      <th>2</th>\n",
       "      <td>5.330</td>\n",
       "      <td>0.2140</td>\n",
       "      <td>246.596</td>\n",
       "      <td>12.991043</td>\n",
       "      <td>2.668285</td>\n",
       "      <td>1.982706</td>\n",
       "      <td>0.256936</td>\n",
       "      <td>0.0</td>\n",
       "      <td>Other</td>\n",
       "      <td>2000003</td>\n",
       "    </tr>\n",
       "    <tr>\n",
       "      <th>3</th>\n",
       "      <td>3.000</td>\n",
       "      <td>0.4228</td>\n",
       "      <td>525.400</td>\n",
       "      <td>7.141771</td>\n",
       "      <td>2.361418</td>\n",
       "      <td>2.151909</td>\n",
       "      <td>0.088721</td>\n",
       "      <td>0.0</td>\n",
       "      <td>0.017146</td>\n",
       "      <td>2000004</td>\n",
       "    </tr>\n",
       "    <tr>\n",
       "      <th>4</th>\n",
       "      <td>6.900</td>\n",
       "      <td>0.2740</td>\n",
       "      <td>106.699</td>\n",
       "      <td>5.367427</td>\n",
       "      <td>2.574037</td>\n",
       "      <td>2.082619</td>\n",
       "      <td>0.190913</td>\n",
       "      <td>0.0</td>\n",
       "      <td>Other</td>\n",
       "      <td>2000005</td>\n",
       "    </tr>\n",
       "    <tr>\n",
       "      <th>...</th>\n",
       "      <td>...</td>\n",
       "      <td>...</td>\n",
       "      <td>...</td>\n",
       "      <td>...</td>\n",
       "      <td>...</td>\n",
       "      <td>...</td>\n",
       "      <td>...</td>\n",
       "      <td>...</td>\n",
       "      <td>...</td>\n",
       "      <td>...</td>\n",
       "    </tr>\n",
       "    <tr>\n",
       "      <th>958519</th>\n",
       "      <td>17.135</td>\n",
       "      <td>NaN</td>\n",
       "      <td>NaN</td>\n",
       "      <td>5.984416</td>\n",
       "      <td>2.280861</td>\n",
       "      <td>1.856807</td>\n",
       "      <td>0.185919</td>\n",
       "      <td>0.0</td>\n",
       "      <td>0.649637</td>\n",
       "      <td>3246801</td>\n",
       "    </tr>\n",
       "    <tr>\n",
       "      <th>958520</th>\n",
       "      <td>18.500</td>\n",
       "      <td>NaN</td>\n",
       "      <td>NaN</td>\n",
       "      <td>8.082280</td>\n",
       "      <td>2.334910</td>\n",
       "      <td>1.674319</td>\n",
       "      <td>0.282920</td>\n",
       "      <td>0.0</td>\n",
       "      <td>0.790366</td>\n",
       "      <td>3246834</td>\n",
       "    </tr>\n",
       "    <tr>\n",
       "      <th>958521</th>\n",
       "      <td>20.400</td>\n",
       "      <td>NaN</td>\n",
       "      <td>NaN</td>\n",
       "      <td>4.679278</td>\n",
       "      <td>2.817152</td>\n",
       "      <td>0.950941</td>\n",
       "      <td>0.662446</td>\n",
       "      <td>1.0</td>\n",
       "      <td>0.888647</td>\n",
       "      <td>3013075</td>\n",
       "    </tr>\n",
       "    <tr>\n",
       "      <th>958522</th>\n",
       "      <td>18.071</td>\n",
       "      <td>NaN</td>\n",
       "      <td>NaN</td>\n",
       "      <td>0.732484</td>\n",
       "      <td>2.373137</td>\n",
       "      <td>1.893638</td>\n",
       "      <td>0.202053</td>\n",
       "      <td>0.0</td>\n",
       "      <td>0.91701</td>\n",
       "      <td>3246457</td>\n",
       "    </tr>\n",
       "    <tr>\n",
       "      <th>958523</th>\n",
       "      <td>18.060</td>\n",
       "      <td>NaN</td>\n",
       "      <td>NaN</td>\n",
       "      <td>9.661947</td>\n",
       "      <td>2.260404</td>\n",
       "      <td>1.676433</td>\n",
       "      <td>0.258348</td>\n",
       "      <td>0.0</td>\n",
       "      <td>0.77007</td>\n",
       "      <td>3246553</td>\n",
       "    </tr>\n",
       "  </tbody>\n",
       "</table>\n",
       "<p>958524 rows × 10 columns</p>\n",
       "</div>"
      ],
      "text/plain": [
       "             H  albedo  diameter          i         a         q         e  \\\n",
       "0        3.400  0.0900   939.400  10.594067  2.769165  2.558684  0.076009   \n",
       "1        4.200  0.1010   545.000  34.832932  2.773841  2.135935  0.229972   \n",
       "2        5.330  0.2140   246.596  12.991043  2.668285  1.982706  0.256936   \n",
       "3        3.000  0.4228   525.400   7.141771  2.361418  2.151909  0.088721   \n",
       "4        6.900  0.2740   106.699   5.367427  2.574037  2.082619  0.190913   \n",
       "...        ...     ...       ...        ...       ...       ...       ...   \n",
       "958519  17.135     NaN       NaN   5.984416  2.280861  1.856807  0.185919   \n",
       "958520  18.500     NaN       NaN   8.082280  2.334910  1.674319  0.282920   \n",
       "958521  20.400     NaN       NaN   4.679278  2.817152  0.950941  0.662446   \n",
       "958522  18.071     NaN       NaN   0.732484  2.373137  1.893638  0.202053   \n",
       "958523  18.060     NaN       NaN   9.661947  2.260404  1.676433  0.258348   \n",
       "\n",
       "        neo    spec_T    spkid  \n",
       "0       0.0     Other  2000001  \n",
       "1       0.0     Other  2000002  \n",
       "2       0.0     Other  2000003  \n",
       "3       0.0  0.017146  2000004  \n",
       "4       0.0     Other  2000005  \n",
       "...     ...       ...      ...  \n",
       "958519  0.0  0.649637  3246801  \n",
       "958520  0.0  0.790366  3246834  \n",
       "958521  1.0  0.888647  3013075  \n",
       "958522  0.0   0.91701  3246457  \n",
       "958523  0.0   0.77007  3246553  \n",
       "\n",
       "[958524 rows x 10 columns]"
      ]
     },
     "execution_count": 48,
     "metadata": {},
     "output_type": "execute_result"
    }
   ],
   "source": [
    "merged_df2"
   ]
  },
  {
   "cell_type": "code",
   "execution_count": 23,
   "metadata": {},
   "outputs": [
    {
     "data": {
      "text/plain": [
       "957732"
      ]
     },
     "execution_count": 23,
     "metadata": {},
     "output_type": "execute_result"
    }
   ],
   "source": [
    "len(predictions)"
   ]
  },
  {
   "cell_type": "code",
   "execution_count": 24,
   "metadata": {},
   "outputs": [
    {
     "data": {
      "text/plain": [
       "958524"
      ]
     },
     "execution_count": 24,
     "metadata": {},
     "output_type": "execute_result"
    }
   ],
   "source": [
    "len(merged_df)"
   ]
  },
  {
   "cell_type": "code",
   "execution_count": null,
   "metadata": {},
   "outputs": [],
   "source": [
    "df = "
   ]
  },
  {
   "cell_type": "code",
   "execution_count": 63,
   "metadata": {},
   "outputs": [
    {
     "data": {
      "text/plain": [
       "H            0.653400\n",
       "albedo      85.905100\n",
       "diameter    85.789714\n",
       "i            0.000000\n",
       "a            0.000000\n",
       "q            0.000000\n",
       "e            0.000000\n",
       "neo          0.000417\n",
       "spec_T      99.897759\n",
       "dtype: float64"
      ]
     },
     "execution_count": 63,
     "metadata": {},
     "output_type": "execute_result"
    }
   ],
   "source": [
    "merged_df.isna().sum()/len(merged_df)*100"
   ]
  },
  {
   "cell_type": "code",
   "execution_count": 64,
   "metadata": {},
   "outputs": [
    {
     "data": {
      "text/html": [
       "<div>\n",
       "<style scoped>\n",
       "    .dataframe tbody tr th:only-of-type {\n",
       "        vertical-align: middle;\n",
       "    }\n",
       "\n",
       "    .dataframe tbody tr th {\n",
       "        vertical-align: top;\n",
       "    }\n",
       "\n",
       "    .dataframe thead th {\n",
       "        text-align: right;\n",
       "    }\n",
       "</style>\n",
       "<table border=\"1\" class=\"dataframe\">\n",
       "  <thead>\n",
       "    <tr style=\"text-align: right;\">\n",
       "      <th></th>\n",
       "      <th>H</th>\n",
       "      <th>albedo</th>\n",
       "      <th>diameter</th>\n",
       "      <th>i</th>\n",
       "      <th>a</th>\n",
       "      <th>q</th>\n",
       "      <th>e</th>\n",
       "      <th>neo</th>\n",
       "      <th>spec_T</th>\n",
       "    </tr>\n",
       "  </thead>\n",
       "  <tbody>\n",
       "    <tr>\n",
       "      <th>0</th>\n",
       "      <td>3.40</td>\n",
       "      <td>0.0900</td>\n",
       "      <td>939.400</td>\n",
       "      <td>10.594067</td>\n",
       "      <td>2.769165</td>\n",
       "      <td>2.558684</td>\n",
       "      <td>0.076009</td>\n",
       "      <td>0.0</td>\n",
       "      <td>G</td>\n",
       "    </tr>\n",
       "    <tr>\n",
       "      <th>1</th>\n",
       "      <td>4.20</td>\n",
       "      <td>0.1010</td>\n",
       "      <td>545.000</td>\n",
       "      <td>34.832932</td>\n",
       "      <td>2.773841</td>\n",
       "      <td>2.135935</td>\n",
       "      <td>0.229972</td>\n",
       "      <td>0.0</td>\n",
       "      <td>B</td>\n",
       "    </tr>\n",
       "    <tr>\n",
       "      <th>2</th>\n",
       "      <td>5.33</td>\n",
       "      <td>0.2140</td>\n",
       "      <td>246.596</td>\n",
       "      <td>12.991043</td>\n",
       "      <td>2.668285</td>\n",
       "      <td>1.982706</td>\n",
       "      <td>0.256936</td>\n",
       "      <td>0.0</td>\n",
       "      <td>S</td>\n",
       "    </tr>\n",
       "    <tr>\n",
       "      <th>3</th>\n",
       "      <td>3.00</td>\n",
       "      <td>0.4228</td>\n",
       "      <td>525.400</td>\n",
       "      <td>7.141771</td>\n",
       "      <td>2.361418</td>\n",
       "      <td>2.151909</td>\n",
       "      <td>0.088721</td>\n",
       "      <td>0.0</td>\n",
       "      <td>V</td>\n",
       "    </tr>\n",
       "    <tr>\n",
       "      <th>4</th>\n",
       "      <td>6.90</td>\n",
       "      <td>0.2740</td>\n",
       "      <td>106.699</td>\n",
       "      <td>5.367427</td>\n",
       "      <td>2.574037</td>\n",
       "      <td>2.082619</td>\n",
       "      <td>0.190913</td>\n",
       "      <td>0.0</td>\n",
       "      <td>S</td>\n",
       "    </tr>\n",
       "  </tbody>\n",
       "</table>\n",
       "</div>"
      ],
      "text/plain": [
       "      H  albedo  diameter          i         a         q         e  neo spec_T\n",
       "0  3.40  0.0900   939.400  10.594067  2.769165  2.558684  0.076009  0.0      G\n",
       "1  4.20  0.1010   545.000  34.832932  2.773841  2.135935  0.229972  0.0      B\n",
       "2  5.33  0.2140   246.596  12.991043  2.668285  1.982706  0.256936  0.0      S\n",
       "3  3.00  0.4228   525.400   7.141771  2.361418  2.151909  0.088721  0.0      V\n",
       "4  6.90  0.2740   106.699   5.367427  2.574037  2.082619  0.190913  0.0      S"
      ]
     },
     "execution_count": 64,
     "metadata": {},
     "output_type": "execute_result"
    }
   ],
   "source": [
    "merged_df.head()"
   ]
  },
  {
   "cell_type": "code",
   "execution_count": 65,
   "metadata": {},
   "outputs": [],
   "source": [
    "filled_mask = merged_df['spec_T'].notna()\n",
    "not_filled_mask = ~filled_mask"
   ]
  },
  {
   "cell_type": "code",
   "execution_count": 68,
   "metadata": {},
   "outputs": [],
   "source": [
    "df_filled = merged_df[filled_mask]\n",
    "df_not_filled = merged_df[not_filled_mask]"
   ]
  }
 ],
 "metadata": {
  "kernelspec": {
   "display_name": "BHL10",
   "language": "python",
   "name": "python3"
  },
  "language_info": {
   "codemirror_mode": {
    "name": "ipython",
    "version": 3
   },
   "file_extension": ".py",
   "mimetype": "text/x-python",
   "name": "python",
   "nbconvert_exporter": "python",
   "pygments_lexer": "ipython3",
   "version": "3.10.15"
  }
 },
 "nbformat": 4,
 "nbformat_minor": 2
}
