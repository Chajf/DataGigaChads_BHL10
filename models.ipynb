{
 "cells": [
  {
   "cell_type": "code",
   "execution_count": 65,
   "metadata": {},
   "outputs": [],
   "source": [
    "import pandas as pd\n",
    "from sklearn.model_selection import train_test_split\n",
    "from sklearn.ensemble import RandomForestClassifier\n",
    "from sklearn.metrics import accuracy_score\n",
    "from sklearn.metrics import confusion_matrix\n",
    "from collections import Counter\n",
    "from imblearn.over_sampling import SMOTE\n",
    "from sklearn.neighbors import KNeighborsClassifier\n",
    "from pycaret.classification import *\n",
    "from sklearn.naive_bayes import GaussianNB\n",
    "from sklearn.svm import SVC\n",
    "from sklearn.tree import DecisionTreeClassifier\n",
    "\n",
    "import seaborn as sns\n",
    "import matplotlib.pyplot as plt"
   ]
  },
  {
   "cell_type": "code",
   "execution_count": 2,
   "metadata": {},
   "outputs": [],
   "source": [
    "pd.set_option('display.max_columns', None)"
   ]
  },
  {
   "cell_type": "code",
   "execution_count": 5,
   "metadata": {},
   "outputs": [],
   "source": [
    "dtype_dict = {\n",
    "    'spec_B': str,\n",
    "    'spec_T': str,\n",
    "    'spkid': int,\n",
    "    'full_name': str,\n",
    "    'name': str\n",
    "    # Add other column mappings as necessary\n",
    "}\n",
    "df1 = pd.read_csv(\"data/spec.csv\", dtype=dtype_dict)\n",
    "df1 = df1[df1['spec_T'].notna()]\n",
    "df1 = df1.drop(['spec_B', 'spkid', 'full_name'], axis=1)\n",
    "df1 = df1[df1[\"name\"].notna()]"
   ]
  },
  {
   "cell_type": "code",
   "execution_count": 6,
   "metadata": {},
   "outputs": [],
   "source": [
    "dtype_dict = {\n",
    "    'pdes': str,\n",
    "    'name': str,\n",
    "    'prefix': str,\n",
    "    'neo': str\n",
    "}\n",
    "df2 = pd.read_csv(\"data/ast_info.csv\", dtype = dtype_dict)\n",
    "df2 = df2.drop([\"id\", \"full_name\", \"pdes\", \"prefix\", 'spkid'], axis=1)\n",
    "df2 = df2[df2[\"name\"].notna()]\n",
    "df2['neo'] = df2['neo'].replace({'Y': 1, 'N': 0})"
   ]
  },
  {
   "cell_type": "code",
   "execution_count": 7,
   "metadata": {},
   "outputs": [],
   "source": [
    "merged_df = pd.merge(df1, df2, on='name', how='inner')"
   ]
  },
  {
   "cell_type": "code",
   "execution_count": 8,
   "metadata": {},
   "outputs": [],
   "source": [
    "# Define the list of useful columns for Tholen class prediction\n",
    "useful_columns = [\n",
    "    'H',           # Absolute Magnitude\n",
    "    'albedo',      # Reflectivity\n",
    "    'diameter',    # Object Diameter\n",
    "    'i',           # Inclination\n",
    "    'a',           # Semi-major Axis\n",
    "    'q',           # Perihelion Distance\n",
    "    'e',           # Eccentricity\n",
    "    'neo',\n",
    "    'spec_T'          # Near-Earth Object Flag\n",
    "]\n",
    "\n",
    "# Filter the DataFrame to keep only the useful columns\n",
    "merged_df = merged_df[useful_columns]\n",
    "df = merged_df"
   ]
  },
  {
   "cell_type": "code",
   "execution_count": 9,
   "metadata": {},
   "outputs": [],
   "source": [
    "asteroid_data = {\n",
    "    \"composition\": ['G', 'B', 'S', 'V', 'C', 'M', 'E', 'FC', 'P', 'CG', 'X', 'CU', \n",
    "       'CF', 'XC', 'CP', 'BU', 'TDG', 'MU', 'T', 'GC', 'DCX', 'ST', 'CX',\n",
    "       'SU', 'SR', 'CPF', 'F', 'GU', 'I', 'XFC', 'STU', 'CD', 'GC:', 'C:',\n",
    "       'XC:', 'DCX:', 'BCU', 'A', 'SCTU', 'CX:', 'DU', 'PC', 'D', 'BFU::',\n",
    "       'CXF', 'FP', 'CSGU', 'R', 'DP', 'QSV', 'BFC', 'PD', 'DT', 'DX',\n",
    "       'F:', 'X:', 'TD', 'CSU', 'CB', 'FCX', 'FXU:', 'CGU', 'DU:', 'XD:',\n",
    "       'XCU', 'CDX:', 'CFB:', 'XDC', 'PCD', 'TSD', 'FCX:', 'XB:', 'SD',\n",
    "       'CD:', 'CP:', 'DX:', 'STGD', 'CGSU', 'FX:', 'XF', 'SC', 'CPU:',\n",
    "       'XD', 'DXCU', 'XFU', 'GS:', 'CBU:', 'CTGU:', 'FCB', 'XB', 'DTU',\n",
    "       'CB:', 'FC:', 'FU', 'PF', 'CFU:', 'XSC', 'DTU:', 'CGTP:', 'FCU',\n",
    "       'MU:', 'PDC', 'BC:', 'FX', 'XU', 'BCF', 'P:', 'PU', 'XSCU', 'AS',\n",
    "       'G:', 'CBU', 'FBCU::', 'AU:', 'XFCU', 'Q', 'SQ', 'SMU', 'BU:',\n",
    "       'TCG:', 'DSU:', 'CFXU', 'SG', 'BCU:', 'EU', 'SDU::', 'BFX', 'QRS',\n",
    "       'TS', 'Z']\n",
    "}\n",
    "\n",
    "# Define mapping for each type\n",
    "other_types = {'C', 'G', 'B', 'F', 'P', 'D', 'G:', 'C:', 'CG', 'CGU', 'CB', 'CB:', 'FC', 'FC:', 'BC', 'BC:', 'CP', 'CPF', 'PC', 'DCX', 'CD', 'CDX:', 'FCU', 'FCB', 'S', 'SU', 'SR', 'SQ', 'ST', 'SC', 'SCU', 'CSU', 'SD', 'SDU::', 'TS', 'STU', 'SCTU', 'AS'}\n",
    "m_types = {'M', 'MU', 'MU:', 'E', 'X', 'XF', 'XFC', 'XCU', 'XU', 'XSC', 'XSCU'}\n",
    "\n",
    "# Function to map composition to spec_T\n",
    "def map_spec_type(comp):\n",
    "    if comp in other_types:\n",
    "        return 'Other'\n",
    "    elif comp in m_types:\n",
    "        return 'M'\n",
    "    else:\n",
    "        return None\n",
    "\n",
    "# Apply the mapping\n",
    "df[\"spec_T\"] = df[\"spec_T\"].apply(map_spec_type)\n",
    "\n",
    "# Filter out rows where spec_T is None (i.e., mixed or unmapped types)\n",
    "merged_df = df.dropna()"
   ]
  },
  {
   "cell_type": "code",
   "execution_count": 10,
   "metadata": {},
   "outputs": [
    {
     "data": {
      "text/plain": [
       "Counter({'Other': 664, 'M': 113})"
      ]
     },
     "execution_count": 10,
     "metadata": {},
     "output_type": "execute_result"
    }
   ],
   "source": [
    "Counter(merged_df[\"spec_T\"])"
   ]
  },
  {
   "cell_type": "code",
   "execution_count": 13,
   "metadata": {},
   "outputs": [],
   "source": [
    "X = merged_df.drop([\"spec_T\"], axis=1)\n",
    "y = merged_df[\"spec_T\"]"
   ]
  },
  {
   "cell_type": "code",
   "execution_count": 14,
   "metadata": {},
   "outputs": [],
   "source": [
    "X_train, X_test, y_train, y_test = train_test_split(\n",
    "    X, y, test_size=0.33, random_state=42)"
   ]
  },
  {
   "cell_type": "code",
   "execution_count": 15,
   "metadata": {},
   "outputs": [],
   "source": [
    "smote = SMOTE(sampling_strategy={'Other': max(Counter(y_train).values()),\n",
    "                                 'M': max(Counter(y_train).values())},\n",
    "              random_state=42)"
   ]
  },
  {
   "cell_type": "code",
   "execution_count": 16,
   "metadata": {},
   "outputs": [],
   "source": [
    "from sklearn.preprocessing import StandardScaler\n",
    "\n",
    "train_neo = X_train[\"neo\"]\n",
    "test_neo = X_test[\"neo\"]\n",
    "\n",
    "# Drop the \"neo\" column for scaling\n",
    "train_features = X_train.drop(columns=[\"neo\"])\n",
    "test_features = X_test.drop(columns=[\"neo\"])\n",
    "\n",
    "# Apply Standard Scaling\n",
    "scaler = StandardScaler()\n",
    "train_scaled = scaler.fit_transform(train_features)\n",
    "test_scaled = scaler.transform(test_features)\n",
    "\n",
    "# Convert back to DataFrame\n",
    "train_scaled_df = pd.DataFrame(train_scaled, columns=train_features.columns)\n",
    "test_scaled_df = pd.DataFrame(test_scaled, columns=test_features.columns)\n",
    "\n",
    "# Add the \"neo\" column back\n",
    "X_train[\"neo\"] = train_neo.values\n",
    "X_test[\"neo\"] = test_neo.values"
   ]
  },
  {
   "cell_type": "code",
   "execution_count": 17,
   "metadata": {},
   "outputs": [],
   "source": [
    "X_train, y_train = smote.fit_resample(X_train, y_train)"
   ]
  },
  {
   "cell_type": "code",
   "execution_count": 18,
   "metadata": {},
   "outputs": [
    {
     "data": {
      "text/html": [
       "<div>\n",
       "<style scoped>\n",
       "    .dataframe tbody tr th:only-of-type {\n",
       "        vertical-align: middle;\n",
       "    }\n",
       "\n",
       "    .dataframe tbody tr th {\n",
       "        vertical-align: top;\n",
       "    }\n",
       "\n",
       "    .dataframe thead th {\n",
       "        text-align: right;\n",
       "    }\n",
       "</style>\n",
       "<table border=\"1\" class=\"dataframe\">\n",
       "  <thead>\n",
       "    <tr style=\"text-align: right;\">\n",
       "      <th></th>\n",
       "      <th>H</th>\n",
       "      <th>albedo</th>\n",
       "      <th>diameter</th>\n",
       "      <th>i</th>\n",
       "      <th>a</th>\n",
       "      <th>q</th>\n",
       "      <th>e</th>\n",
       "      <th>neo</th>\n",
       "    </tr>\n",
       "  </thead>\n",
       "  <tbody>\n",
       "    <tr>\n",
       "      <th>0</th>\n",
       "      <td>8.9</td>\n",
       "      <td>0.048</td>\n",
       "      <td>103.402</td>\n",
       "      <td>2.103207</td>\n",
       "      <td>2.589529</td>\n",
       "      <td>2.314048</td>\n",
       "      <td>0.106383</td>\n",
       "      <td>0.0</td>\n",
       "    </tr>\n",
       "    <tr>\n",
       "      <th>1</th>\n",
       "      <td>8.3</td>\n",
       "      <td>0.228</td>\n",
       "      <td>56.309</td>\n",
       "      <td>6.028907</td>\n",
       "      <td>2.421378</td>\n",
       "      <td>1.973064</td>\n",
       "      <td>0.185148</td>\n",
       "      <td>0.0</td>\n",
       "    </tr>\n",
       "    <tr>\n",
       "      <th>2</th>\n",
       "      <td>7.4</td>\n",
       "      <td>0.042</td>\n",
       "      <td>216.000</td>\n",
       "      <td>15.944369</td>\n",
       "      <td>3.125473</td>\n",
       "      <td>2.799548</td>\n",
       "      <td>0.104280</td>\n",
       "      <td>0.0</td>\n",
       "    </tr>\n",
       "    <tr>\n",
       "      <th>3</th>\n",
       "      <td>10.7</td>\n",
       "      <td>0.271</td>\n",
       "      <td>17.016</td>\n",
       "      <td>1.041052</td>\n",
       "      <td>2.599438</td>\n",
       "      <td>2.200516</td>\n",
       "      <td>0.153465</td>\n",
       "      <td>0.0</td>\n",
       "    </tr>\n",
       "    <tr>\n",
       "      <th>4</th>\n",
       "      <td>9.2</td>\n",
       "      <td>0.206</td>\n",
       "      <td>40.056</td>\n",
       "      <td>1.745234</td>\n",
       "      <td>2.892842</td>\n",
       "      <td>2.858379</td>\n",
       "      <td>0.011913</td>\n",
       "      <td>0.0</td>\n",
       "    </tr>\n",
       "  </tbody>\n",
       "</table>\n",
       "</div>"
      ],
      "text/plain": [
       "      H  albedo  diameter          i         a         q         e  neo\n",
       "0   8.9   0.048   103.402   2.103207  2.589529  2.314048  0.106383  0.0\n",
       "1   8.3   0.228    56.309   6.028907  2.421378  1.973064  0.185148  0.0\n",
       "2   7.4   0.042   216.000  15.944369  3.125473  2.799548  0.104280  0.0\n",
       "3  10.7   0.271    17.016   1.041052  2.599438  2.200516  0.153465  0.0\n",
       "4   9.2   0.206    40.056   1.745234  2.892842  2.858379  0.011913  0.0"
      ]
     },
     "execution_count": 18,
     "metadata": {},
     "output_type": "execute_result"
    }
   ],
   "source": [
    "X_train.head()"
   ]
  },
  {
   "cell_type": "code",
   "execution_count": 19,
   "metadata": {},
   "outputs": [
    {
     "name": "stdout",
     "output_type": "stream",
     "text": [
      "Fitting 5 folds for each of 50 candidates, totalling 250 fits\n"
     ]
    }
   ],
   "source": [
    "from sklearn.model_selection import RandomizedSearchCV\n",
    "import numpy as np\n",
    "\n",
    "param_grid = {\n",
    "    'n_estimators': [100, 200, 300],\n",
    "    'max_depth': [None, 10, 20, 30],\n",
    "    'min_samples_split': [2, 5, 10],\n",
    "    'min_samples_leaf': [1, 2, 4],\n",
    "    'max_features': [None, 'sqrt', 'log2']  # Replace 'auto' with None\n",
    "}\n",
    "\n",
    "clf = RandomForestClassifier(random_state=0)\n",
    "random_search = RandomizedSearchCV(estimator=clf, param_distributions=param_grid, n_iter=50, cv=5, verbose=2, n_jobs=-1, random_state=42)\n",
    "random_search.fit(X_train, y_train)\n",
    "best_model = random_search.best_estimator_"
   ]
  },
  {
   "cell_type": "code",
   "execution_count": 20,
   "metadata": {},
   "outputs": [],
   "source": [
    "y_pred = random_search.predict(X_test)"
   ]
  },
  {
   "cell_type": "code",
   "execution_count": 22,
   "metadata": {},
   "outputs": [
    {
     "data": {
      "text/plain": [
       "0.8365758754863813"
      ]
     },
     "execution_count": 22,
     "metadata": {},
     "output_type": "execute_result"
    }
   ],
   "source": [
    "accuracy_score(y_test, y_pred)"
   ]
  },
  {
   "cell_type": "code",
   "execution_count": 23,
   "metadata": {},
   "outputs": [],
   "source": [
    "cm = confusion_matrix(y_test, y_pred)"
   ]
  },
  {
   "cell_type": "code",
   "execution_count": 24,
   "metadata": {},
   "outputs": [
    {
     "data": {
      "text/plain": [
       "<Axes: >"
      ]
     },
     "execution_count": 24,
     "metadata": {},
     "output_type": "execute_result"
    },
    {
     "data": {
      "image/png": "[encoded data removed]",
      "text/plain": [
       "<Figure size 1000x700 with 2 Axes>"
      ]
     },
     "metadata": {},
     "output_type": "display_data"
    }
   ],
   "source": [
    "plt.figure(figsize = (10,7))\n",
    "sns.heatmap(cm, annot=True)"
   ]
  },
  {
   "cell_type": "code",
   "execution_count": 25,
   "metadata": {},
   "outputs": [
    {
     "name": "stdout",
     "output_type": "stream",
     "text": [
      "              precision    recall  f1-score   support\n",
      "\n",
      "           M       0.32      0.32      0.32        31\n",
      "       Other       0.91      0.91      0.91       226\n",
      "\n",
      "    accuracy                           0.84       257\n",
      "   macro avg       0.61      0.61      0.61       257\n",
      "weighted avg       0.84      0.84      0.84       257\n",
      "\n"
     ]
    }
   ],
   "source": [
    "from sklearn.metrics import classification_report\n",
    "print(classification_report(y_test, y_pred))"
   ]
  },
  {
   "cell_type": "code",
   "execution_count": 26,
   "metadata": {},
   "outputs": [],
   "source": [
    "from xgboost import XGBClassifier"
   ]
  },
  {
   "cell_type": "code",
   "execution_count": 71,
   "metadata": {},
   "outputs": [],
   "source": [
    "mapping = {'M': 0, 'Other': 1}\n",
    "y_train_mapped = y_train.map(mapping)\n",
    "y_test_mapped = y_test.map(mapping)"
   ]
  },
  {
   "cell_type": "code",
   "execution_count": 81,
   "metadata": {},
   "outputs": [
    {
     "name": "stdout",
     "output_type": "stream",
     "text": [
      "Fitting 10 folds for each of 50 candidates, totalling 500 fits\n"
     ]
    }
   ],
   "source": [
    "xgb_model = XGBClassifier()\n",
    "\n",
    "#Define the parameter grid\n",
    "param_dist = {\n",
    "    'n_estimators': [50, 100, 200],\n",
    "    'learning_rate': np.linspace(0.01, 0.3, 10),\n",
    "    'max_depth': [3, 4, 5, 6, 7],\n",
    "    'min_child_weight': [1, 2, 3, 4],\n",
    "    'subsample': np.linspace(0.5, 1.0, 5),\n",
    "    'colsample_bytree': np.linspace(0.5, 1.0, 5),\n",
    "    'gamma': [0, 0.1, 0.2, 0.3],\n",
    "}\n",
    "\n",
    "# Set up RandomizedSearchCV\n",
    "random_search = RandomizedSearchCV(\n",
    "    estimator=xgb_model,\n",
    "    param_distributions=param_dist,\n",
    "    n_iter=50,  # Number of parameter settings sampled\n",
    "    scoring='accuracy',  # Scoring metric\n",
    "    cv=10,  # Cross-validation folds\n",
    "    verbose=1,\n",
    "    random_state=42,\n",
    "    n_jobs=-1  # Use all available cores\n",
    ")\n",
    "\n",
    "# Fit the random search\n",
    "random_search.fit(X_train, y_train_mapped)\n",
    "best_model = random_search.best_estimator_\n",
    "y_pred = best_model.predict(X_test)"
   ]
  },
  {
   "cell_type": "code",
   "execution_count": 82,
   "metadata": {},
   "outputs": [
    {
     "data": {
      "text/plain": [
       "<Axes: >"
      ]
     },
     "execution_count": 82,
     "metadata": {},
     "output_type": "execute_result"
    },
    {
     "data": {
      "image/png": "[encoded data removed]",
      "text/plain": [
       "<Figure size 1000x700 with 2 Axes>"
      ]
     },
     "metadata": {},
     "output_type": "display_data"
    }
   ],
   "source": [
    "cm = confusion_matrix(y_test_mapped, y_pred)\n",
    "plt.figure(figsize = (10,7))\n",
    "sns.heatmap(cm, annot=True)"
   ]
  },
  {
   "cell_type": "code",
   "execution_count": 77,
   "metadata": {},
   "outputs": [
    {
     "data": {
      "text/plain": [
       "0.8404669260700389"
      ]
     },
     "execution_count": 77,
     "metadata": {},
     "output_type": "execute_result"
    }
   ],
   "source": [
    "accuracy_score(y_test_mapped, y_pred)"
   ]
  },
  {
   "cell_type": "code",
   "execution_count": 78,
   "metadata": {},
   "outputs": [
    {
     "name": "stdout",
     "output_type": "stream",
     "text": [
      "              precision    recall  f1-score   support\n",
      "\n",
      "           0       0.36      0.42      0.39        31\n",
      "           1       0.92      0.90      0.91       226\n",
      "\n",
      "    accuracy                           0.84       257\n",
      "   macro avg       0.64      0.66      0.65       257\n",
      "weighted avg       0.85      0.84      0.85       257\n",
      "\n"
     ]
    }
   ],
   "source": [
    "print(classification_report(y_test_mapped, y_pred))"
   ]
  },
  {
   "cell_type": "code",
   "execution_count": 32,
   "metadata": {},
   "outputs": [],
   "source": [
    "knn = KNeighborsClassifier()\n",
    "\n",
    "# Step 4: Define the hyperparameter search space\n",
    "param_dist = {\n",
    "    'n_neighbors': np.arange(1, 31),  # Number of neighbors\n",
    "    'weights': ['uniform', 'distance'],  # Weight function\n",
    "    'metric': ['euclidean', 'manhattan', 'minkowski']  # Distance metrics\n",
    "}\n",
    "\n",
    "# Step 5: Set up the RandomizedSearchCV\n",
    "random_search = RandomizedSearchCV(\n",
    "    knn, \n",
    "    param_distributions=param_dist, \n",
    "    n_iter=50,  # Number of random samples\n",
    "    scoring='accuracy', \n",
    "    cv=5,  # 5-fold cross-validation\n",
    "    random_state=42, \n",
    "    n_jobs=-1  # Use all available cores\n",
    ")\n",
    "\n",
    "# Step 6: Fit the model to the training data\n",
    "random_search.fit(X_train, y_train)\n",
    "best_knn = random_search.best_estimator_\n",
    "y_pred = best_knn.predict(X_test)"
   ]
  },
  {
   "cell_type": "code",
   "execution_count": 33,
   "metadata": {},
   "outputs": [
    {
     "data": {
      "text/plain": [
       "<Axes: >"
      ]
     },
     "execution_count": 33,
     "metadata": {},
     "output_type": "execute_result"
    },
    {
     "data": {
      "image/png": "[encoded data removed]",
      "text/plain": [
       "<Figure size 1000x700 with 2 Axes>"
      ]
     },
     "metadata": {},
     "output_type": "display_data"
    }
   ],
   "source": [
    "cm = confusion_matrix(y_test, y_pred)\n",
    "plt.figure(figsize = (10,7))\n",
    "sns.heatmap(cm, annot=True)"
   ]
  },
  {
   "cell_type": "code",
   "execution_count": 34,
   "metadata": {},
   "outputs": [
    {
     "data": {
      "text/plain": [
       "0.708171206225681"
      ]
     },
     "execution_count": 34,
     "metadata": {},
     "output_type": "execute_result"
    }
   ],
   "source": [
    "accuracy_score(y_test, y_pred)"
   ]
  },
  {
   "cell_type": "code",
   "execution_count": 35,
   "metadata": {},
   "outputs": [
    {
     "name": "stdout",
     "output_type": "stream",
     "text": [
      "              precision    recall  f1-score   support\n",
      "\n",
      "           M       0.17      0.35      0.23        31\n",
      "       Other       0.90      0.76      0.82       226\n",
      "\n",
      "    accuracy                           0.71       257\n",
      "   macro avg       0.53      0.56      0.52       257\n",
      "weighted avg       0.81      0.71      0.75       257\n",
      "\n"
     ]
    }
   ],
   "source": [
    "print(classification_report(y_test, y_pred))"
   ]
  },
  {
   "cell_type": "code",
   "execution_count": 36,
   "metadata": {},
   "outputs": [
    {
     "data": {
      "text/html": [
       "<div>\n",
       "<style scoped>\n",
       "    .dataframe tbody tr th:only-of-type {\n",
       "        vertical-align: middle;\n",
       "    }\n",
       "\n",
       "    .dataframe tbody tr th {\n",
       "        vertical-align: top;\n",
       "    }\n",
       "\n",
       "    .dataframe thead th {\n",
       "        text-align: right;\n",
       "    }\n",
       "</style>\n",
       "<table border=\"1\" class=\"dataframe\">\n",
       "  <thead>\n",
       "    <tr style=\"text-align: right;\">\n",
       "      <th></th>\n",
       "      <th>H</th>\n",
       "      <th>albedo</th>\n",
       "      <th>diameter</th>\n",
       "      <th>i</th>\n",
       "      <th>a</th>\n",
       "      <th>q</th>\n",
       "      <th>e</th>\n",
       "      <th>neo</th>\n",
       "      <th>spec_T</th>\n",
       "    </tr>\n",
       "  </thead>\n",
       "  <tbody>\n",
       "    <tr>\n",
       "      <th>0</th>\n",
       "      <td>3.40</td>\n",
       "      <td>0.0900</td>\n",
       "      <td>939.400</td>\n",
       "      <td>10.594067</td>\n",
       "      <td>2.769165</td>\n",
       "      <td>2.558684</td>\n",
       "      <td>0.076009</td>\n",
       "      <td>0.0</td>\n",
       "      <td>Other</td>\n",
       "    </tr>\n",
       "    <tr>\n",
       "      <th>1</th>\n",
       "      <td>4.20</td>\n",
       "      <td>0.1010</td>\n",
       "      <td>545.000</td>\n",
       "      <td>34.832932</td>\n",
       "      <td>2.773841</td>\n",
       "      <td>2.135935</td>\n",
       "      <td>0.229972</td>\n",
       "      <td>0.0</td>\n",
       "      <td>Other</td>\n",
       "    </tr>\n",
       "    <tr>\n",
       "      <th>2</th>\n",
       "      <td>5.33</td>\n",
       "      <td>0.2140</td>\n",
       "      <td>246.596</td>\n",
       "      <td>12.991043</td>\n",
       "      <td>2.668285</td>\n",
       "      <td>1.982706</td>\n",
       "      <td>0.256936</td>\n",
       "      <td>0.0</td>\n",
       "      <td>Other</td>\n",
       "    </tr>\n",
       "    <tr>\n",
       "      <th>4</th>\n",
       "      <td>6.90</td>\n",
       "      <td>0.2740</td>\n",
       "      <td>106.699</td>\n",
       "      <td>5.367427</td>\n",
       "      <td>2.574037</td>\n",
       "      <td>2.082619</td>\n",
       "      <td>0.190913</td>\n",
       "      <td>0.0</td>\n",
       "      <td>Other</td>\n",
       "    </tr>\n",
       "    <tr>\n",
       "      <th>5</th>\n",
       "      <td>5.80</td>\n",
       "      <td>0.2679</td>\n",
       "      <td>185.180</td>\n",
       "      <td>14.739653</td>\n",
       "      <td>2.424533</td>\n",
       "      <td>1.931822</td>\n",
       "      <td>0.203219</td>\n",
       "      <td>0.0</td>\n",
       "      <td>Other</td>\n",
       "    </tr>\n",
       "  </tbody>\n",
       "</table>\n",
       "</div>"
      ],
      "text/plain": [
       "      H  albedo  diameter          i         a         q         e  neo spec_T\n",
       "0  3.40  0.0900   939.400  10.594067  2.769165  2.558684  0.076009  0.0  Other\n",
       "1  4.20  0.1010   545.000  34.832932  2.773841  2.135935  0.229972  0.0  Other\n",
       "2  5.33  0.2140   246.596  12.991043  2.668285  1.982706  0.256936  0.0  Other\n",
       "4  6.90  0.2740   106.699   5.367427  2.574037  2.082619  0.190913  0.0  Other\n",
       "5  5.80  0.2679   185.180  14.739653  2.424533  1.931822  0.203219  0.0  Other"
      ]
     },
     "execution_count": 36,
     "metadata": {},
     "output_type": "execute_result"
    }
   ],
   "source": [
    "merged_df.head()"
   ]
  },
  {
   "cell_type": "code",
   "execution_count": 37,
   "metadata": {},
   "outputs": [
    {
     "data": {
      "text/html": [
       "<style type=\"text/css\">\n",
       "#T_6bfcc_row9_col1, #T_6bfcc_row13_col1, #T_6bfcc_row15_col1 {\n",
       "  background-color: lightgreen;\n",
       "}\n",
       "</style>\n",
       "<table id=\"T_6bfcc\">\n",
       "  <thead>\n",
       "    <tr>\n",
       "      <th class=\"blank level0\" >&nbsp;</th>\n",
       "      <th id=\"T_6bfcc_level0_col0\" class=\"col_heading level0 col0\" >Description</th>\n",
       "      <th id=\"T_6bfcc_level0_col1\" class=\"col_heading level0 col1\" >Value</th>\n",
       "    </tr>\n",
       "  </thead>\n",
       "  <tbody>\n",
       "    <tr>\n",
       "      <th id=\"T_6bfcc_level0_row0\" class=\"row_heading level0 row0\" >0</th>\n",
       "      <td id=\"T_6bfcc_row0_col0\" class=\"data row0 col0\" >Session id</td>\n",
       "      <td id=\"T_6bfcc_row0_col1\" class=\"data row0 col1\" >123</td>\n",
       "    </tr>\n",
       "    <tr>\n",
       "      <th id=\"T_6bfcc_level0_row1\" class=\"row_heading level0 row1\" >1</th>\n",
       "      <td id=\"T_6bfcc_row1_col0\" class=\"data row1 col0\" >Target</td>\n",
       "      <td id=\"T_6bfcc_row1_col1\" class=\"data row1 col1\" >spec_T</td>\n",
       "    </tr>\n",
       "    <tr>\n",
       "      <th id=\"T_6bfcc_level0_row2\" class=\"row_heading level0 row2\" >2</th>\n",
       "      <td id=\"T_6bfcc_row2_col0\" class=\"data row2 col0\" >Target type</td>\n",
       "      <td id=\"T_6bfcc_row2_col1\" class=\"data row2 col1\" >Binary</td>\n",
       "    </tr>\n",
       "    <tr>\n",
       "      <th id=\"T_6bfcc_level0_row3\" class=\"row_heading level0 row3\" >3</th>\n",
       "      <td id=\"T_6bfcc_row3_col0\" class=\"data row3 col0\" >Target mapping</td>\n",
       "      <td id=\"T_6bfcc_row3_col1\" class=\"data row3 col1\" >M: 0, Other: 1</td>\n",
       "    </tr>\n",
       "    <tr>\n",
       "      <th id=\"T_6bfcc_level0_row4\" class=\"row_heading level0 row4\" >4</th>\n",
       "      <td id=\"T_6bfcc_row4_col0\" class=\"data row4 col0\" >Original data shape</td>\n",
       "      <td id=\"T_6bfcc_row4_col1\" class=\"data row4 col1\" >(777, 9)</td>\n",
       "    </tr>\n",
       "    <tr>\n",
       "      <th id=\"T_6bfcc_level0_row5\" class=\"row_heading level0 row5\" >5</th>\n",
       "      <td id=\"T_6bfcc_row5_col0\" class=\"data row5 col0\" >Transformed data shape</td>\n",
       "      <td id=\"T_6bfcc_row5_col1\" class=\"data row5 col1\" >(777, 2)</td>\n",
       "    </tr>\n",
       "    <tr>\n",
       "      <th id=\"T_6bfcc_level0_row6\" class=\"row_heading level0 row6\" >6</th>\n",
       "      <td id=\"T_6bfcc_row6_col0\" class=\"data row6 col0\" >Transformed train set shape</td>\n",
       "      <td id=\"T_6bfcc_row6_col1\" class=\"data row6 col1\" >(543, 2)</td>\n",
       "    </tr>\n",
       "    <tr>\n",
       "      <th id=\"T_6bfcc_level0_row7\" class=\"row_heading level0 row7\" >7</th>\n",
       "      <td id=\"T_6bfcc_row7_col0\" class=\"data row7 col0\" >Transformed test set shape</td>\n",
       "      <td id=\"T_6bfcc_row7_col1\" class=\"data row7 col1\" >(234, 2)</td>\n",
       "    </tr>\n",
       "    <tr>\n",
       "      <th id=\"T_6bfcc_level0_row8\" class=\"row_heading level0 row8\" >8</th>\n",
       "      <td id=\"T_6bfcc_row8_col0\" class=\"data row8 col0\" >Numeric features</td>\n",
       "      <td id=\"T_6bfcc_row8_col1\" class=\"data row8 col1\" >8</td>\n",
       "    </tr>\n",
       "    <tr>\n",
       "      <th id=\"T_6bfcc_level0_row9\" class=\"row_heading level0 row9\" >9</th>\n",
       "      <td id=\"T_6bfcc_row9_col0\" class=\"data row9 col0\" >Preprocess</td>\n",
       "      <td id=\"T_6bfcc_row9_col1\" class=\"data row9 col1\" >True</td>\n",
       "    </tr>\n",
       "    <tr>\n",
       "      <th id=\"T_6bfcc_level0_row10\" class=\"row_heading level0 row10\" >10</th>\n",
       "      <td id=\"T_6bfcc_row10_col0\" class=\"data row10 col0\" >Imputation type</td>\n",
       "      <td id=\"T_6bfcc_row10_col1\" class=\"data row10 col1\" >simple</td>\n",
       "    </tr>\n",
       "    <tr>\n",
       "      <th id=\"T_6bfcc_level0_row11\" class=\"row_heading level0 row11\" >11</th>\n",
       "      <td id=\"T_6bfcc_row11_col0\" class=\"data row11 col0\" >Numeric imputation</td>\n",
       "      <td id=\"T_6bfcc_row11_col1\" class=\"data row11 col1\" >mean</td>\n",
       "    </tr>\n",
       "    <tr>\n",
       "      <th id=\"T_6bfcc_level0_row12\" class=\"row_heading level0 row12\" >12</th>\n",
       "      <td id=\"T_6bfcc_row12_col0\" class=\"data row12 col0\" >Categorical imputation</td>\n",
       "      <td id=\"T_6bfcc_row12_col1\" class=\"data row12 col1\" >mode</td>\n",
       "    </tr>\n",
       "    <tr>\n",
       "      <th id=\"T_6bfcc_level0_row13\" class=\"row_heading level0 row13\" >13</th>\n",
       "      <td id=\"T_6bfcc_row13_col0\" class=\"data row13 col0\" >Normalize</td>\n",
       "      <td id=\"T_6bfcc_row13_col1\" class=\"data row13 col1\" >True</td>\n",
       "    </tr>\n",
       "    <tr>\n",
       "      <th id=\"T_6bfcc_level0_row14\" class=\"row_heading level0 row14\" >14</th>\n",
       "      <td id=\"T_6bfcc_row14_col0\" class=\"data row14 col0\" >Normalize method</td>\n",
       "      <td id=\"T_6bfcc_row14_col1\" class=\"data row14 col1\" >zscore</td>\n",
       "    </tr>\n",
       "    <tr>\n",
       "      <th id=\"T_6bfcc_level0_row15\" class=\"row_heading level0 row15\" >15</th>\n",
       "      <td id=\"T_6bfcc_row15_col0\" class=\"data row15 col0\" >Feature selection</td>\n",
       "      <td id=\"T_6bfcc_row15_col1\" class=\"data row15 col1\" >True</td>\n",
       "    </tr>\n",
       "    <tr>\n",
       "      <th id=\"T_6bfcc_level0_row16\" class=\"row_heading level0 row16\" >16</th>\n",
       "      <td id=\"T_6bfcc_row16_col0\" class=\"data row16 col0\" >Feature selection method</td>\n",
       "      <td id=\"T_6bfcc_row16_col1\" class=\"data row16 col1\" >classic</td>\n",
       "    </tr>\n",
       "    <tr>\n",
       "      <th id=\"T_6bfcc_level0_row17\" class=\"row_heading level0 row17\" >17</th>\n",
       "      <td id=\"T_6bfcc_row17_col0\" class=\"data row17 col0\" >Feature selection estimator</td>\n",
       "      <td id=\"T_6bfcc_row17_col1\" class=\"data row17 col1\" >lightgbm</td>\n",
       "    </tr>\n",
       "    <tr>\n",
       "      <th id=\"T_6bfcc_level0_row18\" class=\"row_heading level0 row18\" >18</th>\n",
       "      <td id=\"T_6bfcc_row18_col0\" class=\"data row18 col0\" >Number of features selected</td>\n",
       "      <td id=\"T_6bfcc_row18_col1\" class=\"data row18 col1\" >0.200000</td>\n",
       "    </tr>\n",
       "    <tr>\n",
       "      <th id=\"T_6bfcc_level0_row19\" class=\"row_heading level0 row19\" >19</th>\n",
       "      <td id=\"T_6bfcc_row19_col0\" class=\"data row19 col0\" >Fold Generator</td>\n",
       "      <td id=\"T_6bfcc_row19_col1\" class=\"data row19 col1\" >StratifiedKFold</td>\n",
       "    </tr>\n",
       "    <tr>\n",
       "      <th id=\"T_6bfcc_level0_row20\" class=\"row_heading level0 row20\" >20</th>\n",
       "      <td id=\"T_6bfcc_row20_col0\" class=\"data row20 col0\" >Fold Number</td>\n",
       "      <td id=\"T_6bfcc_row20_col1\" class=\"data row20 col1\" >10</td>\n",
       "    </tr>\n",
       "    <tr>\n",
       "      <th id=\"T_6bfcc_level0_row21\" class=\"row_heading level0 row21\" >21</th>\n",
       "      <td id=\"T_6bfcc_row21_col0\" class=\"data row21 col0\" >CPU Jobs</td>\n",
       "      <td id=\"T_6bfcc_row21_col1\" class=\"data row21 col1\" >-1</td>\n",
       "    </tr>\n",
       "    <tr>\n",
       "      <th id=\"T_6bfcc_level0_row22\" class=\"row_heading level0 row22\" >22</th>\n",
       "      <td id=\"T_6bfcc_row22_col0\" class=\"data row22 col0\" >Use GPU</td>\n",
       "      <td id=\"T_6bfcc_row22_col1\" class=\"data row22 col1\" >False</td>\n",
       "    </tr>\n",
       "    <tr>\n",
       "      <th id=\"T_6bfcc_level0_row23\" class=\"row_heading level0 row23\" >23</th>\n",
       "      <td id=\"T_6bfcc_row23_col0\" class=\"data row23 col0\" >Log Experiment</td>\n",
       "      <td id=\"T_6bfcc_row23_col1\" class=\"data row23 col1\" >False</td>\n",
       "    </tr>\n",
       "    <tr>\n",
       "      <th id=\"T_6bfcc_level0_row24\" class=\"row_heading level0 row24\" >24</th>\n",
       "      <td id=\"T_6bfcc_row24_col0\" class=\"data row24 col0\" >Experiment Name</td>\n",
       "      <td id=\"T_6bfcc_row24_col1\" class=\"data row24 col1\" >clf-default-name</td>\n",
       "    </tr>\n",
       "    <tr>\n",
       "      <th id=\"T_6bfcc_level0_row25\" class=\"row_heading level0 row25\" >25</th>\n",
       "      <td id=\"T_6bfcc_row25_col0\" class=\"data row25 col0\" >USI</td>\n",
       "      <td id=\"T_6bfcc_row25_col1\" class=\"data row25 col1\" >ed6e</td>\n",
       "    </tr>\n",
       "  </tbody>\n",
       "</table>\n"
      ],
      "text/plain": [
       "<pandas.io.formats.style.Styler at 0x220019132b0>"
      ]
     },
     "metadata": {},
     "output_type": "display_data"
    }
   ],
   "source": [
    "clf_setup = setup(\n",
    "    data=merged_df, \n",
    "    target='spec_T',  # Replace with your target column\n",
    "    session_id=123,  # For reproducibility\n",
    "    normalize=True,  # Normalize features\n",
    "    feature_selection=True,  # Enable automatic feature selection\n",
    ")"
   ]
  },
  {
   "cell_type": "code",
   "execution_count": 38,
   "metadata": {},
   "outputs": [
    {
     "data": {
      "text/html": [],
      "text/plain": [
       "<IPython.core.display.HTML object>"
      ]
     },
     "metadata": {},
     "output_type": "display_data"
    },
    {
     "data": {
      "text/html": [
       "<style type=\"text/css\">\n",
       "#T_45c1b th {\n",
       "  text-align: left;\n",
       "}\n",
       "#T_45c1b_row0_col0, #T_45c1b_row0_col2, #T_45c1b_row0_col4, #T_45c1b_row0_col5, #T_45c1b_row0_col6, #T_45c1b_row0_col7, #T_45c1b_row1_col0, #T_45c1b_row1_col2, #T_45c1b_row1_col4, #T_45c1b_row1_col5, #T_45c1b_row1_col6, #T_45c1b_row1_col7, #T_45c1b_row2_col0, #T_45c1b_row2_col1, #T_45c1b_row2_col2, #T_45c1b_row2_col3, #T_45c1b_row2_col4, #T_45c1b_row2_col5, #T_45c1b_row2_col6, #T_45c1b_row2_col7, #T_45c1b_row3_col0, #T_45c1b_row3_col1, #T_45c1b_row3_col3, #T_45c1b_row4_col0, #T_45c1b_row4_col1, #T_45c1b_row4_col2, #T_45c1b_row4_col3, #T_45c1b_row4_col4, #T_45c1b_row4_col5, #T_45c1b_row4_col6, #T_45c1b_row4_col7, #T_45c1b_row5_col0, #T_45c1b_row5_col1, #T_45c1b_row5_col2, #T_45c1b_row5_col3, #T_45c1b_row5_col4, #T_45c1b_row5_col5, #T_45c1b_row5_col6, #T_45c1b_row5_col7, #T_45c1b_row6_col0, #T_45c1b_row6_col1, #T_45c1b_row6_col2, #T_45c1b_row6_col3, #T_45c1b_row6_col4, #T_45c1b_row6_col5, #T_45c1b_row6_col6, #T_45c1b_row6_col7, #T_45c1b_row7_col0, #T_45c1b_row7_col1, #T_45c1b_row7_col2, #T_45c1b_row7_col3, #T_45c1b_row7_col4, #T_45c1b_row7_col5, #T_45c1b_row7_col6, #T_45c1b_row7_col7, #T_45c1b_row8_col0, #T_45c1b_row8_col1, #T_45c1b_row8_col2, #T_45c1b_row8_col3, #T_45c1b_row8_col4, #T_45c1b_row8_col5, #T_45c1b_row8_col6, #T_45c1b_row8_col7, #T_45c1b_row9_col0, #T_45c1b_row9_col1, #T_45c1b_row9_col2, #T_45c1b_row9_col3, #T_45c1b_row9_col4, #T_45c1b_row9_col5, #T_45c1b_row9_col6, #T_45c1b_row9_col7, #T_45c1b_row10_col0, #T_45c1b_row10_col1, #T_45c1b_row10_col2, #T_45c1b_row10_col3, #T_45c1b_row10_col4, #T_45c1b_row10_col5, #T_45c1b_row10_col6, #T_45c1b_row10_col7, #T_45c1b_row11_col0, #T_45c1b_row11_col1, #T_45c1b_row11_col2, #T_45c1b_row11_col3, #T_45c1b_row11_col4, #T_45c1b_row11_col5, #T_45c1b_row11_col6, #T_45c1b_row11_col7, #T_45c1b_row12_col0, #T_45c1b_row12_col1, #T_45c1b_row12_col2, #T_45c1b_row12_col3, #T_45c1b_row12_col4, #T_45c1b_row12_col5, #T_45c1b_row12_col6, #T_45c1b_row12_col7, #T_45c1b_row13_col0, #T_45c1b_row13_col1, #T_45c1b_row13_col2, #T_45c1b_row13_col3, #T_45c1b_row13_col4, #T_45c1b_row13_col5, #T_45c1b_row13_col6, #T_45c1b_row13_col7, #T_45c1b_row14_col0, #T_45c1b_row14_col1, #T_45c1b_row14_col2, #T_45c1b_row14_col3, #T_45c1b_row14_col4, #T_45c1b_row14_col5, #T_45c1b_row14_col6, #T_45c1b_row14_col7 {\n",
       "  text-align: left;\n",
       "}\n",
       "#T_45c1b_row0_col1, #T_45c1b_row0_col3, #T_45c1b_row1_col1, #T_45c1b_row1_col3, #T_45c1b_row3_col2, #T_45c1b_row3_col4, #T_45c1b_row3_col5, #T_45c1b_row3_col6, #T_45c1b_row3_col7 {\n",
       "  text-align: left;\n",
       "  background-color: yellow;\n",
       "}\n",
       "#T_45c1b_row0_col8, #T_45c1b_row1_col8, #T_45c1b_row2_col8, #T_45c1b_row3_col8, #T_45c1b_row4_col8, #T_45c1b_row5_col8, #T_45c1b_row6_col8, #T_45c1b_row8_col8, #T_45c1b_row9_col8, #T_45c1b_row10_col8, #T_45c1b_row11_col8, #T_45c1b_row12_col8, #T_45c1b_row13_col8, #T_45c1b_row14_col8 {\n",
       "  text-align: left;\n",
       "  background-color: lightgrey;\n",
       "}\n",
       "#T_45c1b_row7_col8 {\n",
       "  text-align: left;\n",
       "  background-color: yellow;\n",
       "  background-color: lightgrey;\n",
       "}\n",
       "</style>\n",
       "<table id=\"T_45c1b\">\n",
       "  <thead>\n",
       "    <tr>\n",
       "      <th class=\"blank level0\" >&nbsp;</th>\n",
       "      <th id=\"T_45c1b_level0_col0\" class=\"col_heading level0 col0\" >Model</th>\n",
       "      <th id=\"T_45c1b_level0_col1\" class=\"col_heading level0 col1\" >Accuracy</th>\n",
       "      <th id=\"T_45c1b_level0_col2\" class=\"col_heading level0 col2\" >AUC</th>\n",
       "      <th id=\"T_45c1b_level0_col3\" class=\"col_heading level0 col3\" >Recall</th>\n",
       "      <th id=\"T_45c1b_level0_col4\" class=\"col_heading level0 col4\" >Prec.</th>\n",
       "      <th id=\"T_45c1b_level0_col5\" class=\"col_heading level0 col5\" >F1</th>\n",
       "      <th id=\"T_45c1b_level0_col6\" class=\"col_heading level0 col6\" >Kappa</th>\n",
       "      <th id=\"T_45c1b_level0_col7\" class=\"col_heading level0 col7\" >MCC</th>\n",
       "      <th id=\"T_45c1b_level0_col8\" class=\"col_heading level0 col8\" >TT (Sec)</th>\n",
       "    </tr>\n",
       "  </thead>\n",
       "  <tbody>\n",
       "    <tr>\n",
       "      <th id=\"T_45c1b_level0_row0\" class=\"row_heading level0 row0\" >nb</th>\n",
       "      <td id=\"T_45c1b_row0_col0\" class=\"data row0 col0\" >Naive Bayes</td>\n",
       "      <td id=\"T_45c1b_row0_col1\" class=\"data row0 col1\" >0.8656</td>\n",
       "      <td id=\"T_45c1b_row0_col2\" class=\"data row0 col2\" >0.4694</td>\n",
       "      <td id=\"T_45c1b_row0_col3\" class=\"data row0 col3\" >0.8656</td>\n",
       "      <td id=\"T_45c1b_row0_col4\" class=\"data row0 col4\" >0.8018</td>\n",
       "      <td id=\"T_45c1b_row0_col5\" class=\"data row0 col5\" >0.8174</td>\n",
       "      <td id=\"T_45c1b_row0_col6\" class=\"data row0 col6\" >0.1517</td>\n",
       "      <td id=\"T_45c1b_row0_col7\" class=\"data row0 col7\" >0.1899</td>\n",
       "      <td id=\"T_45c1b_row0_col8\" class=\"data row0 col8\" >0.0770</td>\n",
       "    </tr>\n",
       "    <tr>\n",
       "      <th id=\"T_45c1b_level0_row1\" class=\"row_heading level0 row1\" >qda</th>\n",
       "      <td id=\"T_45c1b_row1_col0\" class=\"data row1 col0\" >Quadratic Discriminant Analysis</td>\n",
       "      <td id=\"T_45c1b_row1_col1\" class=\"data row1 col1\" >0.8656</td>\n",
       "      <td id=\"T_45c1b_row1_col2\" class=\"data row1 col2\" >0.4683</td>\n",
       "      <td id=\"T_45c1b_row1_col3\" class=\"data row1 col3\" >0.8656</td>\n",
       "      <td id=\"T_45c1b_row1_col4\" class=\"data row1 col4\" >0.8018</td>\n",
       "      <td id=\"T_45c1b_row1_col5\" class=\"data row1 col5\" >0.8174</td>\n",
       "      <td id=\"T_45c1b_row1_col6\" class=\"data row1 col6\" >0.1517</td>\n",
       "      <td id=\"T_45c1b_row1_col7\" class=\"data row1 col7\" >0.1899</td>\n",
       "      <td id=\"T_45c1b_row1_col8\" class=\"data row1 col8\" >0.0700</td>\n",
       "    </tr>\n",
       "    <tr>\n",
       "      <th id=\"T_45c1b_level0_row2\" class=\"row_heading level0 row2\" >lda</th>\n",
       "      <td id=\"T_45c1b_row2_col0\" class=\"data row2 col0\" >Linear Discriminant Analysis</td>\n",
       "      <td id=\"T_45c1b_row2_col1\" class=\"data row2 col1\" >0.8600</td>\n",
       "      <td id=\"T_45c1b_row2_col2\" class=\"data row2 col2\" >0.5006</td>\n",
       "      <td id=\"T_45c1b_row2_col3\" class=\"data row2 col3\" >0.8600</td>\n",
       "      <td id=\"T_45c1b_row2_col4\" class=\"data row2 col4\" >0.7785</td>\n",
       "      <td id=\"T_45c1b_row2_col5\" class=\"data row2 col5\" >0.7997</td>\n",
       "      <td id=\"T_45c1b_row2_col6\" class=\"data row2 col6\" >0.0588</td>\n",
       "      <td id=\"T_45c1b_row2_col7\" class=\"data row2 col7\" >0.0989</td>\n",
       "      <td id=\"T_45c1b_row2_col8\" class=\"data row2 col8\" >0.0670</td>\n",
       "    </tr>\n",
       "    <tr>\n",
       "      <th id=\"T_45c1b_level0_row3\" class=\"row_heading level0 row3\" >lightgbm</th>\n",
       "      <td id=\"T_45c1b_row3_col0\" class=\"data row3 col0\" >Light Gradient Boosting Machine</td>\n",
       "      <td id=\"T_45c1b_row3_col1\" class=\"data row3 col1\" >0.8600</td>\n",
       "      <td id=\"T_45c1b_row3_col2\" class=\"data row3 col2\" >0.6016</td>\n",
       "      <td id=\"T_45c1b_row3_col3\" class=\"data row3 col3\" >0.8600</td>\n",
       "      <td id=\"T_45c1b_row3_col4\" class=\"data row3 col4\" >0.8252</td>\n",
       "      <td id=\"T_45c1b_row3_col5\" class=\"data row3 col5\" >0.8274</td>\n",
       "      <td id=\"T_45c1b_row3_col6\" class=\"data row3 col6\" >0.2192</td>\n",
       "      <td id=\"T_45c1b_row3_col7\" class=\"data row3 col7\" >0.2582</td>\n",
       "      <td id=\"T_45c1b_row3_col8\" class=\"data row3 col8\" >0.1230</td>\n",
       "    </tr>\n",
       "    <tr>\n",
       "      <th id=\"T_45c1b_level0_row4\" class=\"row_heading level0 row4\" >lr</th>\n",
       "      <td id=\"T_45c1b_row4_col0\" class=\"data row4 col0\" >Logistic Regression</td>\n",
       "      <td id=\"T_45c1b_row4_col1\" class=\"data row4 col1\" >0.8564</td>\n",
       "      <td id=\"T_45c1b_row4_col2\" class=\"data row4 col2\" >0.5006</td>\n",
       "      <td id=\"T_45c1b_row4_col3\" class=\"data row4 col3\" >0.8564</td>\n",
       "      <td id=\"T_45c1b_row4_col4\" class=\"data row4 col4\" >0.7464</td>\n",
       "      <td id=\"T_45c1b_row4_col5\" class=\"data row4 col5\" >0.7916</td>\n",
       "      <td id=\"T_45c1b_row4_col6\" class=\"data row4 col6\" >0.0196</td>\n",
       "      <td id=\"T_45c1b_row4_col7\" class=\"data row4 col7\" >0.0329</td>\n",
       "      <td id=\"T_45c1b_row4_col8\" class=\"data row4 col8\" >0.3700</td>\n",
       "    </tr>\n",
       "    <tr>\n",
       "      <th id=\"T_45c1b_level0_row5\" class=\"row_heading level0 row5\" >xgboost</th>\n",
       "      <td id=\"T_45c1b_row5_col0\" class=\"data row5 col0\" >Extreme Gradient Boosting</td>\n",
       "      <td id=\"T_45c1b_row5_col1\" class=\"data row5 col1\" >0.8564</td>\n",
       "      <td id=\"T_45c1b_row5_col2\" class=\"data row5 col2\" >0.5938</td>\n",
       "      <td id=\"T_45c1b_row5_col3\" class=\"data row5 col3\" >0.8564</td>\n",
       "      <td id=\"T_45c1b_row5_col4\" class=\"data row5 col4\" >0.8187</td>\n",
       "      <td id=\"T_45c1b_row5_col5\" class=\"data row5 col5\" >0.8243</td>\n",
       "      <td id=\"T_45c1b_row5_col6\" class=\"data row5 col6\" >0.2045</td>\n",
       "      <td id=\"T_45c1b_row5_col7\" class=\"data row5 col7\" >0.2347</td>\n",
       "      <td id=\"T_45c1b_row5_col8\" class=\"data row5 col8\" >0.0760</td>\n",
       "    </tr>\n",
       "    <tr>\n",
       "      <th id=\"T_45c1b_level0_row6\" class=\"row_heading level0 row6\" >ridge</th>\n",
       "      <td id=\"T_45c1b_row6_col0\" class=\"data row6 col0\" >Ridge Classifier</td>\n",
       "      <td id=\"T_45c1b_row6_col1\" class=\"data row6 col1\" >0.8545</td>\n",
       "      <td id=\"T_45c1b_row6_col2\" class=\"data row6 col2\" >0.5006</td>\n",
       "      <td id=\"T_45c1b_row6_col3\" class=\"data row6 col3\" >0.8545</td>\n",
       "      <td id=\"T_45c1b_row6_col4\" class=\"data row6 col4\" >0.7302</td>\n",
       "      <td id=\"T_45c1b_row6_col5\" class=\"data row6 col5\" >0.7875</td>\n",
       "      <td id=\"T_45c1b_row6_col6\" class=\"data row6 col6\" >0.0000</td>\n",
       "      <td id=\"T_45c1b_row6_col7\" class=\"data row6 col7\" >0.0000</td>\n",
       "      <td id=\"T_45c1b_row6_col8\" class=\"data row6 col8\" >0.0960</td>\n",
       "    </tr>\n",
       "    <tr>\n",
       "      <th id=\"T_45c1b_level0_row7\" class=\"row_heading level0 row7\" >dummy</th>\n",
       "      <td id=\"T_45c1b_row7_col0\" class=\"data row7 col0\" >Dummy Classifier</td>\n",
       "      <td id=\"T_45c1b_row7_col1\" class=\"data row7 col1\" >0.8545</td>\n",
       "      <td id=\"T_45c1b_row7_col2\" class=\"data row7 col2\" >0.5000</td>\n",
       "      <td id=\"T_45c1b_row7_col3\" class=\"data row7 col3\" >0.8545</td>\n",
       "      <td id=\"T_45c1b_row7_col4\" class=\"data row7 col4\" >0.7302</td>\n",
       "      <td id=\"T_45c1b_row7_col5\" class=\"data row7 col5\" >0.7875</td>\n",
       "      <td id=\"T_45c1b_row7_col6\" class=\"data row7 col6\" >0.0000</td>\n",
       "      <td id=\"T_45c1b_row7_col7\" class=\"data row7 col7\" >0.0000</td>\n",
       "      <td id=\"T_45c1b_row7_col8\" class=\"data row7 col8\" >0.0630</td>\n",
       "    </tr>\n",
       "    <tr>\n",
       "      <th id=\"T_45c1b_level0_row8\" class=\"row_heading level0 row8\" >ada</th>\n",
       "      <td id=\"T_45c1b_row8_col0\" class=\"data row8 col0\" >Ada Boost Classifier</td>\n",
       "      <td id=\"T_45c1b_row8_col1\" class=\"data row8 col1\" >0.8527</td>\n",
       "      <td id=\"T_45c1b_row8_col2\" class=\"data row8 col2\" >0.5931</td>\n",
       "      <td id=\"T_45c1b_row8_col3\" class=\"data row8 col3\" >0.8527</td>\n",
       "      <td id=\"T_45c1b_row8_col4\" class=\"data row8 col4\" >0.7938</td>\n",
       "      <td id=\"T_45c1b_row8_col5\" class=\"data row8 col5\" >0.8051</td>\n",
       "      <td id=\"T_45c1b_row8_col6\" class=\"data row8 col6\" >0.1015</td>\n",
       "      <td id=\"T_45c1b_row8_col7\" class=\"data row8 col7\" >0.1393</td>\n",
       "      <td id=\"T_45c1b_row8_col8\" class=\"data row8 col8\" >0.1050</td>\n",
       "    </tr>\n",
       "    <tr>\n",
       "      <th id=\"T_45c1b_level0_row9\" class=\"row_heading level0 row9\" >knn</th>\n",
       "      <td id=\"T_45c1b_row9_col0\" class=\"data row9 col0\" >K Neighbors Classifier</td>\n",
       "      <td id=\"T_45c1b_row9_col1\" class=\"data row9 col1\" >0.8471</td>\n",
       "      <td id=\"T_45c1b_row9_col2\" class=\"data row9 col2\" >0.5430</td>\n",
       "      <td id=\"T_45c1b_row9_col3\" class=\"data row9 col3\" >0.8471</td>\n",
       "      <td id=\"T_45c1b_row9_col4\" class=\"data row9 col4\" >0.8104</td>\n",
       "      <td id=\"T_45c1b_row9_col5\" class=\"data row9 col5\" >0.8152</td>\n",
       "      <td id=\"T_45c1b_row9_col6\" class=\"data row9 col6\" >0.1666</td>\n",
       "      <td id=\"T_45c1b_row9_col7\" class=\"data row9 col7\" >0.1960</td>\n",
       "      <td id=\"T_45c1b_row9_col8\" class=\"data row9 col8\" >0.0890</td>\n",
       "    </tr>\n",
       "    <tr>\n",
       "      <th id=\"T_45c1b_level0_row10\" class=\"row_heading level0 row10\" >gbc</th>\n",
       "      <td id=\"T_45c1b_row10_col0\" class=\"data row10 col0\" >Gradient Boosting Classifier</td>\n",
       "      <td id=\"T_45c1b_row10_col1\" class=\"data row10 col1\" >0.8435</td>\n",
       "      <td id=\"T_45c1b_row10_col2\" class=\"data row10 col2\" >0.5779</td>\n",
       "      <td id=\"T_45c1b_row10_col3\" class=\"data row10 col3\" >0.8435</td>\n",
       "      <td id=\"T_45c1b_row10_col4\" class=\"data row10 col4\" >0.8121</td>\n",
       "      <td id=\"T_45c1b_row10_col5\" class=\"data row10 col5\" >0.8136</td>\n",
       "      <td id=\"T_45c1b_row10_col6\" class=\"data row10 col6\" >0.1706</td>\n",
       "      <td id=\"T_45c1b_row10_col7\" class=\"data row10 col7\" >0.2016</td>\n",
       "      <td id=\"T_45c1b_row10_col8\" class=\"data row10 col8\" >0.1090</td>\n",
       "    </tr>\n",
       "    <tr>\n",
       "      <th id=\"T_45c1b_level0_row11\" class=\"row_heading level0 row11\" >rf</th>\n",
       "      <td id=\"T_45c1b_row11_col0\" class=\"data row11 col0\" >Random Forest Classifier</td>\n",
       "      <td id=\"T_45c1b_row11_col1\" class=\"data row11 col1\" >0.7809</td>\n",
       "      <td id=\"T_45c1b_row11_col2\" class=\"data row11 col2\" >0.5300</td>\n",
       "      <td id=\"T_45c1b_row11_col3\" class=\"data row11 col3\" >0.7809</td>\n",
       "      <td id=\"T_45c1b_row11_col4\" class=\"data row11 col4\" >0.7727</td>\n",
       "      <td id=\"T_45c1b_row11_col5\" class=\"data row11 col5\" >0.7726</td>\n",
       "      <td id=\"T_45c1b_row11_col6\" class=\"data row11 col6\" >0.0711</td>\n",
       "      <td id=\"T_45c1b_row11_col7\" class=\"data row11 col7\" >0.0783</td>\n",
       "      <td id=\"T_45c1b_row11_col8\" class=\"data row11 col8\" >0.1450</td>\n",
       "    </tr>\n",
       "    <tr>\n",
       "      <th id=\"T_45c1b_level0_row12\" class=\"row_heading level0 row12\" >et</th>\n",
       "      <td id=\"T_45c1b_row12_col0\" class=\"data row12 col0\" >Extra Trees Classifier</td>\n",
       "      <td id=\"T_45c1b_row12_col1\" class=\"data row12 col1\" >0.7716</td>\n",
       "      <td id=\"T_45c1b_row12_col2\" class=\"data row12 col2\" >0.5140</td>\n",
       "      <td id=\"T_45c1b_row12_col3\" class=\"data row12 col3\" >0.7716</td>\n",
       "      <td id=\"T_45c1b_row12_col4\" class=\"data row12 col4\" >0.7729</td>\n",
       "      <td id=\"T_45c1b_row12_col5\" class=\"data row12 col5\" >0.7689</td>\n",
       "      <td id=\"T_45c1b_row12_col6\" class=\"data row12 col6\" >0.0765</td>\n",
       "      <td id=\"T_45c1b_row12_col7\" class=\"data row12 col7\" >0.0816</td>\n",
       "      <td id=\"T_45c1b_row12_col8\" class=\"data row12 col8\" >0.1200</td>\n",
       "    </tr>\n",
       "    <tr>\n",
       "      <th id=\"T_45c1b_level0_row13\" class=\"row_heading level0 row13\" >svm</th>\n",
       "      <td id=\"T_45c1b_row13_col0\" class=\"data row13 col0\" >SVM - Linear Kernel</td>\n",
       "      <td id=\"T_45c1b_row13_col1\" class=\"data row13 col1\" >0.7595</td>\n",
       "      <td id=\"T_45c1b_row13_col2\" class=\"data row13 col2\" >0.5119</td>\n",
       "      <td id=\"T_45c1b_row13_col3\" class=\"data row13 col3\" >0.7595</td>\n",
       "      <td id=\"T_45c1b_row13_col4\" class=\"data row13 col4\" >0.6582</td>\n",
       "      <td id=\"T_45c1b_row13_col5\" class=\"data row13 col5\" >0.6998</td>\n",
       "      <td id=\"T_45c1b_row13_col6\" class=\"data row13 col6\" >-0.0128</td>\n",
       "      <td id=\"T_45c1b_row13_col7\" class=\"data row13 col7\" >-0.0160</td>\n",
       "      <td id=\"T_45c1b_row13_col8\" class=\"data row13 col8\" >0.0930</td>\n",
       "    </tr>\n",
       "    <tr>\n",
       "      <th id=\"T_45c1b_level0_row14\" class=\"row_heading level0 row14\" >dt</th>\n",
       "      <td id=\"T_45c1b_row14_col0\" class=\"data row14 col0\" >Decision Tree Classifier</td>\n",
       "      <td id=\"T_45c1b_row14_col1\" class=\"data row14 col1\" >0.7533</td>\n",
       "      <td id=\"T_45c1b_row14_col2\" class=\"data row14 col2\" >0.5080</td>\n",
       "      <td id=\"T_45c1b_row14_col3\" class=\"data row14 col3\" >0.7533</td>\n",
       "      <td id=\"T_45c1b_row14_col4\" class=\"data row14 col4\" >0.7615</td>\n",
       "      <td id=\"T_45c1b_row14_col5\" class=\"data row14 col5\" >0.7563</td>\n",
       "      <td id=\"T_45c1b_row14_col6\" class=\"data row14 col6\" >0.0423</td>\n",
       "      <td id=\"T_45c1b_row14_col7\" class=\"data row14 col7\" >0.0424</td>\n",
       "      <td id=\"T_45c1b_row14_col8\" class=\"data row14 col8\" >0.0800</td>\n",
       "    </tr>\n",
       "  </tbody>\n",
       "</table>\n"
      ],
      "text/plain": [
       "<pandas.io.formats.style.Styler at 0x220014904c0>"
      ]
     },
     "metadata": {},
     "output_type": "display_data"
    },
    {
     "data": {
      "text/html": [],
      "text/plain": [
       "<IPython.core.display.HTML object>"
      ]
     },
     "metadata": {},
     "output_type": "display_data"
    }
   ],
   "source": [
    "best = clf_setup.compare_models()"
   ]
  },
  {
   "cell_type": "code",
   "execution_count": 39,
   "metadata": {},
   "outputs": [],
   "source": [
    "import lightgbm as lgb"
   ]
  },
  {
   "cell_type": "code",
   "execution_count": 57,
   "metadata": {},
   "outputs": [
    {
     "name": "stdout",
     "output_type": "stream",
     "text": [
      "Fitting 5 folds for each of 50 candidates, totalling 250 fits\n",
      "[LightGBM] [Info] Number of positive: 438, number of negative: 438\n",
      "[LightGBM] [Info] Auto-choosing col-wise multi-threading, the overhead of testing was 0.000163 seconds.\n",
      "You can set `force_col_wise=true` to remove the overhead.\n",
      "[LightGBM] [Info] Total Bins 1786\n",
      "[LightGBM] [Info] Number of data points in the train set: 876, number of used features: 8\n",
      "[LightGBM] [Info] [binary:BoostFromScore]: pavg=0.500000 -> initscore=0.000000\n",
      "[LightGBM] [Warning] No further splits with positive gain, best gain: -inf\n",
      "[LightGBM] [Warning] No further splits with positive gain, best gain: -inf\n"
     ]
    }
   ],
   "source": [
    "lgb_clf = lgb.LGBMClassifier(random_state=42)\n",
    "\n",
    "# Step 3: Define the parameter grid for RandomizedSearchCV\n",
    "param_dist = {\n",
    "    'n_estimators': [50, 100, 200, 500],\n",
    "    'learning_rate': [0.01, 0.05, 0.1, 0.2],\n",
    "    'num_leaves': [20, 31, 50, 100],\n",
    "    'max_depth': [-1, 10, 20, 30],\n",
    "    'min_child_samples': [10, 20, 30, 50],\n",
    "    'subsample': [0.6, 0.8, 1.0],\n",
    "    'colsample_bytree': [0.6, 0.8, 1.0],\n",
    "}\n",
    "\n",
    "# Step 4: Set up RandomizedSearchCV\n",
    "random_search = RandomizedSearchCV(\n",
    "    estimator=lgb_clf,\n",
    "    param_distributions=param_dist,\n",
    "    n_iter=50,  # Number of parameter settings sampled\n",
    "    scoring='accuracy',\n",
    "    cv=5,\n",
    "    verbose=1,\n",
    "    random_state=42,\n",
    "    n_jobs=-1\n",
    ")\n",
    "\n",
    "# Step 5: Perform the search\n",
    "random_search.fit(X_train, y_train)\n",
    "\n",
    "# Step 6: Evaluate the best model\n",
    "best_model = random_search.best_estimator_\n",
    "y_pred = best_model.predict(X_test)\n",
    "accuracy = accuracy_score(y_test, y_pred)"
   ]
  },
  {
   "cell_type": "code",
   "execution_count": 58,
   "metadata": {},
   "outputs": [
    {
     "data": {
      "text/plain": [
       "0.8326848249027238"
      ]
     },
     "execution_count": 58,
     "metadata": {},
     "output_type": "execute_result"
    }
   ],
   "source": [
    "accuracy"
   ]
  },
  {
   "cell_type": "code",
   "execution_count": 59,
   "metadata": {},
   "outputs": [
    {
     "data": {
      "text/plain": [
       "<Axes: >"
      ]
     },
     "execution_count": 59,
     "metadata": {},
     "output_type": "execute_result"
    },
    {
     "data": {
      "image/png": "[encoded data removed]",
      "text/plain": [
       "<Figure size 1000x700 with 2 Axes>"
      ]
     },
     "metadata": {},
     "output_type": "display_data"
    }
   ],
   "source": [
    "cm = confusion_matrix(y_test, y_pred)\n",
    "plt.figure(figsize = (10,7))\n",
    "sns.heatmap(cm, annot=True)"
   ]
  },
  {
   "cell_type": "code",
   "execution_count": 43,
   "metadata": {},
   "outputs": [
    {
     "name": "stdout",
     "output_type": "stream",
     "text": [
      "              precision    recall  f1-score   support\n",
      "\n",
      "           M       0.33      0.39      0.36        31\n",
      "       Other       0.91      0.89      0.90       226\n",
      "\n",
      "    accuracy                           0.83       257\n",
      "   macro avg       0.62      0.64      0.63       257\n",
      "weighted avg       0.84      0.83      0.84       257\n",
      "\n"
     ]
    }
   ],
   "source": [
    "print(classification_report(y_test, y_pred))"
   ]
  },
  {
   "cell_type": "code",
   "execution_count": 45,
   "metadata": {},
   "outputs": [],
   "source": [
    "gnb = GaussianNB()"
   ]
  },
  {
   "cell_type": "code",
   "execution_count": 49,
   "metadata": {},
   "outputs": [],
   "source": [
    "param_distributions = {\n",
    "    \"var_smoothing\": np.logspace(-10, -1, 100)  # Range of values for variance smoothing\n",
    "}\n",
    "\n",
    "# 4. Use RandomizedSearchCV for hyperparameter tuning\n",
    "random_search = RandomizedSearchCV(\n",
    "    estimator=gnb,\n",
    "    param_distributions=param_distributions,\n",
    "    n_iter=20,  # Number of random combinations to try\n",
    "    scoring=\"recall\",\n",
    "    cv=5,  # 5-fold cross-validation\n",
    "    random_state=42,\n",
    "    n_jobs=-1\n",
    ")\n",
    "\n",
    "# Fit the RandomizedSearchCV\n",
    "random_search.fit(X_train, y_train)\n",
    "\n",
    "# 5. Evaluate the model on the test set\n",
    "best_model = random_search.best_estimator_\n",
    "y_pred = best_model.predict(X_test)"
   ]
  },
  {
   "cell_type": "code",
   "execution_count": 50,
   "metadata": {},
   "outputs": [
    {
     "data": {
      "text/plain": [
       "<Axes: >"
      ]
     },
     "execution_count": 50,
     "metadata": {},
     "output_type": "execute_result"
    },
    {
     "data": {
      "image/png": "[encoded data removed]",
      "text/plain": [
       "<Figure size 1000x700 with 2 Axes>"
      ]
     },
     "metadata": {},
     "output_type": "display_data"
    }
   ],
   "source": [
    "cm = confusion_matrix(y_test, y_pred)\n",
    "plt.figure(figsize = (10,7))\n",
    "sns.heatmap(cm, annot=True)"
   ]
  },
  {
   "cell_type": "code",
   "execution_count": 61,
   "metadata": {},
   "outputs": [
    {
     "name": "stdout",
     "output_type": "stream",
     "text": [
      "Fitting 5 folds for each of 50 candidates, totalling 250 fits\n"
     ]
    }
   ],
   "source": [
    "scaler = StandardScaler()\n",
    "X_train = scaler.fit_transform(X_train)\n",
    "X_test = scaler.transform(X_test)\n",
    "\n",
    "# 4. Define SVM and Hyperparameter Space\n",
    "svm = SVC()\n",
    "param_distributions = {\n",
    "    'C': np.logspace(-3, 3, 10),  # Logarithmic scale for C\n",
    "    'gamma': np.logspace(-3, 3, 10),  # Logarithmic scale for gamma\n",
    "    'kernel': ['linear', 'rbf', 'poly', 'sigmoid'],  # Kernel types\n",
    "    'degree': [2, 3, 4],  # For polynomial kernel\n",
    "}\n",
    "\n",
    "# 5. Randomized Search\n",
    "random_search = RandomizedSearchCV(\n",
    "    svm, \n",
    "    param_distributions, \n",
    "    n_iter=50,  # Number of parameter combinations to try\n",
    "    scoring='accuracy', \n",
    "    cv=5,  # 5-fold cross-validation\n",
    "    random_state=42,\n",
    "    verbose=1\n",
    ")\n",
    "random_search.fit(X_train, y_train)\n",
    "\n",
    "# 6. Evaluate Best Model\n",
    "best_model = random_search.best_estimator_\n",
    "y_pred = best_model.predict(X_test)"
   ]
  },
  {
   "cell_type": "code",
   "execution_count": 64,
   "metadata": {},
   "outputs": [
    {
     "data": {
      "text/plain": [
       "<Axes: >"
      ]
     },
     "execution_count": 64,
     "metadata": {},
     "output_type": "execute_result"
    },
    {
     "data": {
      "image/png": "[encoded data removed]",
      "text/plain": [
       "<Figure size 1000x700 with 2 Axes>"
      ]
     },
     "metadata": {},
     "output_type": "display_data"
    }
   ],
   "source": [
    "cm = confusion_matrix(y_test, y_pred)\n",
    "plt.figure(figsize = (10,7))\n",
    "sns.heatmap(cm, annot=True)"
   ]
  },
  {
   "cell_type": "code",
   "execution_count": 63,
   "metadata": {},
   "outputs": [
    {
     "data": {
      "text/plain": [
       "0.8560311284046692"
      ]
     },
     "execution_count": 63,
     "metadata": {},
     "output_type": "execute_result"
    }
   ],
   "source": [
    "accuracy_score(y_test, y_pred)"
   ]
  },
  {
   "cell_type": "code",
   "execution_count": 66,
   "metadata": {},
   "outputs": [
    {
     "name": "stdout",
     "output_type": "stream",
     "text": [
      "              precision    recall  f1-score   support\n",
      "\n",
      "           M       0.25      0.10      0.14        31\n",
      "       Other       0.89      0.96      0.92       226\n",
      "\n",
      "    accuracy                           0.86       257\n",
      "   macro avg       0.57      0.53      0.53       257\n",
      "weighted avg       0.81      0.86      0.83       257\n",
      "\n"
     ]
    }
   ],
   "source": [
    "print(classification_report(y_test, y_pred))"
   ]
  },
  {
   "cell_type": "code",
   "execution_count": 67,
   "metadata": {},
   "outputs": [
    {
     "name": "stdout",
     "output_type": "stream",
     "text": [
      "Fitting 5 folds for each of 100 candidates, totalling 500 fits\n"
     ]
    }
   ],
   "source": [
    "from scipy.stats import randint\n",
    "model = DecisionTreeClassifier(random_state=42)\n",
    "\n",
    "# Step 5: Set hyperparameter distributions\n",
    "param_distributions = {\n",
    "    'max_depth': randint(1, 20),\n",
    "    'min_samples_split': randint(2, 10),\n",
    "    'min_samples_leaf': randint(1, 10),\n",
    "    'criterion': ['gini', 'entropy']\n",
    "}\n",
    "\n",
    "# Step 6: Perform randomized search\n",
    "random_search = RandomizedSearchCV(\n",
    "    estimator=model,\n",
    "    param_distributions=param_distributions,\n",
    "    n_iter=100,  # Number of parameter settings to sample\n",
    "    scoring='accuracy',\n",
    "    cv=5,\n",
    "    random_state=42,\n",
    "    verbose=1,\n",
    "    n_jobs=-1\n",
    ")\n",
    "random_search.fit(X_train, y_train)\n",
    "\n",
    "# Step 7: Evaluate the best model\n",
    "best_model = random_search.best_estimator_\n",
    "y_pred = best_model.predict(X_test)"
   ]
  },
  {
   "cell_type": "code",
   "execution_count": 68,
   "metadata": {},
   "outputs": [
    {
     "data": {
      "text/plain": [
       "<Axes: >"
      ]
     },
     "execution_count": 68,
     "metadata": {},
     "output_type": "execute_result"
    },
    {
     "data": {
      "image/png": "[encoded data removed]",
      "text/plain": [
       "<Figure size 1000x700 with 2 Axes>"
      ]
     },
     "metadata": {},
     "output_type": "display_data"
    }
   ],
   "source": [
    "cm = confusion_matrix(y_test, y_pred)\n",
    "plt.figure(figsize = (10,7))\n",
    "sns.heatmap(cm, annot=True)"
   ]
  }
 ],
 "metadata": {
  "kernelspec": {
   "display_name": "BHL10",
   "language": "python",
   "name": "python3"
  },
  "language_info": {
   "codemirror_mode": {
    "name": "ipython",
    "version": 3
   },
   "file_extension": ".py",
   "mimetype": "text/x-python",
   "name": "python",
   "nbconvert_exporter": "python",
   "pygments_lexer": "ipython3",
   "version": "3.10.15"
  }
 },
 "nbformat": 4,
 "nbformat_minor": 2
}
