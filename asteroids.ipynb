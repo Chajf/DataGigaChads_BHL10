{
 "cells": [
  {
   "cell_type": "code",
   "execution_count": 1,
   "id": "initial_id",
   "metadata": {
    "collapsed": true,
    "ExecuteTime": {
     "end_time": "2024-12-07T21:04:35.323936Z",
     "start_time": "2024-12-07T21:04:35.314878Z"
    }
   },
   "outputs": [],
   "source": [
    "# import pandas as pd\n",
    "# asteoroids = pd.read_csv('datasets/Asteroid Selection.csv')\n",
    "# asteoroids.drop(columns=['Spec.type','Launch date (one-way)','Min total dv (km/s)'],inplace=True)\n",
    "# asteoroids.rename(columns={'Launch date (round-trip)': 'Launch date'}, inplace=True)\n",
    "# asteoroids.to_csv('datasets/Asteroid.csv', index=False)\n",
    "# asteoroids"
   ]
  },
  {
   "cell_type": "code",
   "outputs": [],
   "source": [
    "import pandas as pd\n",
    "asteoroids = pd.read_csv('datasets/Asteroid.csv')"
   ],
   "metadata": {
    "collapsed": false,
    "ExecuteTime": {
     "end_time": "2024-12-07T21:04:36.129135Z",
     "start_time": "2024-12-07T21:04:35.362716Z"
    }
   },
   "id": "c5a6b3d76f9508a5",
   "execution_count": 2
  },
  {
   "cell_type": "code",
   "outputs": [
    {
     "data": {
      "text/plain": "       Spkid    Surname     Name  OCC Diameter (km)  TOF (days) Launch date  \\\n0    2000433    1898 DQ     Eros    0         16,84         270  2025-08-13   \n1    2000719    1911 MT   Albert    0   2,71 ÷ 6.07         180  2048-04-22   \n2    2000887    1918 DB   Alinda    0           4,2         420  2025-01-01   \n3    2001036    1924 TD  Ganymed    0        37,675         160  2037-05-18   \n4    2001580    1950 KA  Betulia    0           5,8         440  2027-12-09   \n..       ...        ...      ...  ...           ...         ...         ...   \n321  3114075   2002 DO3      NaN    6   0,14 ÷ 0.31         310  2039-07-17   \n322  3114077   2002 DQ3      NaN    6   0,06 ÷ 0.13         380  2032-06-13   \n323  3114105    2002 EA      NaN    8   0,11 ÷ 0.25         120  2030-09-02   \n324  3114106    2002 EC      NaN    7   0,07 ÷ 0.16         430  2042-09-29   \n325  3448992  2009 DD45      NaN    4   0,02 ÷ 0.05         230  2037-08-06   \n\n     Min total dv (km/s).1  Mission duration (days)  Stay (days)  \n0                    14.41                      348            8  \n1                    23.15                      448            8  \n2                    20.59                      388            8  \n3                    31.36                      348            8  \n4                    40.73                      350           10  \n..                     ...                      ...          ...  \n321                  11.46                      338            8  \n322                  10.93                      443            8  \n323                  15.00                      353            8  \n324                  13.27                      173            8  \n325                  11.67                      393           18  \n\n[326 rows x 10 columns]",
      "text/html": "<div>\n<style scoped>\n    .dataframe tbody tr th:only-of-type {\n        vertical-align: middle;\n    }\n\n    .dataframe tbody tr th {\n        vertical-align: top;\n    }\n\n    .dataframe thead th {\n        text-align: right;\n    }\n</style>\n<table border=\"1\" class=\"dataframe\">\n  <thead>\n    <tr style=\"text-align: right;\">\n      <th></th>\n      <th>Spkid</th>\n      <th>Surname</th>\n      <th>Name</th>\n      <th>OCC</th>\n      <th>Diameter (km)</th>\n      <th>TOF (days)</th>\n      <th>Launch date</th>\n      <th>Min total dv (km/s).1</th>\n      <th>Mission duration (days)</th>\n      <th>Stay (days)</th>\n    </tr>\n  </thead>\n  <tbody>\n    <tr>\n      <th>0</th>\n      <td>2000433</td>\n      <td>1898 DQ</td>\n      <td>Eros</td>\n      <td>0</td>\n      <td>16,84</td>\n      <td>270</td>\n      <td>2025-08-13</td>\n      <td>14.41</td>\n      <td>348</td>\n      <td>8</td>\n    </tr>\n    <tr>\n      <th>1</th>\n      <td>2000719</td>\n      <td>1911 MT</td>\n      <td>Albert</td>\n      <td>0</td>\n      <td>2,71 ÷ 6.07</td>\n      <td>180</td>\n      <td>2048-04-22</td>\n      <td>23.15</td>\n      <td>448</td>\n      <td>8</td>\n    </tr>\n    <tr>\n      <th>2</th>\n      <td>2000887</td>\n      <td>1918 DB</td>\n      <td>Alinda</td>\n      <td>0</td>\n      <td>4,2</td>\n      <td>420</td>\n      <td>2025-01-01</td>\n      <td>20.59</td>\n      <td>388</td>\n      <td>8</td>\n    </tr>\n    <tr>\n      <th>3</th>\n      <td>2001036</td>\n      <td>1924 TD</td>\n      <td>Ganymed</td>\n      <td>0</td>\n      <td>37,675</td>\n      <td>160</td>\n      <td>2037-05-18</td>\n      <td>31.36</td>\n      <td>348</td>\n      <td>8</td>\n    </tr>\n    <tr>\n      <th>4</th>\n      <td>2001580</td>\n      <td>1950 KA</td>\n      <td>Betulia</td>\n      <td>0</td>\n      <td>5,8</td>\n      <td>440</td>\n      <td>2027-12-09</td>\n      <td>40.73</td>\n      <td>350</td>\n      <td>10</td>\n    </tr>\n    <tr>\n      <th>...</th>\n      <td>...</td>\n      <td>...</td>\n      <td>...</td>\n      <td>...</td>\n      <td>...</td>\n      <td>...</td>\n      <td>...</td>\n      <td>...</td>\n      <td>...</td>\n      <td>...</td>\n    </tr>\n    <tr>\n      <th>321</th>\n      <td>3114075</td>\n      <td>2002 DO3</td>\n      <td>NaN</td>\n      <td>6</td>\n      <td>0,14 ÷ 0.31</td>\n      <td>310</td>\n      <td>2039-07-17</td>\n      <td>11.46</td>\n      <td>338</td>\n      <td>8</td>\n    </tr>\n    <tr>\n      <th>322</th>\n      <td>3114077</td>\n      <td>2002 DQ3</td>\n      <td>NaN</td>\n      <td>6</td>\n      <td>0,06 ÷ 0.13</td>\n      <td>380</td>\n      <td>2032-06-13</td>\n      <td>10.93</td>\n      <td>443</td>\n      <td>8</td>\n    </tr>\n    <tr>\n      <th>323</th>\n      <td>3114105</td>\n      <td>2002 EA</td>\n      <td>NaN</td>\n      <td>8</td>\n      <td>0,11 ÷ 0.25</td>\n      <td>120</td>\n      <td>2030-09-02</td>\n      <td>15.00</td>\n      <td>353</td>\n      <td>8</td>\n    </tr>\n    <tr>\n      <th>324</th>\n      <td>3114106</td>\n      <td>2002 EC</td>\n      <td>NaN</td>\n      <td>7</td>\n      <td>0,07 ÷ 0.16</td>\n      <td>430</td>\n      <td>2042-09-29</td>\n      <td>13.27</td>\n      <td>173</td>\n      <td>8</td>\n    </tr>\n    <tr>\n      <th>325</th>\n      <td>3448992</td>\n      <td>2009 DD45</td>\n      <td>NaN</td>\n      <td>4</td>\n      <td>0,02 ÷ 0.05</td>\n      <td>230</td>\n      <td>2037-08-06</td>\n      <td>11.67</td>\n      <td>393</td>\n      <td>18</td>\n    </tr>\n  </tbody>\n</table>\n<p>326 rows × 10 columns</p>\n</div>"
     },
     "execution_count": 3,
     "metadata": {},
     "output_type": "execute_result"
    }
   ],
   "source": [
    "asteoroids"
   ],
   "metadata": {
    "collapsed": false,
    "ExecuteTime": {
     "end_time": "2024-12-07T21:04:36.158483Z",
     "start_time": "2024-12-07T21:04:36.130274Z"
    }
   },
   "id": "d8135a43c0f00989",
   "execution_count": 3
  },
  {
   "cell_type": "code",
   "outputs": [],
   "source": [
    "# asteoroids.drop(columns=['Spkid','Surname'], inplace=True)"
   ],
   "metadata": {
    "collapsed": false,
    "ExecuteTime": {
     "end_time": "2024-12-07T21:04:36.173621Z",
     "start_time": "2024-12-07T21:04:36.159605Z"
    }
   },
   "id": "ff155febc5273efc",
   "execution_count": 4
  },
  {
   "cell_type": "code",
   "outputs": [],
   "source": [
    "asteoroids.rename(columns={'Diameter (km)': 'Diameter', 'Min total dv (km/s).1': 'Min_dv', 'Launch date': 'Launch_date', 'Mission duration (days)': 'Duration', 'Stay (days)': 'Stay', 'TOF (days)': 'TOF'}, inplace=True)"
   ],
   "metadata": {
    "collapsed": false,
    "ExecuteTime": {
     "end_time": "2024-12-07T21:04:36.189114Z",
     "start_time": "2024-12-07T21:04:36.175987Z"
    }
   },
   "id": "598f2ff38220286a",
   "execution_count": 5
  },
  {
   "cell_type": "code",
   "outputs": [],
   "source": [
    "import re\n",
    "\n",
    "def replace_range_with_middle(text):\n",
    "    match = re.search(r'(\\d+(\\,\\d+)?) ÷ (\\d+(\\.\\d+)?)', text)\n",
    "    if match:\n",
    "        num1 = float(match.group(1).replace(',','.'))\n",
    "        num2 = float(match.group(3))\n",
    "        middle = (num1 + num2) / 2\n",
    "        return float(text.replace(match.group(0), str(round(middle, 2))))\n",
    "    return float(text.replace(',','.'))\n",
    "\n",
    "asteoroids['Diameter'] = asteoroids['Diameter'].apply(replace_range_with_middle)"
   ],
   "metadata": {
    "collapsed": false,
    "ExecuteTime": {
     "end_time": "2024-12-07T21:04:36.204578Z",
     "start_time": "2024-12-07T21:04:36.191398Z"
    }
   },
   "id": "7088cb1c9ccf8d71",
   "execution_count": 6
  },
  {
   "cell_type": "code",
   "outputs": [
    {
     "data": {
      "text/plain": "       Spkid    Surname     Name  OCC  Diameter  TOF Launch_date  Min_dv  \\\n0    2000433    1898 DQ     Eros    0    16.840  270  2025-08-13   14.41   \n1    2000719    1911 MT   Albert    0     4.390  180  2048-04-22   23.15   \n2    2000887    1918 DB   Alinda    0     4.200  420  2025-01-01   20.59   \n3    2001036    1924 TD  Ganymed    0    37.675  160  2037-05-18   31.36   \n4    2001580    1950 KA  Betulia    0     5.800  440  2027-12-09   40.73   \n..       ...        ...      ...  ...       ...  ...         ...     ...   \n321  3114075   2002 DO3      NaN    6     0.230  310  2039-07-17   11.46   \n322  3114077   2002 DQ3      NaN    6     0.100  380  2032-06-13   10.93   \n323  3114105    2002 EA      NaN    8     0.180  120  2030-09-02   15.00   \n324  3114106    2002 EC      NaN    7     0.120  430  2042-09-29   13.27   \n325  3448992  2009 DD45      NaN    4     0.040  230  2037-08-06   11.67   \n\n     Duration  Stay  \n0         348     8  \n1         448     8  \n2         388     8  \n3         348     8  \n4         350    10  \n..        ...   ...  \n321       338     8  \n322       443     8  \n323       353     8  \n324       173     8  \n325       393    18  \n\n[326 rows x 10 columns]",
      "text/html": "<div>\n<style scoped>\n    .dataframe tbody tr th:only-of-type {\n        vertical-align: middle;\n    }\n\n    .dataframe tbody tr th {\n        vertical-align: top;\n    }\n\n    .dataframe thead th {\n        text-align: right;\n    }\n</style>\n<table border=\"1\" class=\"dataframe\">\n  <thead>\n    <tr style=\"text-align: right;\">\n      <th></th>\n      <th>Spkid</th>\n      <th>Surname</th>\n      <th>Name</th>\n      <th>OCC</th>\n      <th>Diameter</th>\n      <th>TOF</th>\n      <th>Launch_date</th>\n      <th>Min_dv</th>\n      <th>Duration</th>\n      <th>Stay</th>\n    </tr>\n  </thead>\n  <tbody>\n    <tr>\n      <th>0</th>\n      <td>2000433</td>\n      <td>1898 DQ</td>\n      <td>Eros</td>\n      <td>0</td>\n      <td>16.840</td>\n      <td>270</td>\n      <td>2025-08-13</td>\n      <td>14.41</td>\n      <td>348</td>\n      <td>8</td>\n    </tr>\n    <tr>\n      <th>1</th>\n      <td>2000719</td>\n      <td>1911 MT</td>\n      <td>Albert</td>\n      <td>0</td>\n      <td>4.390</td>\n      <td>180</td>\n      <td>2048-04-22</td>\n      <td>23.15</td>\n      <td>448</td>\n      <td>8</td>\n    </tr>\n    <tr>\n      <th>2</th>\n      <td>2000887</td>\n      <td>1918 DB</td>\n      <td>Alinda</td>\n      <td>0</td>\n      <td>4.200</td>\n      <td>420</td>\n      <td>2025-01-01</td>\n      <td>20.59</td>\n      <td>388</td>\n      <td>8</td>\n    </tr>\n    <tr>\n      <th>3</th>\n      <td>2001036</td>\n      <td>1924 TD</td>\n      <td>Ganymed</td>\n      <td>0</td>\n      <td>37.675</td>\n      <td>160</td>\n      <td>2037-05-18</td>\n      <td>31.36</td>\n      <td>348</td>\n      <td>8</td>\n    </tr>\n    <tr>\n      <th>4</th>\n      <td>2001580</td>\n      <td>1950 KA</td>\n      <td>Betulia</td>\n      <td>0</td>\n      <td>5.800</td>\n      <td>440</td>\n      <td>2027-12-09</td>\n      <td>40.73</td>\n      <td>350</td>\n      <td>10</td>\n    </tr>\n    <tr>\n      <th>...</th>\n      <td>...</td>\n      <td>...</td>\n      <td>...</td>\n      <td>...</td>\n      <td>...</td>\n      <td>...</td>\n      <td>...</td>\n      <td>...</td>\n      <td>...</td>\n      <td>...</td>\n    </tr>\n    <tr>\n      <th>321</th>\n      <td>3114075</td>\n      <td>2002 DO3</td>\n      <td>NaN</td>\n      <td>6</td>\n      <td>0.230</td>\n      <td>310</td>\n      <td>2039-07-17</td>\n      <td>11.46</td>\n      <td>338</td>\n      <td>8</td>\n    </tr>\n    <tr>\n      <th>322</th>\n      <td>3114077</td>\n      <td>2002 DQ3</td>\n      <td>NaN</td>\n      <td>6</td>\n      <td>0.100</td>\n      <td>380</td>\n      <td>2032-06-13</td>\n      <td>10.93</td>\n      <td>443</td>\n      <td>8</td>\n    </tr>\n    <tr>\n      <th>323</th>\n      <td>3114105</td>\n      <td>2002 EA</td>\n      <td>NaN</td>\n      <td>8</td>\n      <td>0.180</td>\n      <td>120</td>\n      <td>2030-09-02</td>\n      <td>15.00</td>\n      <td>353</td>\n      <td>8</td>\n    </tr>\n    <tr>\n      <th>324</th>\n      <td>3114106</td>\n      <td>2002 EC</td>\n      <td>NaN</td>\n      <td>7</td>\n      <td>0.120</td>\n      <td>430</td>\n      <td>2042-09-29</td>\n      <td>13.27</td>\n      <td>173</td>\n      <td>8</td>\n    </tr>\n    <tr>\n      <th>325</th>\n      <td>3448992</td>\n      <td>2009 DD45</td>\n      <td>NaN</td>\n      <td>4</td>\n      <td>0.040</td>\n      <td>230</td>\n      <td>2037-08-06</td>\n      <td>11.67</td>\n      <td>393</td>\n      <td>18</td>\n    </tr>\n  </tbody>\n</table>\n<p>326 rows × 10 columns</p>\n</div>"
     },
     "execution_count": 7,
     "metadata": {},
     "output_type": "execute_result"
    }
   ],
   "source": [
    "asteoroids"
   ],
   "metadata": {
    "collapsed": false,
    "ExecuteTime": {
     "end_time": "2024-12-07T21:04:36.235987Z",
     "start_time": "2024-12-07T21:04:36.205637Z"
    }
   },
   "id": "66f79db78d487430",
   "execution_count": 7
  },
  {
   "cell_type": "code",
   "outputs": [],
   "source": [
    "asteoroids['Launch_date'] = pd.to_datetime(asteoroids['Launch_date'], format='%Y-%m-%d')"
   ],
   "metadata": {
    "collapsed": false,
    "ExecuteTime": {
     "end_time": "2024-12-07T21:04:36.251163Z",
     "start_time": "2024-12-07T21:04:36.238141Z"
    }
   },
   "id": "bd4aeb2a54a314f7",
   "execution_count": 8
  },
  {
   "cell_type": "code",
   "outputs": [
    {
     "name": "stdout",
     "output_type": "stream",
     "text": [
      "Table created successfully.\n",
      "Data inserted successfully.\n"
     ]
    }
   ],
   "source": [
    "import sqlite3\n",
    "\n",
    "conn = sqlite3.connect(\"database.db\")\n",
    "cursor = conn.cursor()\n",
    "\n",
    "cursor.execute(\"DROP TABLE IF EXISTS ASTEROIDS;\")\n",
    "cursor.execute(\"\"\"\n",
    "CREATE TABLE ASTEROIDS (\n",
    "    Spkid INTEGER NOT NULL,\n",
    "    Surname TEXT NOT NULL,\n",
    "    Name TEXT,\n",
    "    OCC INTEGER NOT NULL,\n",
    "    Diameter REAL NOT NULL,\n",
    "    TOF REAL NOT NULL,\n",
    "    Launch_date DATE NOT NULL,\n",
    "    Min_dv REAL NOT NULL,\n",
    "    Duration INTEGER NOT NULL,\n",
    "    Stay INTEGER NOT NULL\n",
    ")\n",
    "\"\"\")\n",
    "print(\"Table created successfully.\")\n",
    "\n",
    "asteoroids.to_sql(\"ASTEROIDS\", conn, if_exists=\"append\", index=False)\n",
    "print(\"Data inserted successfully.\")\n",
    "\n",
    "conn.commit()\n",
    "conn.close()"
   ],
   "metadata": {
    "collapsed": false,
    "ExecuteTime": {
     "end_time": "2024-12-07T21:04:48.587230Z",
     "start_time": "2024-12-07T21:04:48.559382Z"
    }
   },
   "id": "bf8e14a5338b85ff",
   "execution_count": 9
  },
  {
   "cell_type": "code",
   "outputs": [
    {
     "data": {
      "text/plain": "       Spkid    Surname     Name  OCC  Diameter    TOF          Launch_date  \\\n0    2000433    1898 DQ     Eros    0    16.840  270.0  2025-08-13 00:00:00   \n1    2000719    1911 MT   Albert    0     4.390  180.0  2048-04-22 00:00:00   \n2    2000887    1918 DB   Alinda    0     4.200  420.0  2025-01-01 00:00:00   \n3    2001036    1924 TD  Ganymed    0    37.675  160.0  2037-05-18 00:00:00   \n4    2001580    1950 KA  Betulia    0     5.800  440.0  2027-12-09 00:00:00   \n..       ...        ...      ...  ...       ...    ...                  ...   \n321  3114075   2002 DO3     None    6     0.230  310.0  2039-07-17 00:00:00   \n322  3114077   2002 DQ3     None    6     0.100  380.0  2032-06-13 00:00:00   \n323  3114105    2002 EA     None    8     0.180  120.0  2030-09-02 00:00:00   \n324  3114106    2002 EC     None    7     0.120  430.0  2042-09-29 00:00:00   \n325  3448992  2009 DD45     None    4     0.040  230.0  2037-08-06 00:00:00   \n\n     Min_dv  Duration  Stay  \n0     14.41       348     8  \n1     23.15       448     8  \n2     20.59       388     8  \n3     31.36       348     8  \n4     40.73       350    10  \n..      ...       ...   ...  \n321   11.46       338     8  \n322   10.93       443     8  \n323   15.00       353     8  \n324   13.27       173     8  \n325   11.67       393    18  \n\n[326 rows x 10 columns]",
      "text/html": "<div>\n<style scoped>\n    .dataframe tbody tr th:only-of-type {\n        vertical-align: middle;\n    }\n\n    .dataframe tbody tr th {\n        vertical-align: top;\n    }\n\n    .dataframe thead th {\n        text-align: right;\n    }\n</style>\n<table border=\"1\" class=\"dataframe\">\n  <thead>\n    <tr style=\"text-align: right;\">\n      <th></th>\n      <th>Spkid</th>\n      <th>Surname</th>\n      <th>Name</th>\n      <th>OCC</th>\n      <th>Diameter</th>\n      <th>TOF</th>\n      <th>Launch_date</th>\n      <th>Min_dv</th>\n      <th>Duration</th>\n      <th>Stay</th>\n    </tr>\n  </thead>\n  <tbody>\n    <tr>\n      <th>0</th>\n      <td>2000433</td>\n      <td>1898 DQ</td>\n      <td>Eros</td>\n      <td>0</td>\n      <td>16.840</td>\n      <td>270.0</td>\n      <td>2025-08-13 00:00:00</td>\n      <td>14.41</td>\n      <td>348</td>\n      <td>8</td>\n    </tr>\n    <tr>\n      <th>1</th>\n      <td>2000719</td>\n      <td>1911 MT</td>\n      <td>Albert</td>\n      <td>0</td>\n      <td>4.390</td>\n      <td>180.0</td>\n      <td>2048-04-22 00:00:00</td>\n      <td>23.15</td>\n      <td>448</td>\n      <td>8</td>\n    </tr>\n    <tr>\n      <th>2</th>\n      <td>2000887</td>\n      <td>1918 DB</td>\n      <td>Alinda</td>\n      <td>0</td>\n      <td>4.200</td>\n      <td>420.0</td>\n      <td>2025-01-01 00:00:00</td>\n      <td>20.59</td>\n      <td>388</td>\n      <td>8</td>\n    </tr>\n    <tr>\n      <th>3</th>\n      <td>2001036</td>\n      <td>1924 TD</td>\n      <td>Ganymed</td>\n      <td>0</td>\n      <td>37.675</td>\n      <td>160.0</td>\n      <td>2037-05-18 00:00:00</td>\n      <td>31.36</td>\n      <td>348</td>\n      <td>8</td>\n    </tr>\n    <tr>\n      <th>4</th>\n      <td>2001580</td>\n      <td>1950 KA</td>\n      <td>Betulia</td>\n      <td>0</td>\n      <td>5.800</td>\n      <td>440.0</td>\n      <td>2027-12-09 00:00:00</td>\n      <td>40.73</td>\n      <td>350</td>\n      <td>10</td>\n    </tr>\n    <tr>\n      <th>...</th>\n      <td>...</td>\n      <td>...</td>\n      <td>...</td>\n      <td>...</td>\n      <td>...</td>\n      <td>...</td>\n      <td>...</td>\n      <td>...</td>\n      <td>...</td>\n      <td>...</td>\n    </tr>\n    <tr>\n      <th>321</th>\n      <td>3114075</td>\n      <td>2002 DO3</td>\n      <td>None</td>\n      <td>6</td>\n      <td>0.230</td>\n      <td>310.0</td>\n      <td>2039-07-17 00:00:00</td>\n      <td>11.46</td>\n      <td>338</td>\n      <td>8</td>\n    </tr>\n    <tr>\n      <th>322</th>\n      <td>3114077</td>\n      <td>2002 DQ3</td>\n      <td>None</td>\n      <td>6</td>\n      <td>0.100</td>\n      <td>380.0</td>\n      <td>2032-06-13 00:00:00</td>\n      <td>10.93</td>\n      <td>443</td>\n      <td>8</td>\n    </tr>\n    <tr>\n      <th>323</th>\n      <td>3114105</td>\n      <td>2002 EA</td>\n      <td>None</td>\n      <td>8</td>\n      <td>0.180</td>\n      <td>120.0</td>\n      <td>2030-09-02 00:00:00</td>\n      <td>15.00</td>\n      <td>353</td>\n      <td>8</td>\n    </tr>\n    <tr>\n      <th>324</th>\n      <td>3114106</td>\n      <td>2002 EC</td>\n      <td>None</td>\n      <td>7</td>\n      <td>0.120</td>\n      <td>430.0</td>\n      <td>2042-09-29 00:00:00</td>\n      <td>13.27</td>\n      <td>173</td>\n      <td>8</td>\n    </tr>\n    <tr>\n      <th>325</th>\n      <td>3448992</td>\n      <td>2009 DD45</td>\n      <td>None</td>\n      <td>4</td>\n      <td>0.040</td>\n      <td>230.0</td>\n      <td>2037-08-06 00:00:00</td>\n      <td>11.67</td>\n      <td>393</td>\n      <td>18</td>\n    </tr>\n  </tbody>\n</table>\n<p>326 rows × 10 columns</p>\n</div>"
     },
     "execution_count": 10,
     "metadata": {},
     "output_type": "execute_result"
    }
   ],
   "source": [
    "import pandas as pd\n",
    "import sqlite3\n",
    "\n",
    "conn = sqlite3.connect(\"database.db\")\n",
    "cursor = conn.cursor()\n",
    "query = \"SELECT * FROM ASTEROIDS;\"\n",
    "df = pd.read_sql_query(query, conn)\n",
    "df"
   ],
   "metadata": {
    "collapsed": false,
    "ExecuteTime": {
     "end_time": "2024-12-07T21:04:51.407715Z",
     "start_time": "2024-12-07T21:04:51.377631Z"
    }
   },
   "id": "999ee405a81f0698",
   "execution_count": 10
  }
 ],
 "metadata": {
  "kernelspec": {
   "display_name": "Python 3",
   "language": "python",
   "name": "python3"
  },
  "language_info": {
   "codemirror_mode": {
    "name": "ipython",
    "version": 2
   },
   "file_extension": ".py",
   "mimetype": "text/x-python",
   "name": "python",
   "nbconvert_exporter": "python",
   "pygments_lexer": "ipython2",
   "version": "2.7.6"
  }
 },
 "nbformat": 4,
 "nbformat_minor": 5
}
