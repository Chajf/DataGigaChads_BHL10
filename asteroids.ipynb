{
 "cells": [
  {
   "cell_type": "code",
   "execution_count": 3,
   "id": "initial_id",
   "metadata": {
    "collapsed": true,
    "ExecuteTime": {
     "end_time": "2024-12-08T04:05:38.040214Z",
     "start_time": "2024-12-08T04:05:38.006182Z"
    }
   },
   "outputs": [
    {
     "data": {
      "text/plain": "                 spec_T    Surname     Name  OCC  Diameter    TOF  \\\n0                 Other    1898 DQ     Eros    0    16.840  270.0   \n1    0.8902148008346558    1911 MT   Albert    0     4.390  180.0   \n2                 Other    1918 DB   Alinda    0     4.200  420.0   \n3                 Other    1924 TD  Ganymed    0    37.675  160.0   \n4                 Other    1950 KA  Betulia    0     5.800  440.0   \n..                  ...        ...      ...  ...       ...    ...   \n321  0.8973981738090515   2002 DO3      NaN    6     0.230  310.0   \n322   0.957049548625946   2002 DQ3      NaN    6     0.100  380.0   \n323  0.9447842240333557    2002 EA      NaN    8     0.180  120.0   \n324  0.9831030368804932    2002 EC      NaN    7     0.120  430.0   \n325  0.9630048274993896  2009 DD45      NaN    4     0.040  230.0   \n\n             Launch_date  Min_dv  Duration  Stay  \n0    2025-08-13 00:00:00   14.41       348     8  \n1    2048-04-22 00:00:00   23.15       448     8  \n2    2025-01-01 00:00:00   20.59       388     8  \n3    2037-05-18 00:00:00   31.36       348     8  \n4    2027-12-09 00:00:00   40.73       350    10  \n..                   ...     ...       ...   ...  \n321  2039-07-17 00:00:00   11.46       338     8  \n322  2032-06-13 00:00:00   10.93       443     8  \n323  2030-09-02 00:00:00   15.00       353     8  \n324  2042-09-29 00:00:00   13.27       173     8  \n325  2037-08-06 00:00:00   11.67       393    18  \n\n[326 rows x 10 columns]",
      "text/html": "<div>\n<style scoped>\n    .dataframe tbody tr th:only-of-type {\n        vertical-align: middle;\n    }\n\n    .dataframe tbody tr th {\n        vertical-align: top;\n    }\n\n    .dataframe thead th {\n        text-align: right;\n    }\n</style>\n<table border=\"1\" class=\"dataframe\">\n  <thead>\n    <tr style=\"text-align: right;\">\n      <th></th>\n      <th>spec_T</th>\n      <th>Surname</th>\n      <th>Name</th>\n      <th>OCC</th>\n      <th>Diameter</th>\n      <th>TOF</th>\n      <th>Launch_date</th>\n      <th>Min_dv</th>\n      <th>Duration</th>\n      <th>Stay</th>\n    </tr>\n  </thead>\n  <tbody>\n    <tr>\n      <th>0</th>\n      <td>Other</td>\n      <td>1898 DQ</td>\n      <td>Eros</td>\n      <td>0</td>\n      <td>16.840</td>\n      <td>270.0</td>\n      <td>2025-08-13 00:00:00</td>\n      <td>14.41</td>\n      <td>348</td>\n      <td>8</td>\n    </tr>\n    <tr>\n      <th>1</th>\n      <td>0.8902148008346558</td>\n      <td>1911 MT</td>\n      <td>Albert</td>\n      <td>0</td>\n      <td>4.390</td>\n      <td>180.0</td>\n      <td>2048-04-22 00:00:00</td>\n      <td>23.15</td>\n      <td>448</td>\n      <td>8</td>\n    </tr>\n    <tr>\n      <th>2</th>\n      <td>Other</td>\n      <td>1918 DB</td>\n      <td>Alinda</td>\n      <td>0</td>\n      <td>4.200</td>\n      <td>420.0</td>\n      <td>2025-01-01 00:00:00</td>\n      <td>20.59</td>\n      <td>388</td>\n      <td>8</td>\n    </tr>\n    <tr>\n      <th>3</th>\n      <td>Other</td>\n      <td>1924 TD</td>\n      <td>Ganymed</td>\n      <td>0</td>\n      <td>37.675</td>\n      <td>160.0</td>\n      <td>2037-05-18 00:00:00</td>\n      <td>31.36</td>\n      <td>348</td>\n      <td>8</td>\n    </tr>\n    <tr>\n      <th>4</th>\n      <td>Other</td>\n      <td>1950 KA</td>\n      <td>Betulia</td>\n      <td>0</td>\n      <td>5.800</td>\n      <td>440.0</td>\n      <td>2027-12-09 00:00:00</td>\n      <td>40.73</td>\n      <td>350</td>\n      <td>10</td>\n    </tr>\n    <tr>\n      <th>...</th>\n      <td>...</td>\n      <td>...</td>\n      <td>...</td>\n      <td>...</td>\n      <td>...</td>\n      <td>...</td>\n      <td>...</td>\n      <td>...</td>\n      <td>...</td>\n      <td>...</td>\n    </tr>\n    <tr>\n      <th>321</th>\n      <td>0.8973981738090515</td>\n      <td>2002 DO3</td>\n      <td>NaN</td>\n      <td>6</td>\n      <td>0.230</td>\n      <td>310.0</td>\n      <td>2039-07-17 00:00:00</td>\n      <td>11.46</td>\n      <td>338</td>\n      <td>8</td>\n    </tr>\n    <tr>\n      <th>322</th>\n      <td>0.957049548625946</td>\n      <td>2002 DQ3</td>\n      <td>NaN</td>\n      <td>6</td>\n      <td>0.100</td>\n      <td>380.0</td>\n      <td>2032-06-13 00:00:00</td>\n      <td>10.93</td>\n      <td>443</td>\n      <td>8</td>\n    </tr>\n    <tr>\n      <th>323</th>\n      <td>0.9447842240333557</td>\n      <td>2002 EA</td>\n      <td>NaN</td>\n      <td>8</td>\n      <td>0.180</td>\n      <td>120.0</td>\n      <td>2030-09-02 00:00:00</td>\n      <td>15.00</td>\n      <td>353</td>\n      <td>8</td>\n    </tr>\n    <tr>\n      <th>324</th>\n      <td>0.9831030368804932</td>\n      <td>2002 EC</td>\n      <td>NaN</td>\n      <td>7</td>\n      <td>0.120</td>\n      <td>430.0</td>\n      <td>2042-09-29 00:00:00</td>\n      <td>13.27</td>\n      <td>173</td>\n      <td>8</td>\n    </tr>\n    <tr>\n      <th>325</th>\n      <td>0.9630048274993896</td>\n      <td>2009 DD45</td>\n      <td>NaN</td>\n      <td>4</td>\n      <td>0.040</td>\n      <td>230.0</td>\n      <td>2037-08-06 00:00:00</td>\n      <td>11.67</td>\n      <td>393</td>\n      <td>18</td>\n    </tr>\n  </tbody>\n</table>\n<p>326 rows × 10 columns</p>\n</div>"
     },
     "execution_count": 3,
     "metadata": {},
     "output_type": "execute_result"
    }
   ],
   "source": [
    "import pandas as pd\n",
    "# asteoroids = pd.read_csv('datasets/Asteroid Selection.csv')\n",
    "# asteoroids.drop(columns=['Spec.type','Launch date (one-way)','Min total dv (km/s)'],inplace=True)\n",
    "# asteoroids.rename(columns={'Launch date (round-trip)': 'Launch date'}, inplace=True)\n",
    "# asteoroids.to_csv('datasets/Asteroid.csv', index=False)\n",
    "# asteoroids\n",
    "asteoroids = pd.read_csv('datasets/df.csv')\n",
    "asteoroids.drop(columns=['Unnamed: 0','H','albedo','diameter','i','a','q','e','neo','spkid'],inplace=True)\n",
    "asteoroids.rename(columns={'Launch date (round-trip)': 'Launch date'}, inplace=True)\n",
    "asteoroids.to_csv('datasets/Asteroid.csv', index=False)\n",
    "asteoroids"
   ]
  },
  {
   "cell_type": "code",
   "outputs": [],
   "source": [
    "import pandas as pd\n",
    "asteoroids = pd.read_csv('datasets/Asteroid.csv')"
   ],
   "metadata": {
    "collapsed": false,
    "ExecuteTime": {
     "end_time": "2024-12-08T04:05:41.836083Z",
     "start_time": "2024-12-08T04:05:41.821566Z"
    }
   },
   "id": "c5a6b3d76f9508a5",
   "execution_count": 4
  },
  {
   "cell_type": "code",
   "outputs": [
    {
     "data": {
      "text/plain": "                 spec_T    Surname     Name  OCC  Diameter    TOF  \\\n0                 Other    1898 DQ     Eros    0    16.840  270.0   \n1    0.8902148008346558    1911 MT   Albert    0     4.390  180.0   \n2                 Other    1918 DB   Alinda    0     4.200  420.0   \n3                 Other    1924 TD  Ganymed    0    37.675  160.0   \n4                 Other    1950 KA  Betulia    0     5.800  440.0   \n..                  ...        ...      ...  ...       ...    ...   \n321  0.8973981738090515   2002 DO3      NaN    6     0.230  310.0   \n322   0.957049548625946   2002 DQ3      NaN    6     0.100  380.0   \n323  0.9447842240333557    2002 EA      NaN    8     0.180  120.0   \n324  0.9831030368804932    2002 EC      NaN    7     0.120  430.0   \n325  0.9630048274993896  2009 DD45      NaN    4     0.040  230.0   \n\n             Launch_date  Min_dv  Duration  Stay  \n0    2025-08-13 00:00:00   14.41       348     8  \n1    2048-04-22 00:00:00   23.15       448     8  \n2    2025-01-01 00:00:00   20.59       388     8  \n3    2037-05-18 00:00:00   31.36       348     8  \n4    2027-12-09 00:00:00   40.73       350    10  \n..                   ...     ...       ...   ...  \n321  2039-07-17 00:00:00   11.46       338     8  \n322  2032-06-13 00:00:00   10.93       443     8  \n323  2030-09-02 00:00:00   15.00       353     8  \n324  2042-09-29 00:00:00   13.27       173     8  \n325  2037-08-06 00:00:00   11.67       393    18  \n\n[326 rows x 10 columns]",
      "text/html": "<div>\n<style scoped>\n    .dataframe tbody tr th:only-of-type {\n        vertical-align: middle;\n    }\n\n    .dataframe tbody tr th {\n        vertical-align: top;\n    }\n\n    .dataframe thead th {\n        text-align: right;\n    }\n</style>\n<table border=\"1\" class=\"dataframe\">\n  <thead>\n    <tr style=\"text-align: right;\">\n      <th></th>\n      <th>spec_T</th>\n      <th>Surname</th>\n      <th>Name</th>\n      <th>OCC</th>\n      <th>Diameter</th>\n      <th>TOF</th>\n      <th>Launch_date</th>\n      <th>Min_dv</th>\n      <th>Duration</th>\n      <th>Stay</th>\n    </tr>\n  </thead>\n  <tbody>\n    <tr>\n      <th>0</th>\n      <td>Other</td>\n      <td>1898 DQ</td>\n      <td>Eros</td>\n      <td>0</td>\n      <td>16.840</td>\n      <td>270.0</td>\n      <td>2025-08-13 00:00:00</td>\n      <td>14.41</td>\n      <td>348</td>\n      <td>8</td>\n    </tr>\n    <tr>\n      <th>1</th>\n      <td>0.8902148008346558</td>\n      <td>1911 MT</td>\n      <td>Albert</td>\n      <td>0</td>\n      <td>4.390</td>\n      <td>180.0</td>\n      <td>2048-04-22 00:00:00</td>\n      <td>23.15</td>\n      <td>448</td>\n      <td>8</td>\n    </tr>\n    <tr>\n      <th>2</th>\n      <td>Other</td>\n      <td>1918 DB</td>\n      <td>Alinda</td>\n      <td>0</td>\n      <td>4.200</td>\n      <td>420.0</td>\n      <td>2025-01-01 00:00:00</td>\n      <td>20.59</td>\n      <td>388</td>\n      <td>8</td>\n    </tr>\n    <tr>\n      <th>3</th>\n      <td>Other</td>\n      <td>1924 TD</td>\n      <td>Ganymed</td>\n      <td>0</td>\n      <td>37.675</td>\n      <td>160.0</td>\n      <td>2037-05-18 00:00:00</td>\n      <td>31.36</td>\n      <td>348</td>\n      <td>8</td>\n    </tr>\n    <tr>\n      <th>4</th>\n      <td>Other</td>\n      <td>1950 KA</td>\n      <td>Betulia</td>\n      <td>0</td>\n      <td>5.800</td>\n      <td>440.0</td>\n      <td>2027-12-09 00:00:00</td>\n      <td>40.73</td>\n      <td>350</td>\n      <td>10</td>\n    </tr>\n    <tr>\n      <th>...</th>\n      <td>...</td>\n      <td>...</td>\n      <td>...</td>\n      <td>...</td>\n      <td>...</td>\n      <td>...</td>\n      <td>...</td>\n      <td>...</td>\n      <td>...</td>\n      <td>...</td>\n    </tr>\n    <tr>\n      <th>321</th>\n      <td>0.8973981738090515</td>\n      <td>2002 DO3</td>\n      <td>NaN</td>\n      <td>6</td>\n      <td>0.230</td>\n      <td>310.0</td>\n      <td>2039-07-17 00:00:00</td>\n      <td>11.46</td>\n      <td>338</td>\n      <td>8</td>\n    </tr>\n    <tr>\n      <th>322</th>\n      <td>0.957049548625946</td>\n      <td>2002 DQ3</td>\n      <td>NaN</td>\n      <td>6</td>\n      <td>0.100</td>\n      <td>380.0</td>\n      <td>2032-06-13 00:00:00</td>\n      <td>10.93</td>\n      <td>443</td>\n      <td>8</td>\n    </tr>\n    <tr>\n      <th>323</th>\n      <td>0.9447842240333557</td>\n      <td>2002 EA</td>\n      <td>NaN</td>\n      <td>8</td>\n      <td>0.180</td>\n      <td>120.0</td>\n      <td>2030-09-02 00:00:00</td>\n      <td>15.00</td>\n      <td>353</td>\n      <td>8</td>\n    </tr>\n    <tr>\n      <th>324</th>\n      <td>0.9831030368804932</td>\n      <td>2002 EC</td>\n      <td>NaN</td>\n      <td>7</td>\n      <td>0.120</td>\n      <td>430.0</td>\n      <td>2042-09-29 00:00:00</td>\n      <td>13.27</td>\n      <td>173</td>\n      <td>8</td>\n    </tr>\n    <tr>\n      <th>325</th>\n      <td>0.9630048274993896</td>\n      <td>2009 DD45</td>\n      <td>NaN</td>\n      <td>4</td>\n      <td>0.040</td>\n      <td>230.0</td>\n      <td>2037-08-06 00:00:00</td>\n      <td>11.67</td>\n      <td>393</td>\n      <td>18</td>\n    </tr>\n  </tbody>\n</table>\n<p>326 rows × 10 columns</p>\n</div>"
     },
     "execution_count": 5,
     "metadata": {},
     "output_type": "execute_result"
    }
   ],
   "source": [
    "asteoroids"
   ],
   "metadata": {
    "collapsed": false,
    "ExecuteTime": {
     "end_time": "2024-12-08T04:05:44.273537Z",
     "start_time": "2024-12-08T04:05:44.246768Z"
    }
   },
   "id": "d8135a43c0f00989",
   "execution_count": 5
  },
  {
   "cell_type": "code",
   "outputs": [],
   "source": [
    "# asteoroids.drop(columns=['Spkid','Surname'], inplace=True)"
   ],
   "metadata": {
    "collapsed": false,
    "ExecuteTime": {
     "end_time": "2024-12-07T22:53:03.889163Z",
     "start_time": "2024-12-07T22:53:03.873601Z"
    }
   },
   "id": "ff155febc5273efc",
   "execution_count": 13
  },
  {
   "cell_type": "code",
   "outputs": [],
   "source": [
    "asteoroids.rename(columns={'Diameter (km)': 'Diameter', 'Min total dv (km/s).1': 'Min_dv', 'Launch date': 'Launch_date', 'Mission duration (days)': 'Duration', 'Stay (days)': 'Stay', 'TOF (days)': 'TOF'}, inplace=True)"
   ],
   "metadata": {
    "collapsed": false,
    "ExecuteTime": {
     "end_time": "2024-12-08T04:05:51.691785Z",
     "start_time": "2024-12-08T04:05:51.680590Z"
    }
   },
   "id": "598f2ff38220286a",
   "execution_count": 6
  },
  {
   "cell_type": "code",
   "outputs": [],
   "source": [
    "import re\n",
    "\n",
    "def replace_range_with_middle(text):\n",
    "    match = re.search(r'(\\d+(\\,\\d+)?) ÷ (\\d+(\\.\\d+)?)', text)\n",
    "    if match:\n",
    "        num1 = float(match.group(1).replace(',','.'))\n",
    "        num2 = float(match.group(3))\n",
    "        middle = (num1 + num2) / 2\n",
    "        return float(text.replace(match.group(0), str(round(middle, 2))))\n",
    "    return float(text.replace(',','.'))\n",
    "\n",
    "asteoroids['Diameter'] = asteoroids['Diameter'].apply(replace_range_with_middle)"
   ],
   "metadata": {
    "collapsed": false,
    "ExecuteTime": {
     "end_time": "2024-12-08T04:06:20.898749Z",
     "start_time": "2024-12-08T04:06:20.885610Z"
    }
   },
   "id": "7088cb1c9ccf8d71",
   "execution_count": 8
  },
  {
   "cell_type": "code",
   "outputs": [
    {
     "data": {
      "text/plain": "                 spec_T    Surname     Name  OCC  Diameter    TOF  \\\n0                 Other    1898 DQ     Eros    0    16.840  270.0   \n1    0.8902148008346558    1911 MT   Albert    0     4.390  180.0   \n2                 Other    1918 DB   Alinda    0     4.200  420.0   \n3                 Other    1924 TD  Ganymed    0    37.675  160.0   \n4                 Other    1950 KA  Betulia    0     5.800  440.0   \n..                  ...        ...      ...  ...       ...    ...   \n321  0.8973981738090515   2002 DO3      NaN    6     0.230  310.0   \n322   0.957049548625946   2002 DQ3      NaN    6     0.100  380.0   \n323  0.9447842240333557    2002 EA      NaN    8     0.180  120.0   \n324  0.9831030368804932    2002 EC      NaN    7     0.120  430.0   \n325  0.9630048274993896  2009 DD45      NaN    4     0.040  230.0   \n\n             Launch_date  Min_dv  Duration  Stay  \n0    2025-08-13 00:00:00   14.41       348     8  \n1    2048-04-22 00:00:00   23.15       448     8  \n2    2025-01-01 00:00:00   20.59       388     8  \n3    2037-05-18 00:00:00   31.36       348     8  \n4    2027-12-09 00:00:00   40.73       350    10  \n..                   ...     ...       ...   ...  \n321  2039-07-17 00:00:00   11.46       338     8  \n322  2032-06-13 00:00:00   10.93       443     8  \n323  2030-09-02 00:00:00   15.00       353     8  \n324  2042-09-29 00:00:00   13.27       173     8  \n325  2037-08-06 00:00:00   11.67       393    18  \n\n[326 rows x 10 columns]",
      "text/html": "<div>\n<style scoped>\n    .dataframe tbody tr th:only-of-type {\n        vertical-align: middle;\n    }\n\n    .dataframe tbody tr th {\n        vertical-align: top;\n    }\n\n    .dataframe thead th {\n        text-align: right;\n    }\n</style>\n<table border=\"1\" class=\"dataframe\">\n  <thead>\n    <tr style=\"text-align: right;\">\n      <th></th>\n      <th>spec_T</th>\n      <th>Surname</th>\n      <th>Name</th>\n      <th>OCC</th>\n      <th>Diameter</th>\n      <th>TOF</th>\n      <th>Launch_date</th>\n      <th>Min_dv</th>\n      <th>Duration</th>\n      <th>Stay</th>\n    </tr>\n  </thead>\n  <tbody>\n    <tr>\n      <th>0</th>\n      <td>Other</td>\n      <td>1898 DQ</td>\n      <td>Eros</td>\n      <td>0</td>\n      <td>16.840</td>\n      <td>270.0</td>\n      <td>2025-08-13 00:00:00</td>\n      <td>14.41</td>\n      <td>348</td>\n      <td>8</td>\n    </tr>\n    <tr>\n      <th>1</th>\n      <td>0.8902148008346558</td>\n      <td>1911 MT</td>\n      <td>Albert</td>\n      <td>0</td>\n      <td>4.390</td>\n      <td>180.0</td>\n      <td>2048-04-22 00:00:00</td>\n      <td>23.15</td>\n      <td>448</td>\n      <td>8</td>\n    </tr>\n    <tr>\n      <th>2</th>\n      <td>Other</td>\n      <td>1918 DB</td>\n      <td>Alinda</td>\n      <td>0</td>\n      <td>4.200</td>\n      <td>420.0</td>\n      <td>2025-01-01 00:00:00</td>\n      <td>20.59</td>\n      <td>388</td>\n      <td>8</td>\n    </tr>\n    <tr>\n      <th>3</th>\n      <td>Other</td>\n      <td>1924 TD</td>\n      <td>Ganymed</td>\n      <td>0</td>\n      <td>37.675</td>\n      <td>160.0</td>\n      <td>2037-05-18 00:00:00</td>\n      <td>31.36</td>\n      <td>348</td>\n      <td>8</td>\n    </tr>\n    <tr>\n      <th>4</th>\n      <td>Other</td>\n      <td>1950 KA</td>\n      <td>Betulia</td>\n      <td>0</td>\n      <td>5.800</td>\n      <td>440.0</td>\n      <td>2027-12-09 00:00:00</td>\n      <td>40.73</td>\n      <td>350</td>\n      <td>10</td>\n    </tr>\n    <tr>\n      <th>...</th>\n      <td>...</td>\n      <td>...</td>\n      <td>...</td>\n      <td>...</td>\n      <td>...</td>\n      <td>...</td>\n      <td>...</td>\n      <td>...</td>\n      <td>...</td>\n      <td>...</td>\n    </tr>\n    <tr>\n      <th>321</th>\n      <td>0.8973981738090515</td>\n      <td>2002 DO3</td>\n      <td>NaN</td>\n      <td>6</td>\n      <td>0.230</td>\n      <td>310.0</td>\n      <td>2039-07-17 00:00:00</td>\n      <td>11.46</td>\n      <td>338</td>\n      <td>8</td>\n    </tr>\n    <tr>\n      <th>322</th>\n      <td>0.957049548625946</td>\n      <td>2002 DQ3</td>\n      <td>NaN</td>\n      <td>6</td>\n      <td>0.100</td>\n      <td>380.0</td>\n      <td>2032-06-13 00:00:00</td>\n      <td>10.93</td>\n      <td>443</td>\n      <td>8</td>\n    </tr>\n    <tr>\n      <th>323</th>\n      <td>0.9447842240333557</td>\n      <td>2002 EA</td>\n      <td>NaN</td>\n      <td>8</td>\n      <td>0.180</td>\n      <td>120.0</td>\n      <td>2030-09-02 00:00:00</td>\n      <td>15.00</td>\n      <td>353</td>\n      <td>8</td>\n    </tr>\n    <tr>\n      <th>324</th>\n      <td>0.9831030368804932</td>\n      <td>2002 EC</td>\n      <td>NaN</td>\n      <td>7</td>\n      <td>0.120</td>\n      <td>430.0</td>\n      <td>2042-09-29 00:00:00</td>\n      <td>13.27</td>\n      <td>173</td>\n      <td>8</td>\n    </tr>\n    <tr>\n      <th>325</th>\n      <td>0.9630048274993896</td>\n      <td>2009 DD45</td>\n      <td>NaN</td>\n      <td>4</td>\n      <td>0.040</td>\n      <td>230.0</td>\n      <td>2037-08-06 00:00:00</td>\n      <td>11.67</td>\n      <td>393</td>\n      <td>18</td>\n    </tr>\n  </tbody>\n</table>\n<p>326 rows × 10 columns</p>\n</div>"
     },
     "execution_count": 9,
     "metadata": {},
     "output_type": "execute_result"
    }
   ],
   "source": [
    "asteoroids"
   ],
   "metadata": {
    "collapsed": false,
    "ExecuteTime": {
     "end_time": "2024-12-08T04:06:24.862076Z",
     "start_time": "2024-12-08T04:06:24.842227Z"
    }
   },
   "id": "66f79db78d487430",
   "execution_count": 9
  },
  {
   "cell_type": "code",
   "outputs": [],
   "source": [
    "asteoroids['Launch_date'] = pd.to_datetime(asteoroids['Launch_date'], format='%Y-%m-%d')"
   ],
   "metadata": {
    "collapsed": false,
    "ExecuteTime": {
     "end_time": "2024-12-08T04:06:34.369742Z",
     "start_time": "2024-12-08T04:06:34.365432Z"
    }
   },
   "id": "bd4aeb2a54a314f7",
   "execution_count": 11
  },
  {
   "cell_type": "code",
   "outputs": [],
   "source": [
    "def process_column(value):\n",
    "    try:\n",
    "        # Try to convert to float and round to 3 decimal places\n",
    "        return f\"{round(float(value), 2):.2f}\"\n",
    "    except ValueError:\n",
    "        # If conversion fails, return the original value\n",
    "        return value\n",
    "\n",
    "# Apply the function to the column\n",
    "asteoroids['spec_T'] = asteoroids['spec_T'].apply(process_column)"
   ],
   "metadata": {
    "collapsed": false,
    "ExecuteTime": {
     "end_time": "2024-12-08T04:11:53.835649Z",
     "start_time": "2024-12-08T04:11:53.817632Z"
    }
   },
   "id": "acc69a99d0a51397",
   "execution_count": 16
  },
  {
   "cell_type": "code",
   "outputs": [
    {
     "data": {
      "text/plain": "    spec_T    Surname     Name  OCC  Diameter    TOF          Launch_date  \\\n0    Other    1898 DQ     Eros    0    16.840  270.0  2025-08-13 00:00:00   \n1     0.89    1911 MT   Albert    0     4.390  180.0  2048-04-22 00:00:00   \n2    Other    1918 DB   Alinda    0     4.200  420.0  2025-01-01 00:00:00   \n3    Other    1924 TD  Ganymed    0    37.675  160.0  2037-05-18 00:00:00   \n4    Other    1950 KA  Betulia    0     5.800  440.0  2027-12-09 00:00:00   \n..     ...        ...      ...  ...       ...    ...                  ...   \n321   0.90   2002 DO3      NaN    6     0.230  310.0  2039-07-17 00:00:00   \n322   0.96   2002 DQ3      NaN    6     0.100  380.0  2032-06-13 00:00:00   \n323   0.94    2002 EA      NaN    8     0.180  120.0  2030-09-02 00:00:00   \n324   0.98    2002 EC      NaN    7     0.120  430.0  2042-09-29 00:00:00   \n325   0.96  2009 DD45      NaN    4     0.040  230.0  2037-08-06 00:00:00   \n\n     Min_dv  Duration  Stay  \n0     14.41       348     8  \n1     23.15       448     8  \n2     20.59       388     8  \n3     31.36       348     8  \n4     40.73       350    10  \n..      ...       ...   ...  \n321   11.46       338     8  \n322   10.93       443     8  \n323   15.00       353     8  \n324   13.27       173     8  \n325   11.67       393    18  \n\n[326 rows x 10 columns]",
      "text/html": "<div>\n<style scoped>\n    .dataframe tbody tr th:only-of-type {\n        vertical-align: middle;\n    }\n\n    .dataframe tbody tr th {\n        vertical-align: top;\n    }\n\n    .dataframe thead th {\n        text-align: right;\n    }\n</style>\n<table border=\"1\" class=\"dataframe\">\n  <thead>\n    <tr style=\"text-align: right;\">\n      <th></th>\n      <th>spec_T</th>\n      <th>Surname</th>\n      <th>Name</th>\n      <th>OCC</th>\n      <th>Diameter</th>\n      <th>TOF</th>\n      <th>Launch_date</th>\n      <th>Min_dv</th>\n      <th>Duration</th>\n      <th>Stay</th>\n    </tr>\n  </thead>\n  <tbody>\n    <tr>\n      <th>0</th>\n      <td>Other</td>\n      <td>1898 DQ</td>\n      <td>Eros</td>\n      <td>0</td>\n      <td>16.840</td>\n      <td>270.0</td>\n      <td>2025-08-13 00:00:00</td>\n      <td>14.41</td>\n      <td>348</td>\n      <td>8</td>\n    </tr>\n    <tr>\n      <th>1</th>\n      <td>0.89</td>\n      <td>1911 MT</td>\n      <td>Albert</td>\n      <td>0</td>\n      <td>4.390</td>\n      <td>180.0</td>\n      <td>2048-04-22 00:00:00</td>\n      <td>23.15</td>\n      <td>448</td>\n      <td>8</td>\n    </tr>\n    <tr>\n      <th>2</th>\n      <td>Other</td>\n      <td>1918 DB</td>\n      <td>Alinda</td>\n      <td>0</td>\n      <td>4.200</td>\n      <td>420.0</td>\n      <td>2025-01-01 00:00:00</td>\n      <td>20.59</td>\n      <td>388</td>\n      <td>8</td>\n    </tr>\n    <tr>\n      <th>3</th>\n      <td>Other</td>\n      <td>1924 TD</td>\n      <td>Ganymed</td>\n      <td>0</td>\n      <td>37.675</td>\n      <td>160.0</td>\n      <td>2037-05-18 00:00:00</td>\n      <td>31.36</td>\n      <td>348</td>\n      <td>8</td>\n    </tr>\n    <tr>\n      <th>4</th>\n      <td>Other</td>\n      <td>1950 KA</td>\n      <td>Betulia</td>\n      <td>0</td>\n      <td>5.800</td>\n      <td>440.0</td>\n      <td>2027-12-09 00:00:00</td>\n      <td>40.73</td>\n      <td>350</td>\n      <td>10</td>\n    </tr>\n    <tr>\n      <th>...</th>\n      <td>...</td>\n      <td>...</td>\n      <td>...</td>\n      <td>...</td>\n      <td>...</td>\n      <td>...</td>\n      <td>...</td>\n      <td>...</td>\n      <td>...</td>\n      <td>...</td>\n    </tr>\n    <tr>\n      <th>321</th>\n      <td>0.90</td>\n      <td>2002 DO3</td>\n      <td>NaN</td>\n      <td>6</td>\n      <td>0.230</td>\n      <td>310.0</td>\n      <td>2039-07-17 00:00:00</td>\n      <td>11.46</td>\n      <td>338</td>\n      <td>8</td>\n    </tr>\n    <tr>\n      <th>322</th>\n      <td>0.96</td>\n      <td>2002 DQ3</td>\n      <td>NaN</td>\n      <td>6</td>\n      <td>0.100</td>\n      <td>380.0</td>\n      <td>2032-06-13 00:00:00</td>\n      <td>10.93</td>\n      <td>443</td>\n      <td>8</td>\n    </tr>\n    <tr>\n      <th>323</th>\n      <td>0.94</td>\n      <td>2002 EA</td>\n      <td>NaN</td>\n      <td>8</td>\n      <td>0.180</td>\n      <td>120.0</td>\n      <td>2030-09-02 00:00:00</td>\n      <td>15.00</td>\n      <td>353</td>\n      <td>8</td>\n    </tr>\n    <tr>\n      <th>324</th>\n      <td>0.98</td>\n      <td>2002 EC</td>\n      <td>NaN</td>\n      <td>7</td>\n      <td>0.120</td>\n      <td>430.0</td>\n      <td>2042-09-29 00:00:00</td>\n      <td>13.27</td>\n      <td>173</td>\n      <td>8</td>\n    </tr>\n    <tr>\n      <th>325</th>\n      <td>0.96</td>\n      <td>2009 DD45</td>\n      <td>NaN</td>\n      <td>4</td>\n      <td>0.040</td>\n      <td>230.0</td>\n      <td>2037-08-06 00:00:00</td>\n      <td>11.67</td>\n      <td>393</td>\n      <td>18</td>\n    </tr>\n  </tbody>\n</table>\n<p>326 rows × 10 columns</p>\n</div>"
     },
     "execution_count": 17,
     "metadata": {},
     "output_type": "execute_result"
    }
   ],
   "source": [
    "asteoroids"
   ],
   "metadata": {
    "collapsed": false,
    "ExecuteTime": {
     "end_time": "2024-12-08T04:11:55.488080Z",
     "start_time": "2024-12-08T04:11:55.470618Z"
    }
   },
   "id": "3145ee3dd42bd752",
   "execution_count": 17
  },
  {
   "cell_type": "code",
   "outputs": [
    {
     "name": "stdout",
     "output_type": "stream",
     "text": [
      "Table created successfully.\n",
      "Data inserted successfully.\n"
     ]
    }
   ],
   "source": [
    "import sqlite3\n",
    "\n",
    "conn = sqlite3.connect(\"database.db\")\n",
    "cursor = conn.cursor()\n",
    "\n",
    "cursor.execute(\"DROP TABLE IF EXISTS ASTEROIDS;\")\n",
    "cursor.execute(\"\"\"\n",
    "CREATE TABLE ASTEROIDS (\n",
    "    spec_T INTEGER NOT NULL,\n",
    "    Surname TEXT NOT NULL,\n",
    "    Name TEXT,\n",
    "    OCC INTEGER NOT NULL,\n",
    "    Diameter REAL NOT NULL,\n",
    "    TOF REAL NOT NULL,\n",
    "    Launch_date DATE NOT NULL,\n",
    "    Min_dv REAL NOT NULL,\n",
    "    Duration INTEGER NOT NULL,\n",
    "    Stay INTEGER NOT NULL\n",
    ")\n",
    "\"\"\")\n",
    "print(\"Table created successfully.\")\n",
    "\n",
    "asteoroids.to_sql(\"ASTEROIDS\", conn, if_exists=\"append\", index=False)\n",
    "print(\"Data inserted successfully.\")\n",
    "\n",
    "conn.commit()\n",
    "conn.close()"
   ],
   "metadata": {
    "collapsed": false,
    "ExecuteTime": {
     "end_time": "2024-12-08T04:12:08.131920Z",
     "start_time": "2024-12-08T04:12:08.108811Z"
    }
   },
   "id": "bf8e14a5338b85ff",
   "execution_count": 19
  },
  {
   "cell_type": "code",
   "outputs": [
    {
     "data": {
      "text/plain": "    spec_T    Surname     Name  OCC  Diameter    TOF          Launch_date  \\\n0    Other    1898 DQ     Eros    0    16.840  270.0  2025-08-13 00:00:00   \n1     0.89    1911 MT   Albert    0     4.390  180.0  2048-04-22 00:00:00   \n2    Other    1918 DB   Alinda    0     4.200  420.0  2025-01-01 00:00:00   \n3    Other    1924 TD  Ganymed    0    37.675  160.0  2037-05-18 00:00:00   \n4    Other    1950 KA  Betulia    0     5.800  440.0  2027-12-09 00:00:00   \n..     ...        ...      ...  ...       ...    ...                  ...   \n321    0.9   2002 DO3     None    6     0.230  310.0  2039-07-17 00:00:00   \n322   0.96   2002 DQ3     None    6     0.100  380.0  2032-06-13 00:00:00   \n323   0.94    2002 EA     None    8     0.180  120.0  2030-09-02 00:00:00   \n324   0.98    2002 EC     None    7     0.120  430.0  2042-09-29 00:00:00   \n325   0.96  2009 DD45     None    4     0.040  230.0  2037-08-06 00:00:00   \n\n     Min_dv  Duration  Stay  \n0     14.41       348     8  \n1     23.15       448     8  \n2     20.59       388     8  \n3     31.36       348     8  \n4     40.73       350    10  \n..      ...       ...   ...  \n321   11.46       338     8  \n322   10.93       443     8  \n323   15.00       353     8  \n324   13.27       173     8  \n325   11.67       393    18  \n\n[326 rows x 10 columns]",
      "text/html": "<div>\n<style scoped>\n    .dataframe tbody tr th:only-of-type {\n        vertical-align: middle;\n    }\n\n    .dataframe tbody tr th {\n        vertical-align: top;\n    }\n\n    .dataframe thead th {\n        text-align: right;\n    }\n</style>\n<table border=\"1\" class=\"dataframe\">\n  <thead>\n    <tr style=\"text-align: right;\">\n      <th></th>\n      <th>spec_T</th>\n      <th>Surname</th>\n      <th>Name</th>\n      <th>OCC</th>\n      <th>Diameter</th>\n      <th>TOF</th>\n      <th>Launch_date</th>\n      <th>Min_dv</th>\n      <th>Duration</th>\n      <th>Stay</th>\n    </tr>\n  </thead>\n  <tbody>\n    <tr>\n      <th>0</th>\n      <td>Other</td>\n      <td>1898 DQ</td>\n      <td>Eros</td>\n      <td>0</td>\n      <td>16.840</td>\n      <td>270.0</td>\n      <td>2025-08-13 00:00:00</td>\n      <td>14.41</td>\n      <td>348</td>\n      <td>8</td>\n    </tr>\n    <tr>\n      <th>1</th>\n      <td>0.89</td>\n      <td>1911 MT</td>\n      <td>Albert</td>\n      <td>0</td>\n      <td>4.390</td>\n      <td>180.0</td>\n      <td>2048-04-22 00:00:00</td>\n      <td>23.15</td>\n      <td>448</td>\n      <td>8</td>\n    </tr>\n    <tr>\n      <th>2</th>\n      <td>Other</td>\n      <td>1918 DB</td>\n      <td>Alinda</td>\n      <td>0</td>\n      <td>4.200</td>\n      <td>420.0</td>\n      <td>2025-01-01 00:00:00</td>\n      <td>20.59</td>\n      <td>388</td>\n      <td>8</td>\n    </tr>\n    <tr>\n      <th>3</th>\n      <td>Other</td>\n      <td>1924 TD</td>\n      <td>Ganymed</td>\n      <td>0</td>\n      <td>37.675</td>\n      <td>160.0</td>\n      <td>2037-05-18 00:00:00</td>\n      <td>31.36</td>\n      <td>348</td>\n      <td>8</td>\n    </tr>\n    <tr>\n      <th>4</th>\n      <td>Other</td>\n      <td>1950 KA</td>\n      <td>Betulia</td>\n      <td>0</td>\n      <td>5.800</td>\n      <td>440.0</td>\n      <td>2027-12-09 00:00:00</td>\n      <td>40.73</td>\n      <td>350</td>\n      <td>10</td>\n    </tr>\n    <tr>\n      <th>...</th>\n      <td>...</td>\n      <td>...</td>\n      <td>...</td>\n      <td>...</td>\n      <td>...</td>\n      <td>...</td>\n      <td>...</td>\n      <td>...</td>\n      <td>...</td>\n      <td>...</td>\n    </tr>\n    <tr>\n      <th>321</th>\n      <td>0.9</td>\n      <td>2002 DO3</td>\n      <td>None</td>\n      <td>6</td>\n      <td>0.230</td>\n      <td>310.0</td>\n      <td>2039-07-17 00:00:00</td>\n      <td>11.46</td>\n      <td>338</td>\n      <td>8</td>\n    </tr>\n    <tr>\n      <th>322</th>\n      <td>0.96</td>\n      <td>2002 DQ3</td>\n      <td>None</td>\n      <td>6</td>\n      <td>0.100</td>\n      <td>380.0</td>\n      <td>2032-06-13 00:00:00</td>\n      <td>10.93</td>\n      <td>443</td>\n      <td>8</td>\n    </tr>\n    <tr>\n      <th>323</th>\n      <td>0.94</td>\n      <td>2002 EA</td>\n      <td>None</td>\n      <td>8</td>\n      <td>0.180</td>\n      <td>120.0</td>\n      <td>2030-09-02 00:00:00</td>\n      <td>15.00</td>\n      <td>353</td>\n      <td>8</td>\n    </tr>\n    <tr>\n      <th>324</th>\n      <td>0.98</td>\n      <td>2002 EC</td>\n      <td>None</td>\n      <td>7</td>\n      <td>0.120</td>\n      <td>430.0</td>\n      <td>2042-09-29 00:00:00</td>\n      <td>13.27</td>\n      <td>173</td>\n      <td>8</td>\n    </tr>\n    <tr>\n      <th>325</th>\n      <td>0.96</td>\n      <td>2009 DD45</td>\n      <td>None</td>\n      <td>4</td>\n      <td>0.040</td>\n      <td>230.0</td>\n      <td>2037-08-06 00:00:00</td>\n      <td>11.67</td>\n      <td>393</td>\n      <td>18</td>\n    </tr>\n  </tbody>\n</table>\n<p>326 rows × 10 columns</p>\n</div>"
     },
     "execution_count": 20,
     "metadata": {},
     "output_type": "execute_result"
    }
   ],
   "source": [
    "import pandas as pd\n",
    "import sqlite3\n",
    "\n",
    "conn = sqlite3.connect(\"database.db\")\n",
    "cursor = conn.cursor()\n",
    "query = \"SELECT * FROM ASTEROIDS;\"\n",
    "df = pd.read_sql_query(query, conn)\n",
    "df"
   ],
   "metadata": {
    "collapsed": false,
    "ExecuteTime": {
     "end_time": "2024-12-08T04:12:16.153015Z",
     "start_time": "2024-12-08T04:12:16.124917Z"
    }
   },
   "id": "999ee405a81f0698",
   "execution_count": 20
  },
  {
   "cell_type": "markdown",
   "source": [
    "spec_T TEXT NOT NULL -- Numeric/Text - Numeric values indicate probability of a most value asteroid type, \"Other\" indicates high probability for a different type.\n",
    "Surname TEXT NOT NULL -- Catalogue Name of Asteroid.\n",
    "Name TEXT -- Common Name of Asteroid (not everyone has it).\n",
    "OCC INTEGER NOT NULL -- Orbit condition code, defines the asteroid’s orbit accuracy where 0 implies a well-determined orbit and 9 implies a very poorly-determined (highly uncertain) orbit.\n",
    "Diameter REAL NOT NULL -- Mean Diameter in kilometers.\n",
    "TOF REAL NOT NULL -- Time Of Flight to asteroid estimated for mission.\n",
    "Launch_date DATE NOT NULL -- Date of Launch for mission.\n",
    "Min_dv REAL NOT NULL -- Minimal requirement delta of Velocity.\n",
    "Duration INTEGER NOT NULL -- Expected Duration of a whole mission.\n",
    "Stay INTEGER NOT NULL -- How many days can mission stay for mining at asteroid."
   ],
   "metadata": {
    "collapsed": false
   },
   "id": "435eef9066035bdb"
  },
  {
   "cell_type": "code",
   "outputs": [
    {
     "data": {
      "text/plain": "       Spkid    Surname     Name  OCC  Diameter  TOF Launch_date  Min_dv  \\\n0    2000433    1898 DQ     Eros    0    16.840  270  2025-08-13   14.41   \n1    2000719    1911 MT   Albert    0     4.390  180  2048-04-22   23.15   \n2    2000887    1918 DB   Alinda    0     4.200  420  2025-01-01   20.59   \n3    2001036    1924 TD  Ganymed    0    37.675  160  2037-05-18   31.36   \n4    2001580    1950 KA  Betulia    0     5.800  440  2027-12-09   40.73   \n..       ...        ...      ...  ...       ...  ...         ...     ...   \n321  3114075   2002 DO3      NaN    6     0.230  310  2039-07-17   11.46   \n322  3114077   2002 DQ3      NaN    6     0.100  380  2032-06-13   10.93   \n323  3114105    2002 EA      NaN    8     0.180  120  2030-09-02   15.00   \n324  3114106    2002 EC      NaN    7     0.120  430  2042-09-29   13.27   \n325  3448992  2009 DD45      NaN    4     0.040  230  2037-08-06   11.67   \n\n     Duration  Stay Class  \n0         348     8     C  \n1         448     8     S  \n2         388     8     S  \n3         348     8     M  \n4         350    10     S  \n..        ...   ...   ...  \n321       338     8     C  \n322       443     8     S  \n323       353     8     M  \n324       173     8     C  \n325       393    18     S  \n\n[326 rows x 11 columns]",
      "text/html": "<div>\n<style scoped>\n    .dataframe tbody tr th:only-of-type {\n        vertical-align: middle;\n    }\n\n    .dataframe tbody tr th {\n        vertical-align: top;\n    }\n\n    .dataframe thead th {\n        text-align: right;\n    }\n</style>\n<table border=\"1\" class=\"dataframe\">\n  <thead>\n    <tr style=\"text-align: right;\">\n      <th></th>\n      <th>Spkid</th>\n      <th>Surname</th>\n      <th>Name</th>\n      <th>OCC</th>\n      <th>Diameter</th>\n      <th>TOF</th>\n      <th>Launch_date</th>\n      <th>Min_dv</th>\n      <th>Duration</th>\n      <th>Stay</th>\n      <th>Class</th>\n    </tr>\n  </thead>\n  <tbody>\n    <tr>\n      <th>0</th>\n      <td>2000433</td>\n      <td>1898 DQ</td>\n      <td>Eros</td>\n      <td>0</td>\n      <td>16.840</td>\n      <td>270</td>\n      <td>2025-08-13</td>\n      <td>14.41</td>\n      <td>348</td>\n      <td>8</td>\n      <td>C</td>\n    </tr>\n    <tr>\n      <th>1</th>\n      <td>2000719</td>\n      <td>1911 MT</td>\n      <td>Albert</td>\n      <td>0</td>\n      <td>4.390</td>\n      <td>180</td>\n      <td>2048-04-22</td>\n      <td>23.15</td>\n      <td>448</td>\n      <td>8</td>\n      <td>S</td>\n    </tr>\n    <tr>\n      <th>2</th>\n      <td>2000887</td>\n      <td>1918 DB</td>\n      <td>Alinda</td>\n      <td>0</td>\n      <td>4.200</td>\n      <td>420</td>\n      <td>2025-01-01</td>\n      <td>20.59</td>\n      <td>388</td>\n      <td>8</td>\n      <td>S</td>\n    </tr>\n    <tr>\n      <th>3</th>\n      <td>2001036</td>\n      <td>1924 TD</td>\n      <td>Ganymed</td>\n      <td>0</td>\n      <td>37.675</td>\n      <td>160</td>\n      <td>2037-05-18</td>\n      <td>31.36</td>\n      <td>348</td>\n      <td>8</td>\n      <td>M</td>\n    </tr>\n    <tr>\n      <th>4</th>\n      <td>2001580</td>\n      <td>1950 KA</td>\n      <td>Betulia</td>\n      <td>0</td>\n      <td>5.800</td>\n      <td>440</td>\n      <td>2027-12-09</td>\n      <td>40.73</td>\n      <td>350</td>\n      <td>10</td>\n      <td>S</td>\n    </tr>\n    <tr>\n      <th>...</th>\n      <td>...</td>\n      <td>...</td>\n      <td>...</td>\n      <td>...</td>\n      <td>...</td>\n      <td>...</td>\n      <td>...</td>\n      <td>...</td>\n      <td>...</td>\n      <td>...</td>\n      <td>...</td>\n    </tr>\n    <tr>\n      <th>321</th>\n      <td>3114075</td>\n      <td>2002 DO3</td>\n      <td>NaN</td>\n      <td>6</td>\n      <td>0.230</td>\n      <td>310</td>\n      <td>2039-07-17</td>\n      <td>11.46</td>\n      <td>338</td>\n      <td>8</td>\n      <td>C</td>\n    </tr>\n    <tr>\n      <th>322</th>\n      <td>3114077</td>\n      <td>2002 DQ3</td>\n      <td>NaN</td>\n      <td>6</td>\n      <td>0.100</td>\n      <td>380</td>\n      <td>2032-06-13</td>\n      <td>10.93</td>\n      <td>443</td>\n      <td>8</td>\n      <td>S</td>\n    </tr>\n    <tr>\n      <th>323</th>\n      <td>3114105</td>\n      <td>2002 EA</td>\n      <td>NaN</td>\n      <td>8</td>\n      <td>0.180</td>\n      <td>120</td>\n      <td>2030-09-02</td>\n      <td>15.00</td>\n      <td>353</td>\n      <td>8</td>\n      <td>M</td>\n    </tr>\n    <tr>\n      <th>324</th>\n      <td>3114106</td>\n      <td>2002 EC</td>\n      <td>NaN</td>\n      <td>7</td>\n      <td>0.120</td>\n      <td>430</td>\n      <td>2042-09-29</td>\n      <td>13.27</td>\n      <td>173</td>\n      <td>8</td>\n      <td>C</td>\n    </tr>\n    <tr>\n      <th>325</th>\n      <td>3448992</td>\n      <td>2009 DD45</td>\n      <td>NaN</td>\n      <td>4</td>\n      <td>0.040</td>\n      <td>230</td>\n      <td>2037-08-06</td>\n      <td>11.67</td>\n      <td>393</td>\n      <td>18</td>\n      <td>S</td>\n    </tr>\n  </tbody>\n</table>\n<p>326 rows × 11 columns</p>\n</div>"
     },
     "execution_count": 20,
     "metadata": {},
     "output_type": "execute_result"
    }
   ],
   "source": [
    "import random\n",
    "asteoroids['Class'] = [random.choice(['M', 'S', 'C']) for _ in range(len(asteoroids))]\n",
    "asteoroids"
   ],
   "metadata": {
    "collapsed": false,
    "ExecuteTime": {
     "end_time": "2024-12-07T22:55:45.064751Z",
     "start_time": "2024-12-07T22:55:45.040578Z"
    }
   },
   "id": "52347f3d711d1cb2",
   "execution_count": 20
  },
  {
   "cell_type": "code",
   "outputs": [
    {
     "name": "stdout",
     "output_type": "stream",
     "text": [
      "Table created successfully.\n",
      "Data inserted successfully.\n"
     ]
    }
   ],
   "source": [
    "import sqlite3\n",
    "\n",
    "conn = sqlite3.connect(\"database2.db\")\n",
    "cursor = conn.cursor()\n",
    "\n",
    "cursor.execute(\"DROP TABLE IF EXISTS ASTEROIDS;\")\n",
    "cursor.execute(\"\"\"\n",
    "CREATE TABLE ASTEROIDS (\n",
    "    Spkid INTEGER NOT NULL,\n",
    "    Surname TEXT NOT NULL,\n",
    "    Name TEXT,\n",
    "    OCC INTEGER NOT NULL,\n",
    "    Diameter REAL NOT NULL,\n",
    "    TOF REAL NOT NULL,\n",
    "    Launch_date DATE NOT NULL,\n",
    "    Min_dv REAL NOT NULL,\n",
    "    Duration INTEGER NOT NULL,\n",
    "    Stay INTEGER NOT NULL,\n",
    "    Class TEXT NOT NULL\n",
    ")\n",
    "\"\"\")\n",
    "print(\"Table created successfully.\")\n",
    "\n",
    "asteoroids.to_sql(\"ASTEROIDS\", conn, if_exists=\"append\", index=False)\n",
    "print(\"Data inserted successfully.\")\n",
    "\n",
    "conn.commit()\n",
    "conn.close()"
   ],
   "metadata": {
    "collapsed": false,
    "ExecuteTime": {
     "end_time": "2024-12-07T22:56:46.261626Z",
     "start_time": "2024-12-07T22:56:46.239949Z"
    }
   },
   "id": "2bca5f0fb82eb094",
   "execution_count": 21
  },
  {
   "cell_type": "code",
   "outputs": [
    {
     "data": {
      "text/plain": "       Spkid    Surname     Name  OCC  Diameter    TOF          Launch_date  \\\n0    2000433    1898 DQ     Eros    0    16.840  270.0  2025-08-13 00:00:00   \n1    2000719    1911 MT   Albert    0     4.390  180.0  2048-04-22 00:00:00   \n2    2000887    1918 DB   Alinda    0     4.200  420.0  2025-01-01 00:00:00   \n3    2001036    1924 TD  Ganymed    0    37.675  160.0  2037-05-18 00:00:00   \n4    2001580    1950 KA  Betulia    0     5.800  440.0  2027-12-09 00:00:00   \n..       ...        ...      ...  ...       ...    ...                  ...   \n321  3114075   2002 DO3     None    6     0.230  310.0  2039-07-17 00:00:00   \n322  3114077   2002 DQ3     None    6     0.100  380.0  2032-06-13 00:00:00   \n323  3114105    2002 EA     None    8     0.180  120.0  2030-09-02 00:00:00   \n324  3114106    2002 EC     None    7     0.120  430.0  2042-09-29 00:00:00   \n325  3448992  2009 DD45     None    4     0.040  230.0  2037-08-06 00:00:00   \n\n     Min_dv  Duration  Stay Class  \n0     14.41       348     8     C  \n1     23.15       448     8     S  \n2     20.59       388     8     S  \n3     31.36       348     8     M  \n4     40.73       350    10     S  \n..      ...       ...   ...   ...  \n321   11.46       338     8     C  \n322   10.93       443     8     S  \n323   15.00       353     8     M  \n324   13.27       173     8     C  \n325   11.67       393    18     S  \n\n[326 rows x 11 columns]",
      "text/html": "<div>\n<style scoped>\n    .dataframe tbody tr th:only-of-type {\n        vertical-align: middle;\n    }\n\n    .dataframe tbody tr th {\n        vertical-align: top;\n    }\n\n    .dataframe thead th {\n        text-align: right;\n    }\n</style>\n<table border=\"1\" class=\"dataframe\">\n  <thead>\n    <tr style=\"text-align: right;\">\n      <th></th>\n      <th>Spkid</th>\n      <th>Surname</th>\n      <th>Name</th>\n      <th>OCC</th>\n      <th>Diameter</th>\n      <th>TOF</th>\n      <th>Launch_date</th>\n      <th>Min_dv</th>\n      <th>Duration</th>\n      <th>Stay</th>\n      <th>Class</th>\n    </tr>\n  </thead>\n  <tbody>\n    <tr>\n      <th>0</th>\n      <td>2000433</td>\n      <td>1898 DQ</td>\n      <td>Eros</td>\n      <td>0</td>\n      <td>16.840</td>\n      <td>270.0</td>\n      <td>2025-08-13 00:00:00</td>\n      <td>14.41</td>\n      <td>348</td>\n      <td>8</td>\n      <td>C</td>\n    </tr>\n    <tr>\n      <th>1</th>\n      <td>2000719</td>\n      <td>1911 MT</td>\n      <td>Albert</td>\n      <td>0</td>\n      <td>4.390</td>\n      <td>180.0</td>\n      <td>2048-04-22 00:00:00</td>\n      <td>23.15</td>\n      <td>448</td>\n      <td>8</td>\n      <td>S</td>\n    </tr>\n    <tr>\n      <th>2</th>\n      <td>2000887</td>\n      <td>1918 DB</td>\n      <td>Alinda</td>\n      <td>0</td>\n      <td>4.200</td>\n      <td>420.0</td>\n      <td>2025-01-01 00:00:00</td>\n      <td>20.59</td>\n      <td>388</td>\n      <td>8</td>\n      <td>S</td>\n    </tr>\n    <tr>\n      <th>3</th>\n      <td>2001036</td>\n      <td>1924 TD</td>\n      <td>Ganymed</td>\n      <td>0</td>\n      <td>37.675</td>\n      <td>160.0</td>\n      <td>2037-05-18 00:00:00</td>\n      <td>31.36</td>\n      <td>348</td>\n      <td>8</td>\n      <td>M</td>\n    </tr>\n    <tr>\n      <th>4</th>\n      <td>2001580</td>\n      <td>1950 KA</td>\n      <td>Betulia</td>\n      <td>0</td>\n      <td>5.800</td>\n      <td>440.0</td>\n      <td>2027-12-09 00:00:00</td>\n      <td>40.73</td>\n      <td>350</td>\n      <td>10</td>\n      <td>S</td>\n    </tr>\n    <tr>\n      <th>...</th>\n      <td>...</td>\n      <td>...</td>\n      <td>...</td>\n      <td>...</td>\n      <td>...</td>\n      <td>...</td>\n      <td>...</td>\n      <td>...</td>\n      <td>...</td>\n      <td>...</td>\n      <td>...</td>\n    </tr>\n    <tr>\n      <th>321</th>\n      <td>3114075</td>\n      <td>2002 DO3</td>\n      <td>None</td>\n      <td>6</td>\n      <td>0.230</td>\n      <td>310.0</td>\n      <td>2039-07-17 00:00:00</td>\n      <td>11.46</td>\n      <td>338</td>\n      <td>8</td>\n      <td>C</td>\n    </tr>\n    <tr>\n      <th>322</th>\n      <td>3114077</td>\n      <td>2002 DQ3</td>\n      <td>None</td>\n      <td>6</td>\n      <td>0.100</td>\n      <td>380.0</td>\n      <td>2032-06-13 00:00:00</td>\n      <td>10.93</td>\n      <td>443</td>\n      <td>8</td>\n      <td>S</td>\n    </tr>\n    <tr>\n      <th>323</th>\n      <td>3114105</td>\n      <td>2002 EA</td>\n      <td>None</td>\n      <td>8</td>\n      <td>0.180</td>\n      <td>120.0</td>\n      <td>2030-09-02 00:00:00</td>\n      <td>15.00</td>\n      <td>353</td>\n      <td>8</td>\n      <td>M</td>\n    </tr>\n    <tr>\n      <th>324</th>\n      <td>3114106</td>\n      <td>2002 EC</td>\n      <td>None</td>\n      <td>7</td>\n      <td>0.120</td>\n      <td>430.0</td>\n      <td>2042-09-29 00:00:00</td>\n      <td>13.27</td>\n      <td>173</td>\n      <td>8</td>\n      <td>C</td>\n    </tr>\n    <tr>\n      <th>325</th>\n      <td>3448992</td>\n      <td>2009 DD45</td>\n      <td>None</td>\n      <td>4</td>\n      <td>0.040</td>\n      <td>230.0</td>\n      <td>2037-08-06 00:00:00</td>\n      <td>11.67</td>\n      <td>393</td>\n      <td>18</td>\n      <td>S</td>\n    </tr>\n  </tbody>\n</table>\n<p>326 rows × 11 columns</p>\n</div>"
     },
     "execution_count": 23,
     "metadata": {},
     "output_type": "execute_result"
    }
   ],
   "source": [
    "import pandas as pd\n",
    "import sqlite3\n",
    "\n",
    "conn = sqlite3.connect(\"database2.db\")\n",
    "cursor = conn.cursor()\n",
    "query = \"SELECT * FROM ASTEROIDS;\"\n",
    "df = pd.read_sql_query(query, conn)\n",
    "df"
   ],
   "metadata": {
    "collapsed": false,
    "ExecuteTime": {
     "end_time": "2024-12-07T22:57:09.892748Z",
     "start_time": "2024-12-07T22:57:09.852886Z"
    }
   },
   "id": "545548e3d2e59032",
   "execution_count": 23
  }
 ],
 "metadata": {
  "kernelspec": {
   "display_name": "Python 3",
   "language": "python",
   "name": "python3"
  },
  "language_info": {
   "codemirror_mode": {
    "name": "ipython",
    "version": 2
   },
   "file_extension": ".py",
   "mimetype": "text/x-python",
   "name": "python",
   "nbconvert_exporter": "python",
   "pygments_lexer": "ipython2",
   "version": "2.7.6"
  }
 },
 "nbformat": 4,
 "nbformat_minor": 5
}
