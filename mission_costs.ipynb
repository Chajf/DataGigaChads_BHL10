{
 "cells": [
  {
   "cell_type": "code",
   "outputs": [],
   "source": [
    "import pandas as pd\n",
    "\n",
    "# Expanded dataset with additional spacecraft and rockets\n",
    "data = {\n",
    "    \"ID\": [\n",
    "        \"S001\", \"S002\", \"S003\", \"S004\", \"S005\", \"S006\", \"S007\", \"S008\", \"S009\", \"S010\",\n",
    "        \"S011\", \"S012\", \"S013\", \"S014\", \"S015\", \"S016\", \"S017\", \"S018\", \"S019\", \"S020\",\n",
    "        \"R001\", \"R002\", \"R003\", \"R004\", \"R005\", \"R006\", \"R007\", \"R008\", \"R009\", \"R010\",\n",
    "        \"R011\", \"R012\", \"R013\", \"R014\", \"R015\", \"R016\", \"R017\", \"R018\"\n",
    "    ],\n",
    "    \"Type\": [\n",
    "        \"Mining Lander\", \"Heavy Transporter\", \"Survey Satellite\", \"Modular Miner\", \"Light Cargo Rocket\", \n",
    "        \"Recon Orbiter\", \"Mining Drone\", \"Heavy Cargo Rocket\", \"Deep Space Miner\", \"Survey Lander\", \n",
    "        \"Asteroid Harvester\", \"Long-Range Probe\", \"Mining Lander\", \"Modular Miner\", \"Cargo Drone\", \n",
    "        \"Cargo Transporter\", \"Recon Probe\", \"Survey Satellite\", \"Asteroid Surveyor\", \"Cargo Shuttle\", \n",
    "        \"Falcon 9\", \"Falcon Heavy\", \"Electron\", \"Ariane 5\", \"Vega\", \"Starship\", \n",
    "        \"Falcon 9\", \"Falcon Heavy\", \"Electron\", \"Ariane 5\", \"Vega\", \n",
    "        \"Starship\", \"Falcon 9\", \"Falcon Heavy\", \"Electron\", \"Ariane 5\", \n",
    "        \"Starship\", \"Vega\"\n",
    "    ],\n",
    "    \"Mass (tons)\": [\n",
    "        22, 60, 3, 28, 15, 5, 3.5, 80, 35, 12,\n",
    "        25, 50, 5, 35, 10, 45, 2, 2.5, 3, 2.5,\n",
    "        550, 1420, 12, 780, 300, 5000, \n",
    "        550, 1420, 12, 780, 300,\n",
    "        5000, 550, 1420, 12, 780,\n",
    "        5000, 300\n",
    "    ],\n",
    "    \"Max Delta-V (km/s)\": [\n",
    "        8.5, 7.0, 12.0, 9.0, 11.0, 14.0, 10.5, 6.5, 7.5, 9.5, \n",
    "        9.5, 8.5, 10.0, 9.0, 12.0, 8.0, 9.0, 10.5, 9.0, 10.0, \n",
    "        9.0, 9.5, 9.5, 8.5, 7.5, 8.0, \n",
    "        9.0, 9.5, 9.5, 8.5, 7.5,\n",
    "        8.0, 9.0, 9.5, 9.5, 8.5,\n",
    "        9.0, 8.5\n",
    "    ],\n",
    "    \"Range (AU)\": [\n",
    "        1.8, 4.5, 10.0, 2.5, 3.0, 15.0, 1.2, 5.0, 4.0, 3.5, \n",
    "        2.0, 3.5, 5.0, 2.8, 1.8, 3.5, 3.0, 2.0, 2.0, 2.5, \n",
    "        0, 0, 0, 0, 0, 0, \n",
    "        1.8, 4.5, 10.0, 2.5, 3.0,\n",
    "        15.0, 1.8, 4.5, 10.0, 2.5,\n",
    "        3.0, 1.5\n",
    "    ],\n",
    "    \"Cargo Capacity (tons)\": [\n",
    "        30, 200, 0.5, 60, 15, 2, 1.5, 250, 90, 5, \n",
    "        40, 100, 2, 70, 10, 50, 8, 5, 7, 8, \n",
    "        22, 63, 1.5, 22, 2.5, 1000, \n",
    "        22, 63, 1.5, 22, 2.5, \n",
    "        1000, 22, 63, 1.5, 22, \n",
    "        2.5, 1000\n",
    "    ],\n",
    "    \"Power Source\": [\n",
    "        \"Nuclear\", \"Solar\", \"Solar\", \"Nuclear\", \"Solar\", \"Solar\", \"Solar\", \"Nuclear\", \"Nuclear\", \"Solar\", \n",
    "        \"Nuclear\", \"Solar\", \"Solar\", \"Nuclear\", \"Solar\", \"Solar\", \"Solar\", \"Solar\", \"Solar\", \"Solar\", \n",
    "        \"RP-1\", \"RP-1\", \"LOX/RP-1\", \"LOX/LH2\", \"LOX/LH2\", \"Methane/LOX\", \n",
    "        \"RP-1\", \"RP-1\", \"LOX/RP-1\", \"LOX/LH2\", \"LOX/LH2\", \n",
    "        \"Methane/LOX\", \"RP-1\", \"RP-1\", \"LOX/RP-1\", \"LOX/LH2\", \n",
    "        \"Methane/LOX\", \"LOX/LH2\"\n",
    "    ],\n",
    "    \"Thrust (kN)\": [\n",
    "        450, 800, 0.015, 500, 220, 0.03, 0.02, 1000, 400, 300, \n",
    "        1000, 1800, 0.02, 600, 100, 1000, 300, 400, 150, 350, \n",
    "        7600, 22200, 2250, 13500, 1600, 7600, \n",
    "        7600, 22200, 2250, 13500, 1600, \n",
    "        7600, 7600, 22200, 2250, 13500, \n",
    "        7600, 1600\n",
    "    ],\n",
    "    \"Crew Size\": [\n",
    "        0, 4, 0, 2, 0, 0, 0, 5, 2, 1, \n",
    "        4, 6, 0, 5, 1, 6, 2, 4, 3, 2, \n",
    "        0, 0, 0, 0, 0, 0, \n",
    "        0, 0, 0, 0, 0, \n",
    "        0, 0, 0, 0, 0, \n",
    "        0, 0\n",
    "    ],\n",
    "    \"Mission Duration (years)\": [\n",
    "        8, 5, 6, 10, 4, 7, 3, 6, 12, 5, \n",
    "        8, 7, 5, 10, 6, 7, 4, 8, 3, 9, \n",
    "        1, 1, 1, 1, 1, 2, \n",
    "        8, 5, 6, 10, 4, \n",
    "        7, 8, 5, 6, 4, \n",
    "        6, 6\n",
    "    ],\n",
    "    \"Mining Capability (kg/h)\": [\n",
    "        120, \"N/A\", \"N/A\", 160, \"N/A\", \"N/A\", 50, \"N/A\", 180, \"N/A\", \n",
    "        100, 80, \"N/A\", 180, \"N/A\", 250, \"N/A\", 150, 200, 120, \n",
    "        \"N/A\", \"N/A\", \"N/A\", \"N/A\", \"N/A\", \"N/A\", \n",
    "        \"N/A\", \"N/A\", \"N/A\", \"N/A\", \"N/A\", \n",
    "        \"N/A\", \"N/A\", \"N/A\", \"N/A\", \"N/A\", \n",
    "        \"N/A\", \"N/A\"\n",
    "    ],\n",
    "    \"Fuel Type\": [\n",
    "        \"Methane\", \"RP-1\", \"Xenon\", \"Methane\", \"LOX/LH2\", \"Xenon\", \"Hydrogen\", \"Methane\", \"LOX/Methane\", \"RP-1\", \n",
    "        \"Methane\", \"Methane\", \"Methane\", \"Hydrogen\", \"Methane\", \"RP-1\", \"Xenon\", \"LOX/LH2\", \"Xenon\", \"Methane\", \n",
    "        \"RP-1\", \"RP-1\", \"LOX/RP-1\", \"LOX/LH2\", \"LOX/LH2\", \"Methane/LOX\", \"Methane\", \"RP-1\", \"Xenon\", \"LOX/LH2\", \"Xenon\", \"Methane\", \n",
    "        \"RP-1\", \"RP-1\", \"LOX/RP-1\", \"LOX/LH2\", \"LOX/LH2\", \"Methane/LOX\"\n",
    "    ]\n",
    "}\n",
    "\n",
    "fleet_df = pd.DataFrame(data)"
   ],
   "metadata": {
    "collapsed": false,
    "ExecuteTime": {
     "end_time": "2024-12-07T16:04:12.898078Z",
     "start_time": "2024-12-07T16:04:12.849553Z"
    }
   },
   "id": "2c0b14cf2d0ef106",
   "execution_count": 12
  },
  {
   "cell_type": "code",
   "outputs": [
    {
     "name": "stdout",
     "output_type": "stream",
     "text": [
      "ID 38\n",
      "Type 38\n",
      "Mass (tons) 38\n",
      "Max Delta-V (km/s) 38\n",
      "Range (AU) 38\n",
      "Cargo Capacity (tons) 38\n",
      "Power Source 38\n",
      "Thrust (kN) 38\n",
      "Crew Size 38\n",
      "Mission Duration (years) 38\n",
      "Mining Capability (kg/h) 38\n",
      "Fuel Type 38\n"
     ]
    }
   ],
   "source": [
    "for k in data.keys():\n",
    "    print(k, len(data[k]))"
   ],
   "metadata": {
    "collapsed": false,
    "ExecuteTime": {
     "end_time": "2024-12-07T16:04:10.016854Z",
     "start_time": "2024-12-07T16:04:10.002265Z"
    }
   },
   "id": "cb7223e6b16f67d6",
   "execution_count": 11
  },
  {
   "cell_type": "code",
   "outputs": [
    {
     "data": {
      "text/plain": "      ID                Type  Mass (tons)  Max Delta-V (km/s)  Range (AU)  \\\n0   S001       Mining Lander         22.0                 8.5         1.8   \n1   S002   Heavy Transporter         60.0                 7.0         4.5   \n2   S003    Survey Satellite          3.0                12.0        10.0   \n3   S004       Modular Miner         28.0                 9.0         2.5   \n4   S005  Light Cargo Rocket         15.0                11.0         3.0   \n5   S006       Recon Orbiter          5.0                14.0        15.0   \n6   S007        Mining Drone          3.5                10.5         1.2   \n7   S008  Heavy Cargo Rocket         80.0                 6.5         5.0   \n8   S009    Deep Space Miner         35.0                 7.5         4.0   \n9   S010       Survey Lander         12.0                 9.5         3.5   \n10  S011  Asteroid Harvester         25.0                 9.5         2.0   \n11  S012    Long-Range Probe         50.0                 8.5         3.5   \n12  S013       Mining Lander          5.0                10.0         5.0   \n13  S014       Modular Miner         35.0                 9.0         2.8   \n14  S015         Cargo Drone         10.0                12.0         1.8   \n15  S016   Cargo Transporter         45.0                 8.0         3.5   \n16  S017         Recon Probe          2.0                 9.0         3.0   \n17  S018    Survey Satellite          2.5                10.5         2.0   \n18  S019   Asteroid Surveyor          3.0                 9.0         2.0   \n19  S020       Cargo Shuttle          2.5                10.0         2.5   \n20  R001            Falcon 9        550.0                 9.0         0.0   \n21  R002        Falcon Heavy       1420.0                 9.5         0.0   \n22  R003            Electron         12.0                 9.5         0.0   \n23  R004            Ariane 5        780.0                 8.5         0.0   \n24  R005                Vega        300.0                 7.5         0.0   \n25  R006            Starship       5000.0                 8.0         0.0   \n26  R007            Falcon 9        550.0                 9.0         1.8   \n27  R008        Falcon Heavy       1420.0                 9.5         4.5   \n28  R009            Electron         12.0                 9.5        10.0   \n29  R010            Ariane 5        780.0                 8.5         2.5   \n30  R011                Vega        300.0                 7.5         3.0   \n31  R012            Starship       5000.0                 8.0        15.0   \n32  R013            Falcon 9        550.0                 9.0         1.8   \n33  R014        Falcon Heavy       1420.0                 9.5         4.5   \n34  R015            Electron         12.0                 9.5        10.0   \n35  R016            Ariane 5        780.0                 8.5         2.5   \n36  R017            Starship       5000.0                 9.0         3.0   \n37  R018                Vega        300.0                 8.5         1.5   \n\n    Cargo Capacity (tons) Power Source  Thrust (kN)  Crew Size  \\\n0                    30.0      Nuclear      450.000          0   \n1                   200.0        Solar      800.000          4   \n2                     0.5        Solar        0.015          0   \n3                    60.0      Nuclear      500.000          2   \n4                    15.0        Solar      220.000          0   \n5                     2.0        Solar        0.030          0   \n6                     1.5        Solar        0.020          0   \n7                   250.0      Nuclear     1000.000          5   \n8                    90.0      Nuclear      400.000          2   \n9                     5.0        Solar      300.000          1   \n10                   40.0      Nuclear     1000.000          4   \n11                  100.0        Solar     1800.000          6   \n12                    2.0        Solar        0.020          0   \n13                   70.0      Nuclear      600.000          5   \n14                   10.0        Solar      100.000          1   \n15                   50.0        Solar     1000.000          6   \n16                    8.0        Solar      300.000          2   \n17                    5.0        Solar      400.000          4   \n18                    7.0        Solar      150.000          3   \n19                    8.0        Solar      350.000          2   \n20                   22.0         RP-1     7600.000          0   \n21                   63.0         RP-1    22200.000          0   \n22                    1.5     LOX/RP-1     2250.000          0   \n23                   22.0      LOX/LH2    13500.000          0   \n24                    2.5      LOX/LH2     1600.000          0   \n25                 1000.0  Methane/LOX     7600.000          0   \n26                   22.0         RP-1     7600.000          0   \n27                   63.0         RP-1    22200.000          0   \n28                    1.5     LOX/RP-1     2250.000          0   \n29                   22.0      LOX/LH2    13500.000          0   \n30                    2.5      LOX/LH2     1600.000          0   \n31                 1000.0  Methane/LOX     7600.000          0   \n32                   22.0         RP-1     7600.000          0   \n33                   63.0         RP-1    22200.000          0   \n34                    1.5     LOX/RP-1     2250.000          0   \n35                   22.0      LOX/LH2    13500.000          0   \n36                    2.5  Methane/LOX     7600.000          0   \n37                 1000.0      LOX/LH2     1600.000          0   \n\n    Mission Duration (years) Mining Capability (kg/h)    Fuel Type  \n0                          8                      120      Methane  \n1                          5                      N/A         RP-1  \n2                          6                      N/A        Xenon  \n3                         10                      160      Methane  \n4                          4                      N/A      LOX/LH2  \n5                          7                      N/A        Xenon  \n6                          3                       50     Hydrogen  \n7                          6                      N/A      Methane  \n8                         12                      180  LOX/Methane  \n9                          5                      N/A         RP-1  \n10                         8                      100      Methane  \n11                         7                       80      Methane  \n12                         5                      N/A      Methane  \n13                        10                      180     Hydrogen  \n14                         6                      N/A      Methane  \n15                         7                      250         RP-1  \n16                         4                      N/A        Xenon  \n17                         8                      150      LOX/LH2  \n18                         3                      200        Xenon  \n19                         9                      120      Methane  \n20                         1                      N/A         RP-1  \n21                         1                      N/A         RP-1  \n22                         1                      N/A     LOX/RP-1  \n23                         1                      N/A      LOX/LH2  \n24                         1                      N/A      LOX/LH2  \n25                         2                      N/A  Methane/LOX  \n26                         8                      N/A      Methane  \n27                         5                      N/A         RP-1  \n28                         6                      N/A        Xenon  \n29                        10                      N/A      LOX/LH2  \n30                         4                      N/A        Xenon  \n31                         7                      N/A      Methane  \n32                         8                      N/A         RP-1  \n33                         5                      N/A         RP-1  \n34                         6                      N/A     LOX/RP-1  \n35                         4                      N/A      LOX/LH2  \n36                         6                      N/A      LOX/LH2  \n37                         6                      N/A  Methane/LOX  ",
      "text/html": "<div>\n<style scoped>\n    .dataframe tbody tr th:only-of-type {\n        vertical-align: middle;\n    }\n\n    .dataframe tbody tr th {\n        vertical-align: top;\n    }\n\n    .dataframe thead th {\n        text-align: right;\n    }\n</style>\n<table border=\"1\" class=\"dataframe\">\n  <thead>\n    <tr style=\"text-align: right;\">\n      <th></th>\n      <th>ID</th>\n      <th>Type</th>\n      <th>Mass (tons)</th>\n      <th>Max Delta-V (km/s)</th>\n      <th>Range (AU)</th>\n      <th>Cargo Capacity (tons)</th>\n      <th>Power Source</th>\n      <th>Thrust (kN)</th>\n      <th>Crew Size</th>\n      <th>Mission Duration (years)</th>\n      <th>Mining Capability (kg/h)</th>\n      <th>Fuel Type</th>\n    </tr>\n  </thead>\n  <tbody>\n    <tr>\n      <th>0</th>\n      <td>S001</td>\n      <td>Mining Lander</td>\n      <td>22.0</td>\n      <td>8.5</td>\n      <td>1.8</td>\n      <td>30.0</td>\n      <td>Nuclear</td>\n      <td>450.000</td>\n      <td>0</td>\n      <td>8</td>\n      <td>120</td>\n      <td>Methane</td>\n    </tr>\n    <tr>\n      <th>1</th>\n      <td>S002</td>\n      <td>Heavy Transporter</td>\n      <td>60.0</td>\n      <td>7.0</td>\n      <td>4.5</td>\n      <td>200.0</td>\n      <td>Solar</td>\n      <td>800.000</td>\n      <td>4</td>\n      <td>5</td>\n      <td>N/A</td>\n      <td>RP-1</td>\n    </tr>\n    <tr>\n      <th>2</th>\n      <td>S003</td>\n      <td>Survey Satellite</td>\n      <td>3.0</td>\n      <td>12.0</td>\n      <td>10.0</td>\n      <td>0.5</td>\n      <td>Solar</td>\n      <td>0.015</td>\n      <td>0</td>\n      <td>6</td>\n      <td>N/A</td>\n      <td>Xenon</td>\n    </tr>\n    <tr>\n      <th>3</th>\n      <td>S004</td>\n      <td>Modular Miner</td>\n      <td>28.0</td>\n      <td>9.0</td>\n      <td>2.5</td>\n      <td>60.0</td>\n      <td>Nuclear</td>\n      <td>500.000</td>\n      <td>2</td>\n      <td>10</td>\n      <td>160</td>\n      <td>Methane</td>\n    </tr>\n    <tr>\n      <th>4</th>\n      <td>S005</td>\n      <td>Light Cargo Rocket</td>\n      <td>15.0</td>\n      <td>11.0</td>\n      <td>3.0</td>\n      <td>15.0</td>\n      <td>Solar</td>\n      <td>220.000</td>\n      <td>0</td>\n      <td>4</td>\n      <td>N/A</td>\n      <td>LOX/LH2</td>\n    </tr>\n    <tr>\n      <th>5</th>\n      <td>S006</td>\n      <td>Recon Orbiter</td>\n      <td>5.0</td>\n      <td>14.0</td>\n      <td>15.0</td>\n      <td>2.0</td>\n      <td>Solar</td>\n      <td>0.030</td>\n      <td>0</td>\n      <td>7</td>\n      <td>N/A</td>\n      <td>Xenon</td>\n    </tr>\n    <tr>\n      <th>6</th>\n      <td>S007</td>\n      <td>Mining Drone</td>\n      <td>3.5</td>\n      <td>10.5</td>\n      <td>1.2</td>\n      <td>1.5</td>\n      <td>Solar</td>\n      <td>0.020</td>\n      <td>0</td>\n      <td>3</td>\n      <td>50</td>\n      <td>Hydrogen</td>\n    </tr>\n    <tr>\n      <th>7</th>\n      <td>S008</td>\n      <td>Heavy Cargo Rocket</td>\n      <td>80.0</td>\n      <td>6.5</td>\n      <td>5.0</td>\n      <td>250.0</td>\n      <td>Nuclear</td>\n      <td>1000.000</td>\n      <td>5</td>\n      <td>6</td>\n      <td>N/A</td>\n      <td>Methane</td>\n    </tr>\n    <tr>\n      <th>8</th>\n      <td>S009</td>\n      <td>Deep Space Miner</td>\n      <td>35.0</td>\n      <td>7.5</td>\n      <td>4.0</td>\n      <td>90.0</td>\n      <td>Nuclear</td>\n      <td>400.000</td>\n      <td>2</td>\n      <td>12</td>\n      <td>180</td>\n      <td>LOX/Methane</td>\n    </tr>\n    <tr>\n      <th>9</th>\n      <td>S010</td>\n      <td>Survey Lander</td>\n      <td>12.0</td>\n      <td>9.5</td>\n      <td>3.5</td>\n      <td>5.0</td>\n      <td>Solar</td>\n      <td>300.000</td>\n      <td>1</td>\n      <td>5</td>\n      <td>N/A</td>\n      <td>RP-1</td>\n    </tr>\n    <tr>\n      <th>10</th>\n      <td>S011</td>\n      <td>Asteroid Harvester</td>\n      <td>25.0</td>\n      <td>9.5</td>\n      <td>2.0</td>\n      <td>40.0</td>\n      <td>Nuclear</td>\n      <td>1000.000</td>\n      <td>4</td>\n      <td>8</td>\n      <td>100</td>\n      <td>Methane</td>\n    </tr>\n    <tr>\n      <th>11</th>\n      <td>S012</td>\n      <td>Long-Range Probe</td>\n      <td>50.0</td>\n      <td>8.5</td>\n      <td>3.5</td>\n      <td>100.0</td>\n      <td>Solar</td>\n      <td>1800.000</td>\n      <td>6</td>\n      <td>7</td>\n      <td>80</td>\n      <td>Methane</td>\n    </tr>\n    <tr>\n      <th>12</th>\n      <td>S013</td>\n      <td>Mining Lander</td>\n      <td>5.0</td>\n      <td>10.0</td>\n      <td>5.0</td>\n      <td>2.0</td>\n      <td>Solar</td>\n      <td>0.020</td>\n      <td>0</td>\n      <td>5</td>\n      <td>N/A</td>\n      <td>Methane</td>\n    </tr>\n    <tr>\n      <th>13</th>\n      <td>S014</td>\n      <td>Modular Miner</td>\n      <td>35.0</td>\n      <td>9.0</td>\n      <td>2.8</td>\n      <td>70.0</td>\n      <td>Nuclear</td>\n      <td>600.000</td>\n      <td>5</td>\n      <td>10</td>\n      <td>180</td>\n      <td>Hydrogen</td>\n    </tr>\n    <tr>\n      <th>14</th>\n      <td>S015</td>\n      <td>Cargo Drone</td>\n      <td>10.0</td>\n      <td>12.0</td>\n      <td>1.8</td>\n      <td>10.0</td>\n      <td>Solar</td>\n      <td>100.000</td>\n      <td>1</td>\n      <td>6</td>\n      <td>N/A</td>\n      <td>Methane</td>\n    </tr>\n    <tr>\n      <th>15</th>\n      <td>S016</td>\n      <td>Cargo Transporter</td>\n      <td>45.0</td>\n      <td>8.0</td>\n      <td>3.5</td>\n      <td>50.0</td>\n      <td>Solar</td>\n      <td>1000.000</td>\n      <td>6</td>\n      <td>7</td>\n      <td>250</td>\n      <td>RP-1</td>\n    </tr>\n    <tr>\n      <th>16</th>\n      <td>S017</td>\n      <td>Recon Probe</td>\n      <td>2.0</td>\n      <td>9.0</td>\n      <td>3.0</td>\n      <td>8.0</td>\n      <td>Solar</td>\n      <td>300.000</td>\n      <td>2</td>\n      <td>4</td>\n      <td>N/A</td>\n      <td>Xenon</td>\n    </tr>\n    <tr>\n      <th>17</th>\n      <td>S018</td>\n      <td>Survey Satellite</td>\n      <td>2.5</td>\n      <td>10.5</td>\n      <td>2.0</td>\n      <td>5.0</td>\n      <td>Solar</td>\n      <td>400.000</td>\n      <td>4</td>\n      <td>8</td>\n      <td>150</td>\n      <td>LOX/LH2</td>\n    </tr>\n    <tr>\n      <th>18</th>\n      <td>S019</td>\n      <td>Asteroid Surveyor</td>\n      <td>3.0</td>\n      <td>9.0</td>\n      <td>2.0</td>\n      <td>7.0</td>\n      <td>Solar</td>\n      <td>150.000</td>\n      <td>3</td>\n      <td>3</td>\n      <td>200</td>\n      <td>Xenon</td>\n    </tr>\n    <tr>\n      <th>19</th>\n      <td>S020</td>\n      <td>Cargo Shuttle</td>\n      <td>2.5</td>\n      <td>10.0</td>\n      <td>2.5</td>\n      <td>8.0</td>\n      <td>Solar</td>\n      <td>350.000</td>\n      <td>2</td>\n      <td>9</td>\n      <td>120</td>\n      <td>Methane</td>\n    </tr>\n    <tr>\n      <th>20</th>\n      <td>R001</td>\n      <td>Falcon 9</td>\n      <td>550.0</td>\n      <td>9.0</td>\n      <td>0.0</td>\n      <td>22.0</td>\n      <td>RP-1</td>\n      <td>7600.000</td>\n      <td>0</td>\n      <td>1</td>\n      <td>N/A</td>\n      <td>RP-1</td>\n    </tr>\n    <tr>\n      <th>21</th>\n      <td>R002</td>\n      <td>Falcon Heavy</td>\n      <td>1420.0</td>\n      <td>9.5</td>\n      <td>0.0</td>\n      <td>63.0</td>\n      <td>RP-1</td>\n      <td>22200.000</td>\n      <td>0</td>\n      <td>1</td>\n      <td>N/A</td>\n      <td>RP-1</td>\n    </tr>\n    <tr>\n      <th>22</th>\n      <td>R003</td>\n      <td>Electron</td>\n      <td>12.0</td>\n      <td>9.5</td>\n      <td>0.0</td>\n      <td>1.5</td>\n      <td>LOX/RP-1</td>\n      <td>2250.000</td>\n      <td>0</td>\n      <td>1</td>\n      <td>N/A</td>\n      <td>LOX/RP-1</td>\n    </tr>\n    <tr>\n      <th>23</th>\n      <td>R004</td>\n      <td>Ariane 5</td>\n      <td>780.0</td>\n      <td>8.5</td>\n      <td>0.0</td>\n      <td>22.0</td>\n      <td>LOX/LH2</td>\n      <td>13500.000</td>\n      <td>0</td>\n      <td>1</td>\n      <td>N/A</td>\n      <td>LOX/LH2</td>\n    </tr>\n    <tr>\n      <th>24</th>\n      <td>R005</td>\n      <td>Vega</td>\n      <td>300.0</td>\n      <td>7.5</td>\n      <td>0.0</td>\n      <td>2.5</td>\n      <td>LOX/LH2</td>\n      <td>1600.000</td>\n      <td>0</td>\n      <td>1</td>\n      <td>N/A</td>\n      <td>LOX/LH2</td>\n    </tr>\n    <tr>\n      <th>25</th>\n      <td>R006</td>\n      <td>Starship</td>\n      <td>5000.0</td>\n      <td>8.0</td>\n      <td>0.0</td>\n      <td>1000.0</td>\n      <td>Methane/LOX</td>\n      <td>7600.000</td>\n      <td>0</td>\n      <td>2</td>\n      <td>N/A</td>\n      <td>Methane/LOX</td>\n    </tr>\n    <tr>\n      <th>26</th>\n      <td>R007</td>\n      <td>Falcon 9</td>\n      <td>550.0</td>\n      <td>9.0</td>\n      <td>1.8</td>\n      <td>22.0</td>\n      <td>RP-1</td>\n      <td>7600.000</td>\n      <td>0</td>\n      <td>8</td>\n      <td>N/A</td>\n      <td>Methane</td>\n    </tr>\n    <tr>\n      <th>27</th>\n      <td>R008</td>\n      <td>Falcon Heavy</td>\n      <td>1420.0</td>\n      <td>9.5</td>\n      <td>4.5</td>\n      <td>63.0</td>\n      <td>RP-1</td>\n      <td>22200.000</td>\n      <td>0</td>\n      <td>5</td>\n      <td>N/A</td>\n      <td>RP-1</td>\n    </tr>\n    <tr>\n      <th>28</th>\n      <td>R009</td>\n      <td>Electron</td>\n      <td>12.0</td>\n      <td>9.5</td>\n      <td>10.0</td>\n      <td>1.5</td>\n      <td>LOX/RP-1</td>\n      <td>2250.000</td>\n      <td>0</td>\n      <td>6</td>\n      <td>N/A</td>\n      <td>Xenon</td>\n    </tr>\n    <tr>\n      <th>29</th>\n      <td>R010</td>\n      <td>Ariane 5</td>\n      <td>780.0</td>\n      <td>8.5</td>\n      <td>2.5</td>\n      <td>22.0</td>\n      <td>LOX/LH2</td>\n      <td>13500.000</td>\n      <td>0</td>\n      <td>10</td>\n      <td>N/A</td>\n      <td>LOX/LH2</td>\n    </tr>\n    <tr>\n      <th>30</th>\n      <td>R011</td>\n      <td>Vega</td>\n      <td>300.0</td>\n      <td>7.5</td>\n      <td>3.0</td>\n      <td>2.5</td>\n      <td>LOX/LH2</td>\n      <td>1600.000</td>\n      <td>0</td>\n      <td>4</td>\n      <td>N/A</td>\n      <td>Xenon</td>\n    </tr>\n    <tr>\n      <th>31</th>\n      <td>R012</td>\n      <td>Starship</td>\n      <td>5000.0</td>\n      <td>8.0</td>\n      <td>15.0</td>\n      <td>1000.0</td>\n      <td>Methane/LOX</td>\n      <td>7600.000</td>\n      <td>0</td>\n      <td>7</td>\n      <td>N/A</td>\n      <td>Methane</td>\n    </tr>\n    <tr>\n      <th>32</th>\n      <td>R013</td>\n      <td>Falcon 9</td>\n      <td>550.0</td>\n      <td>9.0</td>\n      <td>1.8</td>\n      <td>22.0</td>\n      <td>RP-1</td>\n      <td>7600.000</td>\n      <td>0</td>\n      <td>8</td>\n      <td>N/A</td>\n      <td>RP-1</td>\n    </tr>\n    <tr>\n      <th>33</th>\n      <td>R014</td>\n      <td>Falcon Heavy</td>\n      <td>1420.0</td>\n      <td>9.5</td>\n      <td>4.5</td>\n      <td>63.0</td>\n      <td>RP-1</td>\n      <td>22200.000</td>\n      <td>0</td>\n      <td>5</td>\n      <td>N/A</td>\n      <td>RP-1</td>\n    </tr>\n    <tr>\n      <th>34</th>\n      <td>R015</td>\n      <td>Electron</td>\n      <td>12.0</td>\n      <td>9.5</td>\n      <td>10.0</td>\n      <td>1.5</td>\n      <td>LOX/RP-1</td>\n      <td>2250.000</td>\n      <td>0</td>\n      <td>6</td>\n      <td>N/A</td>\n      <td>LOX/RP-1</td>\n    </tr>\n    <tr>\n      <th>35</th>\n      <td>R016</td>\n      <td>Ariane 5</td>\n      <td>780.0</td>\n      <td>8.5</td>\n      <td>2.5</td>\n      <td>22.0</td>\n      <td>LOX/LH2</td>\n      <td>13500.000</td>\n      <td>0</td>\n      <td>4</td>\n      <td>N/A</td>\n      <td>LOX/LH2</td>\n    </tr>\n    <tr>\n      <th>36</th>\n      <td>R017</td>\n      <td>Starship</td>\n      <td>5000.0</td>\n      <td>9.0</td>\n      <td>3.0</td>\n      <td>2.5</td>\n      <td>Methane/LOX</td>\n      <td>7600.000</td>\n      <td>0</td>\n      <td>6</td>\n      <td>N/A</td>\n      <td>LOX/LH2</td>\n    </tr>\n    <tr>\n      <th>37</th>\n      <td>R018</td>\n      <td>Vega</td>\n      <td>300.0</td>\n      <td>8.5</td>\n      <td>1.5</td>\n      <td>1000.0</td>\n      <td>LOX/LH2</td>\n      <td>1600.000</td>\n      <td>0</td>\n      <td>6</td>\n      <td>N/A</td>\n      <td>Methane/LOX</td>\n    </tr>\n  </tbody>\n</table>\n</div>"
     },
     "execution_count": 13,
     "metadata": {},
     "output_type": "execute_result"
    }
   ],
   "source": [
    "fleet_df"
   ],
   "metadata": {
    "collapsed": false,
    "ExecuteTime": {
     "end_time": "2024-12-07T16:04:35.684190Z",
     "start_time": "2024-12-07T16:04:35.637943Z"
    }
   },
   "id": "8122f2d91311cb50",
   "execution_count": 13
  },
  {
   "cell_type": "code",
   "outputs": [
    {
     "data": {
      "text/plain": "            Type  Mass (tons)  Max Delta-V (km/s)  Cargo Capacity (tons)   ID\n10      Falcon 9        550.0                 NaN                   55.0  R01\n11  Falcon Heavy       1420.0                 NaN                  142.0  R02\n12      Electron       1040.0                 NaN                  104.0  R03\n13      Ariane 5        780.0                 NaN                   78.0  R04\n14          Vega        300.0                 NaN                   30.0  R05\n15      Starship       5000.0                 NaN                  500.0  R06",
      "text/html": "<div>\n<style scoped>\n    .dataframe tbody tr th:only-of-type {\n        vertical-align: middle;\n    }\n\n    .dataframe tbody tr th {\n        vertical-align: top;\n    }\n\n    .dataframe thead th {\n        text-align: right;\n    }\n</style>\n<table border=\"1\" class=\"dataframe\">\n  <thead>\n    <tr style=\"text-align: right;\">\n      <th></th>\n      <th>Type</th>\n      <th>Mass (tons)</th>\n      <th>Max Delta-V (km/s)</th>\n      <th>Cargo Capacity (tons)</th>\n      <th>ID</th>\n    </tr>\n  </thead>\n  <tbody>\n    <tr>\n      <th>10</th>\n      <td>Falcon 9</td>\n      <td>550.0</td>\n      <td>NaN</td>\n      <td>55.0</td>\n      <td>R01</td>\n    </tr>\n    <tr>\n      <th>11</th>\n      <td>Falcon Heavy</td>\n      <td>1420.0</td>\n      <td>NaN</td>\n      <td>142.0</td>\n      <td>R02</td>\n    </tr>\n    <tr>\n      <th>12</th>\n      <td>Electron</td>\n      <td>1040.0</td>\n      <td>NaN</td>\n      <td>104.0</td>\n      <td>R03</td>\n    </tr>\n    <tr>\n      <th>13</th>\n      <td>Ariane 5</td>\n      <td>780.0</td>\n      <td>NaN</td>\n      <td>78.0</td>\n      <td>R04</td>\n    </tr>\n    <tr>\n      <th>14</th>\n      <td>Vega</td>\n      <td>300.0</td>\n      <td>NaN</td>\n      <td>30.0</td>\n      <td>R05</td>\n    </tr>\n    <tr>\n      <th>15</th>\n      <td>Starship</td>\n      <td>5000.0</td>\n      <td>NaN</td>\n      <td>500.0</td>\n      <td>R06</td>\n    </tr>\n  </tbody>\n</table>\n</div>"
     },
     "execution_count": 91,
     "metadata": {},
     "output_type": "execute_result"
    }
   ],
   "source": [
    "import random\n",
    "\n",
    "delta_v_cost_per_kms = 0.1  # Cost per Δv (km/s) per ton of spacecraft (in millions USD)\n",
    "\n",
    "# Define the dataset\n",
    "df = pd.DataFrame({\n",
    "    \"ID\": [\n",
    "        \"S001\", \"S002\", \"S003\", \"S004\", \"S005\", \"S006\", \"S007\", \"S008\", \"S009\", \"S010\",\n",
    "        \"R001\", \"R002\", \"R003\", \"R004\", \"R005\", \"R006\", \"R007\", \"R008\", \"R009\", \"R010\"\n",
    "    ],\n",
    "    \"Type\": [\n",
    "        \"Mining Lander\", \"Heavy Transporter\", \"Survey Satellite\", \"Modular Miner\", \"Light Cargo Rocket\",\n",
    "        \"Recon Orbiter\", \"Mining Drone\", \"Heavy Cargo Rocket\", \"Deep Space Miner\", \"Survey Lander\",\n",
    "        \n",
    "        \"Falcon 9\", \"Falcon Heavy\", \"Electron\", \"Ariane 5\", \"Vega\", \n",
    "        \"Starship\", \"Falcon 9\", \"Falcon Heavy\", \"Electron\", \"Ariane 5\"\n",
    "    ],\n",
    "    \"Mass (tons)\": [\n",
    "        22, 60, 3, 28, 15, 5, 3.5, 80, 35, 12,\n",
    "        \n",
    "        550, 1420, 1040, 780, 300, \n",
    "        5000, 550, 1420, 1040, 780\n",
    "    ],\n",
    "    \"Max Delta-V (km/s)\": [\n",
    "        8.5, 7.0, 12.0, 9.0, 11.0, 14.0, 10.5, 6.5, 7.5, 9.5,\n",
    "        None, None, None, None, None, None,\n",
    "        None, None, None, None\n",
    "    ],\n",
    "    \"Cargo Capacity (tons)\": [\n",
    "        30, 20, 0.5, 60, 15, 2, 1.5, 25, 90, 5,\n",
    "        55, 142, 104, 78, 30, \n",
    "        500, 55, 142, 104, 78\n",
    "    ]\n",
    "})\n",
    "\n",
    "# Separate rockets and spacecraft\n",
    "rockets = df[df[\"Type\"].str.contains(\"Falcon|Electron|Ariane|Vega|Starship\")].drop('ID',axis=1).drop_duplicates()\n",
    "spacecraft = df[~df[\"Type\"].str.contains(\"Falcon|Electron|Ariane|Vega|Starship\")].drop('ID',axis=1).drop_duplicates()\n",
    "\n",
    "rockets['ID'] = list(f\"R0{id + 1}\" for id in range(len(rockets)))\n",
    "spacecraft['ID'] = list(f\"S0{id + 1}\" for id in range(len(spacecraft)))"
   ],
   "metadata": {
    "collapsed": false,
    "ExecuteTime": {
     "end_time": "2024-12-07T18:24:07.426971Z",
     "start_time": "2024-12-07T18:24:07.388268Z"
    }
   },
   "id": "b18340bcd023107e",
   "execution_count": 91
  },
  {
   "cell_type": "code",
   "outputs": [
    {
     "data": {
      "text/plain": "550"
     },
     "execution_count": 80,
     "metadata": {},
     "output_type": "execute_result"
    }
   ],
   "source": [
    "int(rockets[rockets['Type'] == \"Falcon 9\"][\"Mass (tons)\"].iloc[0])"
   ],
   "metadata": {
    "collapsed": false,
    "ExecuteTime": {
     "end_time": "2024-12-07T18:17:09.222413Z",
     "start_time": "2024-12-07T18:17:09.206916Z"
    }
   },
   "id": "f7653085a8709b30",
   "execution_count": 80
  },
  {
   "cell_type": "code",
   "outputs": [],
   "source": [
    "rocket_lift_prices = {\n",
    "    \"Falcon 9\": int(rockets[rockets['Type'] == \"Falcon 9\"][\"Mass (tons)\"].iloc[0]) * random.randint(4,6) * 0.1,       # in millions USD\n",
    "    \"Falcon Heavy\": int(rockets[rockets['Type'] == \"Falcon Heavy\"][\"Mass (tons)\"].iloc[0]) * random.randint(4,6) * 0.1,\n",
    "    \"Electron\": int(rockets[rockets['Type'] == \"Electron\"][\"Mass (tons)\"].iloc[0]) * random.randint(4,6) * 0.1,\n",
    "    \"Ariane 5\": int(rockets[rockets['Type'] == \"Ariane 5\"][\"Mass (tons)\"].iloc[0]) * random.randint(4,6) * 0.1,\n",
    "    \"Vega\": int(rockets[rockets['Type'] == \"Vega\"][\"Mass (tons)\"].iloc[0]) * random.randint(4,6) * 0.1,\n",
    "    \"Starship\": int(rockets[rockets['Type'] == \"Starship\"][\"Mass (tons)\"].iloc[0]) * random.randint(4,6) * 0.1\n",
    "}\n",
    "\n",
    "# Generate bundles\n",
    "updated_bundles = []\n",
    "for _ in range(len(rockets)*pow(len(spacecraft), 3)):\n",
    "# for spacecraft in spacecraft:\n",
    "    bundle_spacecraft = spacecraft.sample(random.randint(1, 3))  # Randomly choose 1-3 spacecraft\n",
    "    total_mass = bundle_spacecraft[\"Mass (tons)\"].sum()\n",
    "    total_storage = bundle_spacecraft[\"Cargo Capacity (tons)\"].sum()\n",
    "    \n",
    "    # Find compatible rocket\n",
    "    compatible_rockets = rockets[rockets[\"Cargo Capacity (tons)\"] >= total_mass].drop_duplicates()\n",
    "    if compatible_rockets.empty:\n",
    "        continue  # Skip if no compatible rocket\n",
    "    \n",
    "    compatible_rockets = compatible_rockets.sort_values(by=\"Mass (tons)\", ascending=True)\n",
    "    \n",
    "    rocket = compatible_rockets.iloc[0]\n",
    "    rocket_price = rocket_lift_prices[rocket[\"Type\"]]\n",
    "    \n",
    "    # Calculate delta-v cost\n",
    "    delta_v_cost = (bundle_spacecraft[\"Mass (tons)\"] * delta_v_cost_per_kms).sum()\n",
    "    \n",
    "    # Add bundle details\n",
    "    updated_bundles.append({\n",
    "        \"Bundle ID\": f\"B{len(updated_bundles)+1:04}\",\n",
    "        \"Spacecraft\": \", \".join(bundle_spacecraft[\"ID\"]),\n",
    "        \"Rocket\": rocket[\"ID\"],\n",
    "        \"Total Mass (tons)\": total_mass,\n",
    "        \"Storage Capacity (tons)\": total_storage,\n",
    "        \"Rocket Lift Price (M$)\": rocket_price,\n",
    "        \"Delta-V Cost (M$)\": round(delta_v_cost, 2)\n",
    "    })\n",
    "\n",
    "# Convert to DataFrame and save as CSV\n",
    "updated_bundle_df = pd.DataFrame(updated_bundles)\n"
   ],
   "metadata": {
    "collapsed": false,
    "ExecuteTime": {
     "end_time": "2024-12-07T18:24:19.194310Z",
     "start_time": "2024-12-07T18:24:09.204190Z"
    }
   },
   "id": "19ac34fd03d722f7",
   "execution_count": 92
  },
  {
   "cell_type": "code",
   "outputs": [
    {
     "data": {
      "text/plain": "          Spacecraft Rocket  Total Mass (tons)  Storage Capacity (tons)  \\\n0                S02    R04               60.0                     20.0   \n1           S05, S01    R01               37.0                     45.0   \n2                S04    R05               28.0                     60.0   \n3      S06, S01, S02    R03               87.0                     52.0   \n5     S010, S01, S05    R01               49.0                     50.0   \n...              ...    ...                ...                      ...   \n5642  S05, S03, S010    R05               30.0                     20.5   \n5703  S01, S010, S09    R04               69.0                    125.0   \n5705   S03, S06, S01    R05               30.0                     32.5   \n5744  S03, S09, S010    R01               50.0                     95.5   \n5866  S010, S01, S06    R01               39.0                     37.0   \n\n      Rocket Lift Price (M$)  Delta-V Cost (M$)  \n0                      312.0                6.0  \n1                      220.0                3.7  \n2                      150.0                2.8  \n3                      624.0                8.7  \n5                      220.0                4.9  \n...                      ...                ...  \n5642                   150.0                3.0  \n5703                   312.0                6.9  \n5705                   150.0                3.0  \n5744                   220.0                5.0  \n5866                   220.0                3.9  \n\n[773 rows x 6 columns]",
      "text/html": "<div>\n<style scoped>\n    .dataframe tbody tr th:only-of-type {\n        vertical-align: middle;\n    }\n\n    .dataframe tbody tr th {\n        vertical-align: top;\n    }\n\n    .dataframe thead th {\n        text-align: right;\n    }\n</style>\n<table border=\"1\" class=\"dataframe\">\n  <thead>\n    <tr style=\"text-align: right;\">\n      <th></th>\n      <th>Spacecraft</th>\n      <th>Rocket</th>\n      <th>Total Mass (tons)</th>\n      <th>Storage Capacity (tons)</th>\n      <th>Rocket Lift Price (M$)</th>\n      <th>Delta-V Cost (M$)</th>\n    </tr>\n  </thead>\n  <tbody>\n    <tr>\n      <th>0</th>\n      <td>S02</td>\n      <td>R04</td>\n      <td>60.0</td>\n      <td>20.0</td>\n      <td>312.0</td>\n      <td>6.0</td>\n    </tr>\n    <tr>\n      <th>1</th>\n      <td>S05, S01</td>\n      <td>R01</td>\n      <td>37.0</td>\n      <td>45.0</td>\n      <td>220.0</td>\n      <td>3.7</td>\n    </tr>\n    <tr>\n      <th>2</th>\n      <td>S04</td>\n      <td>R05</td>\n      <td>28.0</td>\n      <td>60.0</td>\n      <td>150.0</td>\n      <td>2.8</td>\n    </tr>\n    <tr>\n      <th>3</th>\n      <td>S06, S01, S02</td>\n      <td>R03</td>\n      <td>87.0</td>\n      <td>52.0</td>\n      <td>624.0</td>\n      <td>8.7</td>\n    </tr>\n    <tr>\n      <th>5</th>\n      <td>S010, S01, S05</td>\n      <td>R01</td>\n      <td>49.0</td>\n      <td>50.0</td>\n      <td>220.0</td>\n      <td>4.9</td>\n    </tr>\n    <tr>\n      <th>...</th>\n      <td>...</td>\n      <td>...</td>\n      <td>...</td>\n      <td>...</td>\n      <td>...</td>\n      <td>...</td>\n    </tr>\n    <tr>\n      <th>5642</th>\n      <td>S05, S03, S010</td>\n      <td>R05</td>\n      <td>30.0</td>\n      <td>20.5</td>\n      <td>150.0</td>\n      <td>3.0</td>\n    </tr>\n    <tr>\n      <th>5703</th>\n      <td>S01, S010, S09</td>\n      <td>R04</td>\n      <td>69.0</td>\n      <td>125.0</td>\n      <td>312.0</td>\n      <td>6.9</td>\n    </tr>\n    <tr>\n      <th>5705</th>\n      <td>S03, S06, S01</td>\n      <td>R05</td>\n      <td>30.0</td>\n      <td>32.5</td>\n      <td>150.0</td>\n      <td>3.0</td>\n    </tr>\n    <tr>\n      <th>5744</th>\n      <td>S03, S09, S010</td>\n      <td>R01</td>\n      <td>50.0</td>\n      <td>95.5</td>\n      <td>220.0</td>\n      <td>5.0</td>\n    </tr>\n    <tr>\n      <th>5866</th>\n      <td>S010, S01, S06</td>\n      <td>R01</td>\n      <td>39.0</td>\n      <td>37.0</td>\n      <td>220.0</td>\n      <td>3.9</td>\n    </tr>\n  </tbody>\n</table>\n<p>773 rows × 6 columns</p>\n</div>"
     },
     "execution_count": 93,
     "metadata": {},
     "output_type": "execute_result"
    }
   ],
   "source": [
    "cleaned_bundle_df = updated_bundle_df.drop(\"Bundle ID\", axis=1).drop_duplicates()\n",
    "cleaned_bundle_df"
   ],
   "metadata": {
    "collapsed": false,
    "ExecuteTime": {
     "end_time": "2024-12-07T18:24:19.225925Z",
     "start_time": "2024-12-07T18:24:19.196529Z"
    }
   },
   "id": "2fc8f8bc12d7f2fe",
   "execution_count": 93
  },
  {
   "cell_type": "code",
   "outputs": [],
   "source": [
    "cleaned_bundle_df.columns = ['Spacecraft', 'Rocket', 'Total_Mass', 'Storage_Capacity', 'Rocket_Lift_Price', 'DeltaV_Cost']"
   ],
   "metadata": {
    "collapsed": false,
    "ExecuteTime": {
     "end_time": "2024-12-07T18:26:22.180512Z",
     "start_time": "2024-12-07T18:26:22.171557Z"
    }
   },
   "id": "9874ee5ff7da36a6",
   "execution_count": 96
  },
  {
   "cell_type": "code",
   "outputs": [
    {
     "name": "stdout",
     "output_type": "stream",
     "text": [
      "Table created successfully.\n",
      "Data inserted successfully.\n"
     ]
    }
   ],
   "source": [
    "import sqlite3\n",
    "\n",
    "# Connect to SQLite database\n",
    "conn = sqlite3.connect(\"database_fleet.db\")\n",
    "cursor = conn.cursor()\n",
    "\n",
    "# Create the table\n",
    "cursor.execute(\"DROP TABLE IF EXISTS Boundles;\")\n",
    "cursor.execute(\"\"\"\n",
    "CREATE TABLE Boundles (\n",
    "    Spacecraft TEXT NOT NULL,\n",
    "    Rocket TEXT NOT NULL,\n",
    "    Total_Mass REAL NOT NULL,\n",
    "    Storage_Capacity REAL NOT NULL,\n",
    "    Rocket_Lift_Price REAL NOT NULL,\n",
    "    DeltaV_Cost REAL NOT NULL\n",
    ")\n",
    "\"\"\")\n",
    "print(\"Table created successfully.\")\n",
    "\n",
    "# Insert data from DataFrame into the table\n",
    "cleaned_bundle_df.to_sql(\"Boundles\", conn, if_exists=\"append\", index=False)\n",
    "print(\"Data inserted successfully.\")\n",
    "\n",
    "# Commit changes and close the connection\n",
    "conn.commit()\n",
    "conn.close()"
   ],
   "metadata": {
    "collapsed": false,
    "ExecuteTime": {
     "end_time": "2024-12-07T18:31:55.542941Z",
     "start_time": "2024-12-07T18:31:55.506253Z"
    }
   },
   "id": "5ea151c8c3d27dd4",
   "execution_count": 106
  },
  {
   "cell_type": "code",
   "outputs": [
    {
     "data": {
      "text/plain": "         Spacecraft Rocket  Total_Mass  Storage_Capacity  Rocket_Lift_Price  \\\n0               S02    R04        60.0              20.0              312.0   \n1          S05, S01    R01        37.0              45.0              220.0   \n2               S04    R05        28.0              60.0              150.0   \n3     S06, S01, S02    R03        87.0              52.0              624.0   \n4    S010, S01, S05    R01        49.0              50.0              220.0   \n..              ...    ...         ...               ...                ...   \n768  S05, S03, S010    R05        30.0              20.5              150.0   \n769  S01, S010, S09    R04        69.0             125.0              312.0   \n770   S03, S06, S01    R05        30.0              32.5              150.0   \n771  S03, S09, S010    R01        50.0              95.5              220.0   \n772  S010, S01, S06    R01        39.0              37.0              220.0   \n\n     DeltaV_Cost  \n0            6.0  \n1            3.7  \n2            2.8  \n3            8.7  \n4            4.9  \n..           ...  \n768          3.0  \n769          6.9  \n770          3.0  \n771          5.0  \n772          3.9  \n\n[773 rows x 6 columns]",
      "text/html": "<div>\n<style scoped>\n    .dataframe tbody tr th:only-of-type {\n        vertical-align: middle;\n    }\n\n    .dataframe tbody tr th {\n        vertical-align: top;\n    }\n\n    .dataframe thead th {\n        text-align: right;\n    }\n</style>\n<table border=\"1\" class=\"dataframe\">\n  <thead>\n    <tr style=\"text-align: right;\">\n      <th></th>\n      <th>Spacecraft</th>\n      <th>Rocket</th>\n      <th>Total_Mass</th>\n      <th>Storage_Capacity</th>\n      <th>Rocket_Lift_Price</th>\n      <th>DeltaV_Cost</th>\n    </tr>\n  </thead>\n  <tbody>\n    <tr>\n      <th>0</th>\n      <td>S02</td>\n      <td>R04</td>\n      <td>60.0</td>\n      <td>20.0</td>\n      <td>312.0</td>\n      <td>6.0</td>\n    </tr>\n    <tr>\n      <th>1</th>\n      <td>S05, S01</td>\n      <td>R01</td>\n      <td>37.0</td>\n      <td>45.0</td>\n      <td>220.0</td>\n      <td>3.7</td>\n    </tr>\n    <tr>\n      <th>2</th>\n      <td>S04</td>\n      <td>R05</td>\n      <td>28.0</td>\n      <td>60.0</td>\n      <td>150.0</td>\n      <td>2.8</td>\n    </tr>\n    <tr>\n      <th>3</th>\n      <td>S06, S01, S02</td>\n      <td>R03</td>\n      <td>87.0</td>\n      <td>52.0</td>\n      <td>624.0</td>\n      <td>8.7</td>\n    </tr>\n    <tr>\n      <th>4</th>\n      <td>S010, S01, S05</td>\n      <td>R01</td>\n      <td>49.0</td>\n      <td>50.0</td>\n      <td>220.0</td>\n      <td>4.9</td>\n    </tr>\n    <tr>\n      <th>...</th>\n      <td>...</td>\n      <td>...</td>\n      <td>...</td>\n      <td>...</td>\n      <td>...</td>\n      <td>...</td>\n    </tr>\n    <tr>\n      <th>768</th>\n      <td>S05, S03, S010</td>\n      <td>R05</td>\n      <td>30.0</td>\n      <td>20.5</td>\n      <td>150.0</td>\n      <td>3.0</td>\n    </tr>\n    <tr>\n      <th>769</th>\n      <td>S01, S010, S09</td>\n      <td>R04</td>\n      <td>69.0</td>\n      <td>125.0</td>\n      <td>312.0</td>\n      <td>6.9</td>\n    </tr>\n    <tr>\n      <th>770</th>\n      <td>S03, S06, S01</td>\n      <td>R05</td>\n      <td>30.0</td>\n      <td>32.5</td>\n      <td>150.0</td>\n      <td>3.0</td>\n    </tr>\n    <tr>\n      <th>771</th>\n      <td>S03, S09, S010</td>\n      <td>R01</td>\n      <td>50.0</td>\n      <td>95.5</td>\n      <td>220.0</td>\n      <td>5.0</td>\n    </tr>\n    <tr>\n      <th>772</th>\n      <td>S010, S01, S06</td>\n      <td>R01</td>\n      <td>39.0</td>\n      <td>37.0</td>\n      <td>220.0</td>\n      <td>3.9</td>\n    </tr>\n  </tbody>\n</table>\n<p>773 rows × 6 columns</p>\n</div>"
     },
     "execution_count": 107,
     "metadata": {},
     "output_type": "execute_result"
    }
   ],
   "source": [
    "import pandas as pd\n",
    "import sqlite3\n",
    "\n",
    "conn = sqlite3.connect(\"database_fleet.db\")\n",
    "cursor = conn.cursor()\n",
    "query = \"SELECT * FROM Boundles;\"\n",
    "df = pd.read_sql_query(query, conn)\n",
    "df"
   ],
   "metadata": {
    "collapsed": false,
    "ExecuteTime": {
     "end_time": "2024-12-07T18:31:57.802072Z",
     "start_time": "2024-12-07T18:31:57.771236Z"
    }
   },
   "id": "dfaaf145fcb8b93f",
   "execution_count": 107
  }
 ],
 "metadata": {
  "kernelspec": {
   "display_name": "Python 3",
   "language": "python",
   "name": "python3"
  },
  "language_info": {
   "codemirror_mode": {
    "name": "ipython",
    "version": 2
   },
   "file_extension": ".py",
   "mimetype": "text/x-python",
   "name": "python",
   "nbconvert_exporter": "python",
   "pygments_lexer": "ipython2",
   "version": "2.7.6"
  }
 },
 "nbformat": 4,
 "nbformat_minor": 5
}
