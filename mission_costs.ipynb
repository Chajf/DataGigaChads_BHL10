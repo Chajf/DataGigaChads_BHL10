{
 "cells": [
  {
   "cell_type": "code",
   "outputs": [],
   "source": [
    "import pandas as pd\n",
    "import numpy as np\n",
    "\n",
    "# Expanded dataset with additional spacecraft and rockets\n",
    "data = {\n",
    "    \"ID\": [\n",
    "        \"S001\", \"S002\", \"S003\", \"S004\", \"S005\", \"S006\", \"S007\", \"S008\", \"S009\", \"S010\",\n",
    "        \"S011\", \"S012\", \"S013\", \"S014\", \"S015\", \"S016\", \"S017\", \"S018\", \"S019\", \"S020\",\n",
    "        \"R001\", \"R002\", \"R003\", \"R004\", \"R005\", \"R006\", \"R007\", \"R008\", \"R009\", \"R010\",\n",
    "        \"R011\", \"R012\", \"R013\", \"R014\", \"R015\", \"R016\", \"R017\", \"R018\"\n",
    "    ],\n",
    "    \"Type\": [\n",
    "        \"Mining Lander\", \"Heavy Transporter\", \"Survey Satellite\", \"Modular Miner\", \"Light Cargo Rocket\", \n",
    "        \"Recon Orbiter\", \"Mining Drone\", \"Heavy Cargo Rocket\", \"Deep Space Miner\", \"Survey Lander\", \n",
    "        \"Asteroid Harvester\", \"Long-Range Probe\", \"Mining Lander\", \"Modular Miner\", \"Cargo Drone\", \n",
    "        \"Cargo Transporter\", \"Recon Probe\", \"Survey Satellite\", \"Asteroid Surveyor\", \"Cargo Shuttle\", \n",
    "        \"Falcon 9\", \"Falcon Heavy\", \"Electron\", \"Ariane 5\", \"Vega\", \"Starship\", \n",
    "        \"Falcon 9\", \"Falcon Heavy\", \"Electron\", \"Ariane 5\", \"Vega\", \n",
    "        \"Starship\", \"Falcon 9\", \"Falcon Heavy\", \"Electron\", \"Ariane 5\", \n",
    "        \"Starship\", \"Vega\"\n",
    "    ],\n",
    "    \"Mass (tons)\": [\n",
    "        22, 60, 3, 28, 15, 5, 3.5, 80, 35, 12,\n",
    "        25, 50, 5, 35, 10, 45, 2, 2.5, 3, 2.5,\n",
    "        550, 1420, 12, 780, 300, 5000, \n",
    "        550, 1420, 12, 780, 300,\n",
    "        5000, 550, 1420, 12, 780,\n",
    "        5000, 300\n",
    "    ],\n",
    "    \"Cargo Capacity (tons)\": [\n",
    "        30, 200, 0.5, 60, 15, 2, 1.5, 250, 90, 5, \n",
    "        40, 100, 2, 70, 10, 50, 8, 5, 7, 8, \n",
    "        22, 63, 1.5, 22, 2.5, 1000, \n",
    "        22, 63, 1.5, 22, 2.5, \n",
    "        1000, 22, 63, 1.5, 22, \n",
    "        2.5, 1000\n",
    "    ],\n",
    "    \"Mining Capability (dm3/h)\": [\n",
    "        120, np.nan, np.nan, 160, np.nan, np.nan, 50, np.nan, 180, np.nan, \n",
    "        100, 80, np.nan, 180, np.nan, 250, np.nan, 150, 200, 120, \n",
    "        np.nan, np.nan, np.nan, np.nan, np.nan, np.nan, \n",
    "        np.nan, np.nan, np.nan, np.nan, np.nan, \n",
    "        np.nan, np.nan, np.nan, np.nan, np.nan, \n",
    "        np.nan, np.nan\n",
    "    ],\n",
    "}\n",
    "\n",
    "fleet_df = pd.DataFrame(data)"
   ],
   "metadata": {
    "collapsed": false,
    "ExecuteTime": {
     "end_time": "2024-12-08T02:47:35.709740Z",
     "start_time": "2024-12-08T02:47:34.941855Z"
    }
   },
   "id": "2c0b14cf2d0ef106",
   "execution_count": 1
  },
  {
   "cell_type": "code",
   "outputs": [
    {
     "name": "stdout",
     "output_type": "stream",
     "text": [
      "ID 38\n",
      "Type 38\n",
      "Mass (tons) 38\n",
      "Cargo Capacity (tons) 38\n",
      "Mining Capability (dm3/h) 38\n"
     ]
    }
   ],
   "source": [
    "for k in data.keys():\n",
    "    print(k, len(data[k]))"
   ],
   "metadata": {
    "collapsed": false,
    "ExecuteTime": {
     "end_time": "2024-12-08T02:47:35.725721Z",
     "start_time": "2024-12-08T02:47:35.711701Z"
    }
   },
   "id": "cb7223e6b16f67d6",
   "execution_count": 2
  },
  {
   "cell_type": "code",
   "outputs": [],
   "source": [
    "fleet_df = fleet_df[~fleet_df[\"Type\"].str.contains(\"Survey Satellite|Recon Orbiter|Mining Drone|Electron|Mining Lander|Vega|Survey Lander|Asteroid Surveyor|Recon Probe|Mining Lander|Long-Range Probe\")]"
   ],
   "metadata": {
    "collapsed": false,
    "ExecuteTime": {
     "end_time": "2024-12-08T02:47:35.741722Z",
     "start_time": "2024-12-08T02:47:35.726703Z"
    }
   },
   "id": "8122f2d91311cb50",
   "execution_count": 3
  },
  {
   "cell_type": "code",
   "outputs": [],
   "source": [
    "import random\n",
    "\n",
    "delta_v_cost_per_kms = 0.1  # Cost per Δv (km/s) per ton of spacecraft (in millions USD)\n",
    "\n",
    "# # Define the dataset\n",
    "# df = pd.DataFrame({\n",
    "#     \"ID\": [\n",
    "#         \"S001\", \"S002\", \"S003\", \"S004\", \"S005\", \"S006\", \"S007\", \"S008\", \"S009\", \"S010\",\n",
    "#         \"R001\", \"R002\", \"R003\", \"R004\", \"R005\", \"R006\", \"R007\", \"R008\", \"R009\", \"R010\"\n",
    "#     ],\n",
    "#     \"Type\": [\n",
    "#         \"Mining Lander\", \"Heavy Transporter\", \"Survey Satellite\", \"Modular Miner\", \"Light Cargo Rocket\",\n",
    "#         \"Recon Orbiter\", \"Mining Drone\", \"Heavy Cargo Rocket\", \"Deep Space Miner\", \"Survey Lander\",\n",
    "#         \n",
    "#         \"Falcon 9\", \"Falcon Heavy\", \"Electron\", \"Ariane 5\", \"Vega\", \n",
    "#         \"Starship\", \"Falcon 9\", \"Falcon Heavy\", \"Electron\", \"Ariane 5\"\n",
    "#     ],\n",
    "#     \"Mass (tons)\": [\n",
    "#         22, 60, 3, 28, 15, 5, 3.5, 80, 35, 12,\n",
    "#         \n",
    "#         550, 1420, 1040, 780, 300, \n",
    "#         5000, 550, 1420, 1040, 780\n",
    "#     ],\n",
    "#     \"Max Delta-V (km/s)\": [\n",
    "#         8.5, 7.0, 12.0, 9.0, 11.0, 14.0, 10.5, 6.5, 7.5, 9.5,\n",
    "#         None, None, None, None, None, None,\n",
    "#         None, None, None, None\n",
    "#     ],\n",
    "#     \"Cargo Capacity (tons)\": [\n",
    "#         30, 20, 0.5, 60, 15, 2, 1.5, 25, 90, 5,\n",
    "#         55, 142, 104, 78, 30, \n",
    "#         500, 55, 142, 104, 78\n",
    "#     ]\n",
    "# })\n",
    "\n",
    "# Separate rockets and spacecraft\n",
    "rockets = fleet_df[fleet_df[\"Type\"].str.contains(\"Falcon|Electron|Ariane|Vega|Starship\")].drop('ID',axis=1).drop_duplicates()\n",
    "spacecraft = fleet_df[~fleet_df[\"Type\"].str.contains(\"Falcon|Electron|Ariane|Vega|Starship\")].drop('ID',axis=1).drop_duplicates()\n",
    "spacecraft = spacecraft[~spacecraft[\"Mining Capability (dm3/h)\"].isna()]\n",
    "\n",
    "rockets['ID'] = list(f\"R0{id + 1}\" for id in range(len(rockets)))\n",
    "spacecraft['ID'] = list(f\"S0{id + 1}\" for id in range(len(spacecraft)))"
   ],
   "metadata": {
    "collapsed": false,
    "ExecuteTime": {
     "end_time": "2024-12-08T02:47:35.757722Z",
     "start_time": "2024-12-08T02:47:35.743700Z"
    }
   },
   "id": "b18340bcd023107e",
   "execution_count": 4
  },
  {
   "cell_type": "code",
   "outputs": [
    {
     "data": {
      "text/plain": "['Mining Lander',\n 'Heavy Transporter',\n 'Survey Satellite',\n 'Modular Miner',\n 'Light Cargo Rocket',\n 'Recon Orbiter',\n 'Mining Drone',\n 'Heavy Cargo Rocket',\n 'Deep Space Miner',\n 'Survey Lander',\n 'Asteroid Harvester',\n 'Long-Range Probe',\n 'Mining Lander',\n 'Modular Miner',\n 'Cargo Drone',\n 'Cargo Transporter',\n 'Recon Probe',\n 'Survey Satellite',\n 'Asteroid Surveyor',\n 'Cargo Shuttle',\n 'Falcon 9',\n 'Falcon Heavy',\n 'Electron',\n 'Ariane 5',\n 'Vega',\n 'Starship',\n 'Falcon 9',\n 'Falcon Heavy',\n 'Electron',\n 'Ariane 5',\n 'Vega',\n 'Starship',\n 'Falcon 9',\n 'Falcon Heavy',\n 'Electron',\n 'Ariane 5',\n 'Starship',\n 'Vega']"
     },
     "execution_count": 5,
     "metadata": {},
     "output_type": "execute_result"
    }
   ],
   "source": [
    "data[\"Type\"]"
   ],
   "metadata": {
    "collapsed": false,
    "ExecuteTime": {
     "end_time": "2024-12-08T02:47:35.772793Z",
     "start_time": "2024-12-08T02:47:35.759701Z"
    }
   },
   "id": "4cbabd59bcd7ae4f",
   "execution_count": 5
  },
  {
   "cell_type": "code",
   "outputs": [
    {
     "data": {
      "text/plain": "550"
     },
     "execution_count": 6,
     "metadata": {},
     "output_type": "execute_result"
    }
   ],
   "source": [
    "int(rockets[rockets['Type'] == \"Falcon 9\"][\"Mass (tons)\"].iloc[0])"
   ],
   "metadata": {
    "collapsed": false,
    "ExecuteTime": {
     "end_time": "2024-12-08T02:47:35.787797Z",
     "start_time": "2024-12-08T02:47:35.774702Z"
    }
   },
   "id": "f7653085a8709b30",
   "execution_count": 6
  },
  {
   "cell_type": "code",
   "outputs": [],
   "source": [
    "rocket_lift_prices = {\n",
    "    \"Falcon 9\": int(rockets[rockets['Type'] == \"Falcon 9\"][\"Mass (tons)\"].iloc[0]) * random.randint(4,6) * 0.1,       # in millions USD\n",
    "    \"Falcon Heavy\": int(rockets[rockets['Type'] == \"Falcon Heavy\"][\"Mass (tons)\"].iloc[0]) * random.randint(4,6) * 0.1,\n",
    "    # \"Electron\": int(rockets[rockets['Type'] == \"Electron\"][\"Mass (tons)\"].iloc[0]) * random.randint(4,6) * 0.1,\n",
    "    \"Ariane 5\": int(rockets[rockets['Type'] == \"Ariane 5\"][\"Mass (tons)\"].iloc[0]) * random.randint(4,6) * 0.1,\n",
    "    # \"Vega\": int(rockets[rockets['Type'] == \"Vega\"][\"Mass (tons)\"].iloc[0]) * random.randint(4,6) * 0.1,\n",
    "    \"Starship\": int(rockets[rockets['Type'] == \"Starship\"][\"Mass (tons)\"].iloc[0]) * random.randint(4,6) * 0.1\n",
    "}\n",
    "\n",
    "# Generate bundles\n",
    "updated_bundles = []\n",
    "for _ in range(len(rockets)*pow(len(spacecraft), 3)):\n",
    "# for spacecraft in spacecraft:\n",
    "    bundle_spacecraft = spacecraft.sample(random.randint(1, 3))  # Randomly choose 1-3 spacecraft\n",
    "    total_mass = bundle_spacecraft[\"Mass (tons)\"].sum()\n",
    "    total_storage = bundle_spacecraft[\"Cargo Capacity (tons)\"].sum()\n",
    "    \n",
    "    # Find compatible rocket\n",
    "    compatible_rockets = rockets[rockets[\"Cargo Capacity (tons)\"] >= total_mass].drop_duplicates()\n",
    "    if compatible_rockets.empty:\n",
    "        continue  # Skip if no compatible rocket\n",
    "    \n",
    "    compatible_rockets = compatible_rockets.sort_values(by=\"Mass (tons)\", ascending=True)\n",
    "    \n",
    "    rocket = compatible_rockets.iloc[0]\n",
    "    rocket_price = rocket_lift_prices[rocket[\"Type\"]]\n",
    "    \n",
    "    # Calculate delta-v cost\n",
    "    delta_v_cost = (bundle_spacecraft[\"Mass (tons)\"] * delta_v_cost_per_kms).sum()\n",
    "    \n",
    "    # Add bundle details\n",
    "    updated_bundles.append({\n",
    "        \"Bundle ID\": f\"B{len(updated_bundles)+1:04}\",\n",
    "        \"Spacecraft\": \", \".join(bundle_spacecraft[\"ID\"]),\n",
    "        \"Rocket\": rocket[\"ID\"],\n",
    "        \"Total Mass (tons)\": total_mass,\n",
    "        \"Storage Capacity (dm3)\": total_storage * 10,\n",
    "        \"Rocket Lift Price (M$)\": rocket_price,\n",
    "        \"Delta-V Cost (M$)\": round(delta_v_cost, 2),\n",
    "        \"Mining Capability (dm3/day)\": bundle_spacecraft[\"Mining Capability (dm3/h)\"].sum() * 24\n",
    "    })\n",
    "\n",
    "# Convert to DataFrame and save as CSV\n",
    "updated_bundle_df = pd.DataFrame(updated_bundles)\n"
   ],
   "metadata": {
    "collapsed": false,
    "ExecuteTime": {
     "end_time": "2024-12-08T02:47:37.350014Z",
     "start_time": "2024-12-08T02:47:35.790219Z"
    }
   },
   "id": "19ac34fd03d722f7",
   "execution_count": 7
  },
  {
   "cell_type": "code",
   "outputs": [
    {
     "data": {
      "text/plain": "        Spacecraft Rocket  Total Mass (tons)  Storage Capacity (dm3)  \\\n0              S06    R01                2.5                    80.0   \n1    S06, S02, S01    R04               65.5                  1580.0   \n2    S06, S02, S04    R04               72.5                  1680.0   \n3              S01    R02               28.0                   600.0   \n4    S05, S03, S06    R04               72.5                   980.0   \n..             ...    ...                ...                     ...   \n850  S02, S03, S05    R04              105.0                  1800.0   \n855  S01, S05, S06    R04               75.5                  1180.0   \n956  S03, S01, S04    R04               88.0                  1700.0   \n970  S05, S06, S03    R04               72.5                   980.0   \n980  S02, S05, S03    R04              105.0                  1800.0   \n\n     Rocket Lift Price (M$)  Delta-V Cost (M$)  Mining Capability (dm3/day)  \\\n0                     275.0               0.25                       2880.0   \n1                    3000.0               6.55                      11040.0   \n2                    3000.0               7.25                      11520.0   \n3                     710.0               2.80                       3840.0   \n4                    3000.0               7.25                      11280.0   \n..                      ...                ...                          ...   \n850                  3000.0              10.50                      12720.0   \n855                  3000.0               7.55                      12720.0   \n956                  3000.0               8.80                      10560.0   \n970                  3000.0               7.25                      11280.0   \n980                  3000.0              10.50                      12720.0   \n\n    On_Mission  \n0        False  \n1         True  \n2         True  \n3         True  \n4         True  \n..         ...  \n850       True  \n855       True  \n956      False  \n970      False  \n980       True  \n\n[149 rows x 8 columns]",
      "text/html": "<div>\n<style scoped>\n    .dataframe tbody tr th:only-of-type {\n        vertical-align: middle;\n    }\n\n    .dataframe tbody tr th {\n        vertical-align: top;\n    }\n\n    .dataframe thead th {\n        text-align: right;\n    }\n</style>\n<table border=\"1\" class=\"dataframe\">\n  <thead>\n    <tr style=\"text-align: right;\">\n      <th></th>\n      <th>Spacecraft</th>\n      <th>Rocket</th>\n      <th>Total Mass (tons)</th>\n      <th>Storage Capacity (dm3)</th>\n      <th>Rocket Lift Price (M$)</th>\n      <th>Delta-V Cost (M$)</th>\n      <th>Mining Capability (dm3/day)</th>\n      <th>On_Mission</th>\n    </tr>\n  </thead>\n  <tbody>\n    <tr>\n      <th>0</th>\n      <td>S06</td>\n      <td>R01</td>\n      <td>2.5</td>\n      <td>80.0</td>\n      <td>275.0</td>\n      <td>0.25</td>\n      <td>2880.0</td>\n      <td>False</td>\n    </tr>\n    <tr>\n      <th>1</th>\n      <td>S06, S02, S01</td>\n      <td>R04</td>\n      <td>65.5</td>\n      <td>1580.0</td>\n      <td>3000.0</td>\n      <td>6.55</td>\n      <td>11040.0</td>\n      <td>True</td>\n    </tr>\n    <tr>\n      <th>2</th>\n      <td>S06, S02, S04</td>\n      <td>R04</td>\n      <td>72.5</td>\n      <td>1680.0</td>\n      <td>3000.0</td>\n      <td>7.25</td>\n      <td>11520.0</td>\n      <td>True</td>\n    </tr>\n    <tr>\n      <th>3</th>\n      <td>S01</td>\n      <td>R02</td>\n      <td>28.0</td>\n      <td>600.0</td>\n      <td>710.0</td>\n      <td>2.80</td>\n      <td>3840.0</td>\n      <td>True</td>\n    </tr>\n    <tr>\n      <th>4</th>\n      <td>S05, S03, S06</td>\n      <td>R04</td>\n      <td>72.5</td>\n      <td>980.0</td>\n      <td>3000.0</td>\n      <td>7.25</td>\n      <td>11280.0</td>\n      <td>True</td>\n    </tr>\n    <tr>\n      <th>...</th>\n      <td>...</td>\n      <td>...</td>\n      <td>...</td>\n      <td>...</td>\n      <td>...</td>\n      <td>...</td>\n      <td>...</td>\n      <td>...</td>\n    </tr>\n    <tr>\n      <th>850</th>\n      <td>S02, S03, S05</td>\n      <td>R04</td>\n      <td>105.0</td>\n      <td>1800.0</td>\n      <td>3000.0</td>\n      <td>10.50</td>\n      <td>12720.0</td>\n      <td>True</td>\n    </tr>\n    <tr>\n      <th>855</th>\n      <td>S01, S05, S06</td>\n      <td>R04</td>\n      <td>75.5</td>\n      <td>1180.0</td>\n      <td>3000.0</td>\n      <td>7.55</td>\n      <td>12720.0</td>\n      <td>True</td>\n    </tr>\n    <tr>\n      <th>956</th>\n      <td>S03, S01, S04</td>\n      <td>R04</td>\n      <td>88.0</td>\n      <td>1700.0</td>\n      <td>3000.0</td>\n      <td>8.80</td>\n      <td>10560.0</td>\n      <td>False</td>\n    </tr>\n    <tr>\n      <th>970</th>\n      <td>S05, S06, S03</td>\n      <td>R04</td>\n      <td>72.5</td>\n      <td>980.0</td>\n      <td>3000.0</td>\n      <td>7.25</td>\n      <td>11280.0</td>\n      <td>False</td>\n    </tr>\n    <tr>\n      <th>980</th>\n      <td>S02, S05, S03</td>\n      <td>R04</td>\n      <td>105.0</td>\n      <td>1800.0</td>\n      <td>3000.0</td>\n      <td>10.50</td>\n      <td>12720.0</td>\n      <td>True</td>\n    </tr>\n  </tbody>\n</table>\n<p>149 rows × 8 columns</p>\n</div>"
     },
     "execution_count": 8,
     "metadata": {},
     "output_type": "execute_result"
    }
   ],
   "source": [
    "cleaned_bundle_df = updated_bundle_df.drop(\"Bundle ID\", axis=1).drop_duplicates()\n",
    "cleaned_bundle_df[cleaned_bundle_df['Storage Capacity (dm3)'] > 175]\n",
    "cleaned_bundle_df['On_Mission'] = [random.choice(['True', 'False']) for _ in range(len(cleaned_bundle_df))]\n",
    "cleaned_bundle_df"
   ],
   "metadata": {
    "collapsed": false,
    "ExecuteTime": {
     "end_time": "2024-12-08T02:47:37.381623Z",
     "start_time": "2024-12-08T02:47:37.351242Z"
    }
   },
   "id": "2fc8f8bc12d7f2fe",
   "execution_count": 8
  },
  {
   "cell_type": "code",
   "outputs": [],
   "source": [
    "cleaned_bundle_df.columns = ['Spacecraft', 'Rocket', 'Total_Mass', 'Storage_Capacity', 'Rocket_Lift_Price', 'DeltaV_Cost', 'Mining_Capability','On_Mission']"
   ],
   "metadata": {
    "collapsed": false,
    "ExecuteTime": {
     "end_time": "2024-12-08T02:47:37.397483Z",
     "start_time": "2024-12-08T02:47:37.382736Z"
    }
   },
   "id": "9874ee5ff7da36a6",
   "execution_count": 9
  },
  {
   "cell_type": "code",
   "outputs": [
    {
     "name": "stdout",
     "output_type": "stream",
     "text": [
      "Table created successfully.\n",
      "Data inserted successfully.\n"
     ]
    }
   ],
   "source": [
    "import sqlite3\n",
    "\n",
    "# Connect to SQLite database\n",
    "conn = sqlite3.connect(\"database.db\")\n",
    "cursor = conn.cursor()\n",
    "\n",
    "# Create the table\n",
    "cursor.execute(\"DROP TABLE IF EXISTS FLEET;\")\n",
    "cursor.execute(\"\"\"\n",
    "CREATE TABLE FLEET (\n",
    "    Spacecraft TEXT NOT NULL,\n",
    "    Rocket TEXT NOT NULL,\n",
    "    Total_Mass REAL NOT NULL,\n",
    "    Storage_Capacity REAL NOT NULL,\n",
    "    Rocket_Lift_Price REAL NOT NULL,\n",
    "    DeltaV_Cost REAL NOT NULL,\n",
    "    Mining_Capability TEXT NOT NULL,\n",
    "    On_Mission BOOLEAN NOT NULL\n",
    ")\n",
    "\"\"\")\n",
    "print(\"Table created successfully.\")\n",
    "\n",
    "# Insert data from DataFrame into the table\n",
    "cleaned_bundle_df.to_sql(\"FLEET\", conn, if_exists=\"append\", index=False)\n",
    "print(\"Data inserted successfully.\")\n",
    "\n",
    "# Commit changes and close the connection\n",
    "conn.commit()\n",
    "conn.close()"
   ],
   "metadata": {
    "collapsed": false,
    "ExecuteTime": {
     "end_time": "2024-12-08T02:47:37.428406Z",
     "start_time": "2024-12-08T02:47:37.398677Z"
    }
   },
   "id": "5ea151c8c3d27dd4",
   "execution_count": 10
  },
  {
   "cell_type": "code",
   "outputs": [
    {
     "data": {
      "text/plain": "        Spacecraft Rocket  Total_Mass  Storage_Capacity  Rocket_Lift_Price  \\\n0              S06    R01         2.5              80.0              275.0   \n1    S06, S02, S01    R04        65.5            1580.0             3000.0   \n2    S06, S02, S04    R04        72.5            1680.0             3000.0   \n3              S01    R02        28.0             600.0              710.0   \n4    S05, S03, S06    R04        72.5             980.0             3000.0   \n..             ...    ...         ...               ...                ...   \n144  S02, S03, S05    R04       105.0            1800.0             3000.0   \n145  S01, S05, S06    R04        75.5            1180.0             3000.0   \n146  S03, S01, S04    R04        88.0            1700.0             3000.0   \n147  S05, S06, S03    R04        72.5             980.0             3000.0   \n148  S02, S05, S03    R04       105.0            1800.0             3000.0   \n\n     DeltaV_Cost Mining_Capability On_Mission  \n0           0.25            2880.0      False  \n1           6.55           11040.0       True  \n2           7.25           11520.0       True  \n3           2.80            3840.0       True  \n4           7.25           11280.0       True  \n..           ...               ...        ...  \n144        10.50           12720.0       True  \n145         7.55           12720.0       True  \n146         8.80           10560.0      False  \n147         7.25           11280.0      False  \n148        10.50           12720.0       True  \n\n[149 rows x 8 columns]",
      "text/html": "<div>\n<style scoped>\n    .dataframe tbody tr th:only-of-type {\n        vertical-align: middle;\n    }\n\n    .dataframe tbody tr th {\n        vertical-align: top;\n    }\n\n    .dataframe thead th {\n        text-align: right;\n    }\n</style>\n<table border=\"1\" class=\"dataframe\">\n  <thead>\n    <tr style=\"text-align: right;\">\n      <th></th>\n      <th>Spacecraft</th>\n      <th>Rocket</th>\n      <th>Total_Mass</th>\n      <th>Storage_Capacity</th>\n      <th>Rocket_Lift_Price</th>\n      <th>DeltaV_Cost</th>\n      <th>Mining_Capability</th>\n      <th>On_Mission</th>\n    </tr>\n  </thead>\n  <tbody>\n    <tr>\n      <th>0</th>\n      <td>S06</td>\n      <td>R01</td>\n      <td>2.5</td>\n      <td>80.0</td>\n      <td>275.0</td>\n      <td>0.25</td>\n      <td>2880.0</td>\n      <td>False</td>\n    </tr>\n    <tr>\n      <th>1</th>\n      <td>S06, S02, S01</td>\n      <td>R04</td>\n      <td>65.5</td>\n      <td>1580.0</td>\n      <td>3000.0</td>\n      <td>6.55</td>\n      <td>11040.0</td>\n      <td>True</td>\n    </tr>\n    <tr>\n      <th>2</th>\n      <td>S06, S02, S04</td>\n      <td>R04</td>\n      <td>72.5</td>\n      <td>1680.0</td>\n      <td>3000.0</td>\n      <td>7.25</td>\n      <td>11520.0</td>\n      <td>True</td>\n    </tr>\n    <tr>\n      <th>3</th>\n      <td>S01</td>\n      <td>R02</td>\n      <td>28.0</td>\n      <td>600.0</td>\n      <td>710.0</td>\n      <td>2.80</td>\n      <td>3840.0</td>\n      <td>True</td>\n    </tr>\n    <tr>\n      <th>4</th>\n      <td>S05, S03, S06</td>\n      <td>R04</td>\n      <td>72.5</td>\n      <td>980.0</td>\n      <td>3000.0</td>\n      <td>7.25</td>\n      <td>11280.0</td>\n      <td>True</td>\n    </tr>\n    <tr>\n      <th>...</th>\n      <td>...</td>\n      <td>...</td>\n      <td>...</td>\n      <td>...</td>\n      <td>...</td>\n      <td>...</td>\n      <td>...</td>\n      <td>...</td>\n    </tr>\n    <tr>\n      <th>144</th>\n      <td>S02, S03, S05</td>\n      <td>R04</td>\n      <td>105.0</td>\n      <td>1800.0</td>\n      <td>3000.0</td>\n      <td>10.50</td>\n      <td>12720.0</td>\n      <td>True</td>\n    </tr>\n    <tr>\n      <th>145</th>\n      <td>S01, S05, S06</td>\n      <td>R04</td>\n      <td>75.5</td>\n      <td>1180.0</td>\n      <td>3000.0</td>\n      <td>7.55</td>\n      <td>12720.0</td>\n      <td>True</td>\n    </tr>\n    <tr>\n      <th>146</th>\n      <td>S03, S01, S04</td>\n      <td>R04</td>\n      <td>88.0</td>\n      <td>1700.0</td>\n      <td>3000.0</td>\n      <td>8.80</td>\n      <td>10560.0</td>\n      <td>False</td>\n    </tr>\n    <tr>\n      <th>147</th>\n      <td>S05, S06, S03</td>\n      <td>R04</td>\n      <td>72.5</td>\n      <td>980.0</td>\n      <td>3000.0</td>\n      <td>7.25</td>\n      <td>11280.0</td>\n      <td>False</td>\n    </tr>\n    <tr>\n      <th>148</th>\n      <td>S02, S05, S03</td>\n      <td>R04</td>\n      <td>105.0</td>\n      <td>1800.0</td>\n      <td>3000.0</td>\n      <td>10.50</td>\n      <td>12720.0</td>\n      <td>True</td>\n    </tr>\n  </tbody>\n</table>\n<p>149 rows × 8 columns</p>\n</div>"
     },
     "execution_count": 11,
     "metadata": {},
     "output_type": "execute_result"
    }
   ],
   "source": [
    "import pandas as pd\n",
    "import sqlite3\n",
    "\n",
    "conn = sqlite3.connect(\"database.db\")\n",
    "cursor = conn.cursor()\n",
    "query = \"SELECT * FROM FLEET;\"\n",
    "df = pd.read_sql_query(query, conn)\n",
    "df"
   ],
   "metadata": {
    "collapsed": false,
    "ExecuteTime": {
     "end_time": "2024-12-08T02:47:37.458955Z",
     "start_time": "2024-12-08T02:47:37.430581Z"
    }
   },
   "id": "dfaaf145fcb8b93f",
   "execution_count": 11
  },
  {
   "cell_type": "markdown",
   "source": [
    "Spacecraft TEXT NOT NULL -- Set of spacecraft IDs in mission.\n",
    "Rocket TEXT NOT NULL -- Rocket ID.\n",
    "Total_Mass REAL NOT NULL -- Mass of a whole set with rocket.\n",
    "Storage_Capacity REAL NOT NULL -- Volume of storage for extracted minerals.\n",
    "Rocket_Lift_Price REAL NOT NULL -- price of lifting rocket from Earth.\n",
    "DeltaV_Cost REAL NOT NULL -- Cost per km/s delta velocity.\n",
    "Mining_Capability -- How much volume can spacecraft extract per day.\n",
    "On_Mission -- Are spacecraft currently on mission."
   ],
   "metadata": {
    "collapsed": false
   },
   "id": "bcde7da6e221618"
  },
  {
   "cell_type": "code",
   "outputs": [
    {
     "data": {
      "text/plain": "            Type    Mass  Capacity   ID\n20      Falcon 9   550.0      22.0  R01\n21  Falcon Heavy  1420.0      63.0  R02\n23      Ariane 5   780.0      22.0  R03\n25      Starship  5000.0    1000.0  R04\n36      Starship  5000.0       2.5  R05",
      "text/html": "<div>\n<style scoped>\n    .dataframe tbody tr th:only-of-type {\n        vertical-align: middle;\n    }\n\n    .dataframe tbody tr th {\n        vertical-align: top;\n    }\n\n    .dataframe thead th {\n        text-align: right;\n    }\n</style>\n<table border=\"1\" class=\"dataframe\">\n  <thead>\n    <tr style=\"text-align: right;\">\n      <th></th>\n      <th>Type</th>\n      <th>Mass</th>\n      <th>Capacity</th>\n      <th>ID</th>\n    </tr>\n  </thead>\n  <tbody>\n    <tr>\n      <th>20</th>\n      <td>Falcon 9</td>\n      <td>550.0</td>\n      <td>22.0</td>\n      <td>R01</td>\n    </tr>\n    <tr>\n      <th>21</th>\n      <td>Falcon Heavy</td>\n      <td>1420.0</td>\n      <td>63.0</td>\n      <td>R02</td>\n    </tr>\n    <tr>\n      <th>23</th>\n      <td>Ariane 5</td>\n      <td>780.0</td>\n      <td>22.0</td>\n      <td>R03</td>\n    </tr>\n    <tr>\n      <th>25</th>\n      <td>Starship</td>\n      <td>5000.0</td>\n      <td>1000.0</td>\n      <td>R04</td>\n    </tr>\n    <tr>\n      <th>36</th>\n      <td>Starship</td>\n      <td>5000.0</td>\n      <td>2.5</td>\n      <td>R05</td>\n    </tr>\n  </tbody>\n</table>\n</div>"
     },
     "execution_count": 12,
     "metadata": {},
     "output_type": "execute_result"
    }
   ],
   "source": [
    "rockets.rename(columns={\"Mass (tons)\": \"Mass\", \"Cargo Capacity (tons)\": \"Capacity\"}, inplace=True)\n",
    "rockets.drop('Mining Capability (dm3/h)', axis=1, inplace=True)\n",
    "rockets"
   ],
   "metadata": {
    "collapsed": false,
    "ExecuteTime": {
     "end_time": "2024-12-08T02:47:37.474489Z",
     "start_time": "2024-12-08T02:47:37.460308Z"
    }
   },
   "id": "56a964eca62efa88",
   "execution_count": 12
  },
  {
   "cell_type": "markdown",
   "source": [
    "Type -- Type of rocket.\n",
    "Mass -- Mass of rocket.\n",
    "Capacity -- Max weight possible to lift by rocket.\n",
    "ID -- ID of rocket type."
   ],
   "metadata": {
    "collapsed": false
   },
   "id": "6ea6675e174f2394"
  },
  {
   "cell_type": "code",
   "outputs": [
    {
     "name": "stdout",
     "output_type": "stream",
     "text": [
      "Table created successfully.\n",
      "Data inserted successfully.\n"
     ]
    }
   ],
   "source": [
    "import sqlite3\n",
    "\n",
    "# Connect to SQLite database\n",
    "conn = sqlite3.connect(\"database.db\")\n",
    "cursor = conn.cursor()\n",
    "\n",
    "# Create the table\n",
    "cursor.execute(\"DROP TABLE IF EXISTS ROCKETS;\")\n",
    "cursor.execute(\"\"\"\n",
    "    CREATE TABLE ROCKETS (\n",
    "    TYPE TEXT NOT NULL,\n",
    "    MASS REAL NOT NULL,\n",
    "    CAPACITY REAL NOT NULL,\n",
    "    ID TEXT NOT NULL\n",
    "    )\n",
    "\"\"\")\n",
    "print(\"Table created successfully.\")\n",
    "\n",
    "# Insert data from DataFrame into the table\n",
    "rockets.to_sql(\"ROCKETS\", conn, if_exists=\"append\", index=False)\n",
    "print(\"Data inserted successfully.\")\n",
    "\n",
    "# Commit changes and close the connection\n",
    "conn.commit()\n",
    "conn.close()"
   ],
   "metadata": {
    "collapsed": false,
    "ExecuteTime": {
     "end_time": "2024-12-08T02:47:37.505991Z",
     "start_time": "2024-12-08T02:47:37.475542Z"
    }
   },
   "id": "66911f917fc4ce86",
   "execution_count": 13
  },
  {
   "cell_type": "code",
   "outputs": [
    {
     "data": {
      "text/plain": "                  Type  Mass  Capacity   ID\n3        Modular Miner  28.0      60.0  S01\n8     Deep Space Miner  35.0      90.0  S02\n10  Asteroid Harvester  25.0      40.0  S03\n13       Modular Miner  35.0      70.0  S04\n15   Cargo Transporter  45.0      50.0  S05\n19       Cargo Shuttle   2.5       8.0  S06",
      "text/html": "<div>\n<style scoped>\n    .dataframe tbody tr th:only-of-type {\n        vertical-align: middle;\n    }\n\n    .dataframe tbody tr th {\n        vertical-align: top;\n    }\n\n    .dataframe thead th {\n        text-align: right;\n    }\n</style>\n<table border=\"1\" class=\"dataframe\">\n  <thead>\n    <tr style=\"text-align: right;\">\n      <th></th>\n      <th>Type</th>\n      <th>Mass</th>\n      <th>Capacity</th>\n      <th>ID</th>\n    </tr>\n  </thead>\n  <tbody>\n    <tr>\n      <th>3</th>\n      <td>Modular Miner</td>\n      <td>28.0</td>\n      <td>60.0</td>\n      <td>S01</td>\n    </tr>\n    <tr>\n      <th>8</th>\n      <td>Deep Space Miner</td>\n      <td>35.0</td>\n      <td>90.0</td>\n      <td>S02</td>\n    </tr>\n    <tr>\n      <th>10</th>\n      <td>Asteroid Harvester</td>\n      <td>25.0</td>\n      <td>40.0</td>\n      <td>S03</td>\n    </tr>\n    <tr>\n      <th>13</th>\n      <td>Modular Miner</td>\n      <td>35.0</td>\n      <td>70.0</td>\n      <td>S04</td>\n    </tr>\n    <tr>\n      <th>15</th>\n      <td>Cargo Transporter</td>\n      <td>45.0</td>\n      <td>50.0</td>\n      <td>S05</td>\n    </tr>\n    <tr>\n      <th>19</th>\n      <td>Cargo Shuttle</td>\n      <td>2.5</td>\n      <td>8.0</td>\n      <td>S06</td>\n    </tr>\n  </tbody>\n</table>\n</div>"
     },
     "execution_count": 14,
     "metadata": {},
     "output_type": "execute_result"
    }
   ],
   "source": [
    "spacecraft.drop('Mining Capability (dm3/h)', axis=1, inplace=True)\n",
    "spacecraft.rename(columns={'Mass (tons)': 'Mass', 'Cargo Capacity (tons)': 'Capacity'}, inplace=True)\n",
    "spacecraft"
   ],
   "metadata": {
    "collapsed": false,
    "ExecuteTime": {
     "end_time": "2024-12-08T02:47:37.536505Z",
     "start_time": "2024-12-08T02:47:37.510351Z"
    }
   },
   "id": "4ef5915d7689f81a",
   "execution_count": 14
  },
  {
   "cell_type": "markdown",
   "source": [
    "Type -- Type of spacecraft.\n",
    "Mass -- Mass of spacecraft.\n",
    "Capacity -- Max volume possible to carry by spacecraft.\n",
    "ID -- ID of spacecraft type."
   ],
   "metadata": {
    "collapsed": false
   },
   "id": "13b34f7b85281317"
  },
  {
   "cell_type": "code",
   "outputs": [
    {
     "name": "stdout",
     "output_type": "stream",
     "text": [
      "Table created successfully.\n",
      "Data inserted successfully.\n"
     ]
    }
   ],
   "source": [
    "import sqlite3\n",
    "\n",
    "# Connect to SQLite database\n",
    "conn = sqlite3.connect(\"database.db\")\n",
    "cursor = conn.cursor()\n",
    "\n",
    "# Create the table\n",
    "cursor.execute(\"DROP TABLE IF EXISTS SPACECRAFTS;\")\n",
    "cursor.execute(\"\"\"\n",
    "    CREATE TABLE SPACECRAFTS (\n",
    "    TYPE TEXT NOT NULL,\n",
    "    MASS REAL NOT NULL,\n",
    "    CAPACITY REAL NOT NULL,\n",
    "    ID TEXT NOT NULL\n",
    "    )\n",
    "\"\"\")\n",
    "print(\"Table created successfully.\")\n",
    "\n",
    "# Insert data from DataFrame into the table\n",
    "spacecraft.to_sql(\"SPACECRAFTS\", conn, if_exists=\"append\", index=False)\n",
    "print(\"Data inserted successfully.\")\n",
    "\n",
    "# Commit changes and close the connection\n",
    "conn.commit()\n",
    "conn.close()"
   ],
   "metadata": {
    "collapsed": false,
    "ExecuteTime": {
     "end_time": "2024-12-08T02:47:37.566898Z",
     "start_time": "2024-12-08T02:47:37.537758Z"
    }
   },
   "id": "44b4f21c12fe539c",
   "execution_count": 15
  }
 ],
 "metadata": {
  "kernelspec": {
   "display_name": "Python 3",
   "language": "python",
   "name": "python3"
  },
  "language_info": {
   "codemirror_mode": {
    "name": "ipython",
    "version": 2
   },
   "file_extension": ".py",
   "mimetype": "text/x-python",
   "name": "python",
   "nbconvert_exporter": "python",
   "pygments_lexer": "ipython2",
   "version": "2.7.6"
  }
 },
 "nbformat": 4,
 "nbformat_minor": 5
}
